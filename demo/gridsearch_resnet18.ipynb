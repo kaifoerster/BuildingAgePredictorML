{
 "cells": [
  {
   "cell_type": "markdown",
   "metadata": {},
   "source": [
    "# Gridsearch for best ResNet model "
   ]
  },
  {
   "cell_type": "markdown",
   "metadata": {},
   "source": [
    "## Set up packages and server"
   ]
  },
  {
   "cell_type": "code",
   "execution_count": 22,
   "metadata": {},
   "outputs": [],
   "source": [
    "# specify the GPU\n",
    "import os\n",
    "os.environ['TORCH_HOME'] = 'your/own/cache/directory'\n",
    "os.environ['CUDA_VISIBLE_DEVICES'] = '2'"
   ]
  },
  {
   "cell_type": "code",
   "execution_count": 23,
   "metadata": {},
   "outputs": [],
   "source": [
    "# Data visualization\n",
    "import plotly.express as px\n",
    "from ipywidgets import interact\n",
    "\n",
    "# Data processing\n",
    "import pandas as pd\n",
    "import numpy as np\n",
    "import geopandas as gpd\n",
    "\n",
    "# Model training\n",
    "import torch\n",
    "import torch.nn as nn\n",
    "import torch.nn.functional as F\n",
    "from torchvision import models\n",
    "import copy\n",
    "from torch.optim import Adam\n",
    "from torch.nn import CrossEntropyLoss\n",
    "from torch.utils.data import DataLoader\n",
    "from torch.optim.lr_scheduler import ReduceLROnPlateau\n",
    "\n",
    "import timm\n",
    "from sklearn.model_selection import GroupShuffleSplit\n",
    "\n",
    "# Others\n",
    "import os\n",
    "import sys\n",
    "import gc\n",
    "from pathlib import Path\n",
    "import os.path\n",
    "\n",
    "\n",
    "from sklearn.metrics import accuracy_score, precision_recall_fscore_support, confusion_matrix, matthews_corrcoef, cohen_kappa_score\n",
    "import matplotlib.pyplot as plt\n",
    "import seaborn as sns\n",
    "import random\n",
    "import matplotlib.lines as mlines\n",
    "\n",
    "\n",
    "from torchvision import transforms\n",
    "from torch.utils.data import DataLoader, Dataset\n",
    "from PIL import Image\n",
    "from tqdm.notebook import tqdm\n",
    "\n",
    "\n",
    "# project lib\n",
    "PROJECT_SRC_PATH = os.path.join( '/workspace/workspace/ufo-prediction', 'src-RCA-UFO')\n",
    "sys.path.append(PROJECT_SRC_PATH)\n",
    "import dataset\n",
    "import visualizations"
   ]
  },
  {
   "cell_type": "code",
   "execution_count": 24,
   "metadata": {},
   "outputs": [],
   "source": [
    "torch.cuda.empty_cache()"
   ]
  },
  {
   "cell_type": "code",
   "execution_count": 25,
   "metadata": {},
   "outputs": [
    {
     "name": "stdout",
     "output_type": "stream",
     "text": [
      "Device: cuda:0\n",
      "GPU: NVIDIA A100-PCIE-40GB\n"
     ]
    }
   ],
   "source": [
    "# Check is GPU is enabled\n",
    "device = torch.device(\"cuda:0\" if torch.cuda.is_available() else \"cpu\")\n",
    "print(\"Device: {}\".format(device))\n",
    "\n",
    "# Get specific GPU model\n",
    "if str(device) == \"cuda:0\":\n",
    "  print(\"GPU: {}\".format(torch.cuda.get_device_name(0)))"
   ]
  },
  {
   "cell_type": "markdown",
   "metadata": {},
   "source": [
    "## Load and preprocess the training and validation data"
   ]
  },
  {
   "cell_type": "code",
   "execution_count": 5,
   "metadata": {},
   "outputs": [],
   "source": [
    "def extract_building_id(filepath):\n",
    "    \"\"\"\n",
    "    Extracts the building ID from the given filepath string.\n",
    "    Knowing that the building ID always contains an underscore and considering the filename\n",
    "    format '[age_right]_[building_id]_[subscript].jpg', this function returns the 'building_id'.\n",
    "    \"\"\"\n",
    "    # Isolate the filename from the filepath\n",
    "    filename = filepath.split('/')[-1]\n",
    "    # Split the filename at underscores\n",
    "    parts = filename.split('_')\n",
    "    # Considering the first part is age_right and the last part is the subscript with .jpg,\n",
    "    # the building ID is everything in between.\n",
    "    # Rejoin the middle parts to account for underscores within the building ID itself.\n",
    "    building_id = '_'.join(parts[1:-1])\n",
    "    return building_id\n",
    "\n",
    "def get_age_bracket(age):\n",
    "    if 1900 <= age <= 1924:\n",
    "        return '1900-1924'\n",
    "    elif 1925 <= age <= 1945:\n",
    "        return '1925-1945'\n",
    "    elif 1946 <= age <= 1959:\n",
    "        return '1946-1959'\n",
    "    elif 1960 <= age <= 1969:\n",
    "        return '1960-1969'\n",
    "    elif 1970 <= age <= 1984:\n",
    "        return '1970-1984'\n",
    "    elif 1985 <= age <= 1999:\n",
    "        return '1985-1999'\n",
    "    elif 2000 <= age <= 2050:\n",
    "        return '2000-2050'\n",
    "    else:\n",
    "        return 'Unknown'  # For ages outside the specified brackets or if age couldn't be determined\n",
    "    \n",
    "def extract_age_and_name(filepath):\n",
    "    filename = os.path.basename(filepath)  # Get the filename from the filepath\n",
    "    age_and_name = filename.split('.')[0]  # Split by dot and take the first part\n",
    "    age = ''.join(filter(str.isdigit, age_and_name))[:4]  # Extract first 4 digits for age\n",
    "    if age:  # Ensure age string is not empty\n",
    "        age = int(age)\n",
    "        age_bracket = get_age_bracket(age)  # Get the age bracket\n",
    "    else:  # Default age if no digits found\n",
    "        age_bracket = 'Unknown'\n",
    "    return age_bracket\n",
    "\n",
    "\n",
    "age_bracket_to_int = {\n",
    "    '1900-1924': 0,\n",
    "    '1925-1945': 1,\n",
    "    '1946-1959': 2,\n",
    "    '1960-1969': 3,\n",
    "    '1970-1984': 4,\n",
    "    '1985-1999': 5,\n",
    "    '2000-2050': 6\n",
    "}"
   ]
  },
  {
   "cell_type": "code",
   "execution_count": 6,
   "metadata": {},
   "outputs": [
    {
     "name": "stdout",
     "output_type": "stream",
     "text": [
      "                                            Filepath Age Brackets  \\\n",
      "0  /workspace/workspace/ufo-prediction/image_data...    1985-1999   \n",
      "1  /workspace/workspace/ufo-prediction/image_data...    1900-1924   \n",
      "2  /workspace/workspace/ufo-prediction/image_data...    1900-1924   \n",
      "3  /workspace/workspace/ufo-prediction/image_data...    1970-1984   \n",
      "4  /workspace/workspace/ufo-prediction/image_data...    1900-1924   \n",
      "\n",
      "                  Building ID  Target  \n",
      "0  v0.1-ESP.14.2.1.42_1-19840       5  \n",
      "1    v0.1-FRA.11.2.3.5_1-2637       0  \n",
      "2   v0.1-FRA.13.2.1.2_1-13623       0  \n",
      "3       v0.1-NLD.7.44_1-49297       4  \n",
      "4    v0.1-FRA.7.2.6.8_1-19227       0  \n"
     ]
    }
   ],
   "source": [
    "directories = [\n",
    "    #Path('/workspace/workspace/ufo-prediction/image_data_NLD'),\n",
    "    #Path('/workspace/workspace/ufo-prediction/image_data_ESP'),  # Add your second directory path here\n",
    "    #Path('/workspace/workspace/ufo-prediction/image_data_FRA'),\n",
    "    Path('/workspace/workspace/ufo-prediction/image_data_NLD_adv'),\n",
    "    Path('/workspace/workspace/ufo-prediction/image_data_ESP_adv'),  # Add your second directory path here\n",
    "    Path('/workspace/workspace/ufo-prediction/image_data_FRA_adv')\n",
    "   # Add your third directory path here\n",
    "]\n",
    "\n",
    "filepaths = pd.Series(\n",
    "    [item for directory in directories for item in directory.glob('**/*.jpg')],\n",
    "    name='Filepath'\n",
    ").astype(str)\n",
    "\n",
    "age_brackets = pd.Series(filepaths.apply(lambda x: extract_age_and_name(x)), name='Age Brackets')\n",
    "building_ids = pd.Series(filepaths.apply(extract_building_id), name='Building ID')\n",
    "\n",
    "# Filter to exclude 'Unknown' age brackets and corresponding filepaths and building IDs\n",
    "filtered_indices = age_brackets != 'Unknown'\n",
    "filtered_age_brackets = age_brackets[filtered_indices]\n",
    "filtered_filepaths = filepaths[filtered_indices]\n",
    "filtered_building_ids = building_ids[filtered_indices]\n",
    "\n",
    "# Create DataFrame\n",
    "trainval_df = pd.concat([filtered_filepaths, filtered_age_brackets, filtered_building_ids], axis=1)\n",
    "trainval_df = trainval_df.sample(frac=1.0, random_state=1).reset_index(drop=True)\n",
    "trainval_df['Target'] = trainval_df['Age Brackets'].map(age_bracket_to_int)\n",
    "\n",
    "print(trainval_df.head())"
   ]
  },
  {
   "cell_type": "code",
   "execution_count": 7,
   "metadata": {},
   "outputs": [
    {
     "data": {
      "text/plain": [
       "40535"
      ]
     },
     "execution_count": 7,
     "metadata": {},
     "output_type": "execute_result"
    }
   ],
   "source": [
    "len(trainval_df)"
   ]
  },
  {
   "cell_type": "code",
   "execution_count": 8,
   "metadata": {},
   "outputs": [
    {
     "name": "stdout",
     "output_type": "stream",
     "text": [
      "Training set size: (24094, 4)\n",
      "Validation set size: (11519, 4)\n",
      "Testing set size: (4922, 4)\n",
      "\n",
      "Sample training data:                                             Filepath Age Brackets  \\\n",
      "1  /workspace/workspace/ufo-prediction/image_data...    1900-1924   \n",
      "3  /workspace/workspace/ufo-prediction/image_data...    1970-1984   \n",
      "4  /workspace/workspace/ufo-prediction/image_data...    1900-1924   \n",
      "6  /workspace/workspace/ufo-prediction/image_data...    1960-1969   \n",
      "7  /workspace/workspace/ufo-prediction/image_data...    1900-1924   \n",
      "\n",
      "                Building ID  Target  \n",
      "1  v0.1-FRA.11.2.3.5_1-2637       0  \n",
      "3     v0.1-NLD.7.44_1-49297       4  \n",
      "4  v0.1-FRA.7.2.6.8_1-19227       0  \n",
      "6  v0.1-FRA.6.3.7.4_1-18036       3  \n",
      "7     v0.1-NLD.12.9_1-14759       0  \n",
      "\n",
      "Sample validation data:                                              Filepath Age Brackets  \\\n",
      "0   /workspace/workspace/ufo-prediction/image_data...    1985-1999   \n",
      "2   /workspace/workspace/ufo-prediction/image_data...    1900-1924   \n",
      "8   /workspace/workspace/ufo-prediction/image_data...    1946-1959   \n",
      "17  /workspace/workspace/ufo-prediction/image_data...    1946-1959   \n",
      "19  /workspace/workspace/ufo-prediction/image_data...    1946-1959   \n",
      "\n",
      "                   Building ID  Target  \n",
      "0   v0.1-ESP.14.2.1.42_1-19840       5  \n",
      "2    v0.1-FRA.13.2.1.2_1-13623       0  \n",
      "8        v0.1-NLD.12.9_1-17612       2  \n",
      "17        v0.1-NLD.12.9_1-6120       2  \n",
      "19    v0.1-FRA.3.4.1.11_1-5213       2  \n",
      "\n",
      "Sample testing data:                                              Filepath Age Brackets  \\\n",
      "5   /workspace/workspace/ufo-prediction/image_data...    1925-1945   \n",
      "29  /workspace/workspace/ufo-prediction/image_data...    1925-1945   \n",
      "34  /workspace/workspace/ufo-prediction/image_data...    1960-1969   \n",
      "36  /workspace/workspace/ufo-prediction/image_data...    1970-1984   \n",
      "44  /workspace/workspace/ufo-prediction/image_data...    1900-1924   \n",
      "\n",
      "                 Building ID  Target  \n",
      "5      v0.1-NLD.7.44_1-37123       1  \n",
      "29   v0.1-ESP.10.2.7.8_1-944       1  \n",
      "34    v0.1-NLD.10.11_1-48012       3  \n",
      "36  v0.1-ESP.12.4.3.10_1-570       4  \n",
      "44  v0.1-FRA.10.7.3.8_1-5195       0  \n"
     ]
    }
   ],
   "source": [
    "# Initialize the GroupShuffleSplit\n",
    "gss = GroupShuffleSplit(n_splits=1, train_size=0.6, random_state=np.random.randint(1, 10000))\n",
    "\n",
    "# Split the DataFrame into training and validation+test sets\n",
    "# We use 'Building ID' as the groups to keep images of the same building together\n",
    "train_idx, valtest_idx = next(gss.split(trainval_df, groups=trainval_df['Building ID']))\n",
    "train_df = trainval_df.iloc[train_idx]\n",
    "valtest_df = trainval_df.iloc[valtest_idx]\n",
    "\n",
    "# Now split the validation+test set into validation and test sets\n",
    "gss_val_test = GroupShuffleSplit(n_splits=1, train_size=0.7, random_state=1)\n",
    "val_idx, test_idx = next(gss_val_test.split(valtest_df, groups=valtest_df['Building ID']))\n",
    "val_df = valtest_df.iloc[val_idx]\n",
    "test_df = valtest_df.iloc[test_idx]\n",
    "\n",
    "# Check the sizes of each set and sample outputs\n",
    "print(\"Training set size:\", train_df.shape)\n",
    "print(\"Validation set size:\", val_df.shape)\n",
    "print(\"Testing set size:\", test_df.shape)\n",
    "print(\"\\nSample training data:\", train_df.head())\n",
    "print(\"\\nSample validation data:\", val_df.head())\n",
    "print(\"\\nSample testing data:\", test_df.head())\n"
   ]
  },
  {
   "cell_type": "code",
   "execution_count": 9,
   "metadata": {},
   "outputs": [
    {
     "name": "stdout",
     "output_type": "stream",
     "text": [
      "Check passed: No building ID appears in more than one dataset.\n"
     ]
    }
   ],
   "source": [
    "def check_building_id_exclusivity(train_df, val_df, test_df):\n",
    "    # Extract building IDs from each dataset into sets\n",
    "    train_ids = set(train_df['Building ID'])\n",
    "    val_ids = set(val_df['Building ID'])\n",
    "    test_ids = set(test_df['Building ID'])\n",
    "\n",
    "    # Check for intersections between the sets\n",
    "    train_val_intersection = train_ids.intersection(val_ids)\n",
    "    train_test_intersection = train_ids.intersection(test_ids)\n",
    "    val_test_intersection = val_ids.intersection(test_ids)\n",
    "\n",
    "    # Report the results\n",
    "    if not train_val_intersection and not train_test_intersection and not val_test_intersection:\n",
    "        print(\"Check passed: No building ID appears in more than one dataset.\")\n",
    "    else:\n",
    "        if train_val_intersection:\n",
    "            print(\"Overlap found between training and validation datasets:\", train_val_intersection)\n",
    "        if train_test_intersection:\n",
    "            print(\"Overlap found between training and testing datasets:\", train_test_intersection)\n",
    "        if val_test_intersection:\n",
    "            print(\"Overlap found between validation and testing datasets:\", val_test_intersection)\n",
    "\n",
    "# Example usage:\n",
    "check_building_id_exclusivity(train_df, val_df, test_df)\n"
   ]
  },
  {
   "cell_type": "code",
   "execution_count": 10,
   "metadata": {},
   "outputs": [],
   "source": [
    "class AgeBracketDataset(Dataset):\n",
    "    def __init__(self, dataframe, transform=None):\n",
    "        self.dataframe = dataframe\n",
    "        self.transform = transform\n",
    "\n",
    "    def __len__(self):\n",
    "        return len(self.dataframe)\n",
    "\n",
    "    def __getitem__(self, idx):\n",
    "        img_path = self.dataframe.iloc[idx, 0]\n",
    "        image = Image.open(img_path).convert(\"RGB\")\n",
    "        label = int(self.dataframe.iloc[idx, -1])  # Assuming the label/target is in the third column\n",
    "\n",
    "        if self.transform:\n",
    "            image = self.transform(image)\n",
    "\n",
    "        return image, label\n",
    "\n"
   ]
  },
  {
   "cell_type": "code",
   "execution_count": 11,
   "metadata": {},
   "outputs": [],
   "source": [
    "augument_transforms = transforms.Compose([\n",
    "    transforms.RandomResizedCrop(224),  # ResNet-18 expects 224x224 inputs\n",
    "    transforms.RandomHorizontalFlip(),  # A common form of augmentation\n",
    "    transforms.RandomRotation(15),  # Rotates the image by up to 15 degrees\n",
    "    transforms.ColorJitter(brightness=0.1, contrast=0.1, saturation=0.1, hue=0.1),  # Randomly jitters color\n",
    "    transforms.RandomAffine(degrees=0, translate=(0.1, 0.1), scale=(0.9, 1.1)),\n",
    "    transforms.ToTensor(),\n",
    "    transforms.Normalize([0.485, 0.456, 0.406], [0.229, 0.224, 0.225])  # Normalization\n",
    "])\n",
    "\n",
    "train_transforms = transforms.Compose([\n",
    "    transforms.RandomResizedCrop(224),  # ResNet-18 expects 224x224 inputs\n",
    "    transforms.RandomHorizontalFlip(),  # A common form of augmentation\n",
    "    #transforms.RandomRotation(15),  # Rotates the image by up to 15 degrees\n",
    "    #transforms.ColorJitter(brightness=0.1, contrast=0.1, saturation=0.1, hue=0.1),  # Randomly jitters color\n",
    "    #transforms.RandomAffine(degrees=0, translate=(0.1, 0.1), scale=(0.9, 1.1)),\n",
    "    transforms.ToTensor(),\n",
    "    transforms.Normalize([0.485, 0.456, 0.406], [0.229, 0.224, 0.225])  # Normalization\n",
    "])\n",
    "\n",
    "val_test_transforms = transforms.Compose([\n",
    "    transforms.Resize(256),\n",
    "    transforms.CenterCrop(224),\n",
    "    transforms.ToTensor(),\n",
    "    transforms.Normalize([0.485, 0.456, 0.406], [0.229, 0.224, 0.225])\n",
    "])\n",
    "\n",
    "train_dataset = AgeBracketDataset(train_df, transform=train_transforms)\n",
    "train_loader = DataLoader(train_dataset, batch_size=32, shuffle=True)\n",
    "\n",
    "val_dataset = AgeBracketDataset(val_df, transform=val_test_transforms)\n",
    "val_loader = DataLoader(val_dataset, batch_size=32, shuffle=True)\n",
    "\n",
    "test_dataset = AgeBracketDataset(test_df, transform=val_test_transforms)\n",
    "test_loader = DataLoader(test_dataset, batch_size=32, shuffle=True)"
   ]
  },
  {
   "cell_type": "markdown",
   "metadata": {},
   "source": [
    "## Model setup"
   ]
  },
  {
   "cell_type": "code",
   "execution_count": 12,
   "metadata": {},
   "outputs": [],
   "source": [
    "def train_and_evaluate_val_loss(model, train_loader, val_loader, optimizer, criterion, scheduler, num_epochs=50, patience=7, config_details=None):\n",
    "    device = torch.device(\"cuda\" if torch.cuda.is_available() else \"cpu\")\n",
    "    best_val_loss = float('inf')  # Initialize the best validation loss as infinity\n",
    "    best_model_wts = copy.deepcopy(model.state_dict())\n",
    "    epochs_no_improve = 0\n",
    "    early_stop = False\n",
    "    history = []\n",
    "\n",
    "    for epoch in range(num_epochs):\n",
    "        model.train()  # Set model to training mode\n",
    "        running_loss = 0.0\n",
    "        # Use tqdm for the training loop\n",
    "        progress_bar = tqdm(train_loader, desc=f'Epoch {epoch+1}/{num_epochs}', leave=False)\n",
    "        # Training phase\n",
    "        for inputs, labels in train_loader:\n",
    "            inputs, labels = inputs.to(device), labels.to(device)\n",
    "\n",
    "            optimizer.zero_grad()\n",
    "            outputs = model(inputs)\n",
    "            loss = criterion(outputs, labels)\n",
    "            loss.backward()\n",
    "            optimizer.step()\n",
    "\n",
    "            running_loss += loss.item()\n",
    "            progress_bar.set_description(f'Training Loss: {running_loss / (progress_bar.n + 1):.4f}')\n",
    "            progress_bar.update()  # Ensure this call is here to update the progress for each iteration\n",
    "            \n",
    "        # Validation phase\n",
    "        model.eval()\n",
    "        val_loss = 0.0\n",
    "        with torch.no_grad():\n",
    "            for inputs, labels in val_loader:\n",
    "                inputs, labels = inputs.to(device), labels.to(device)\n",
    "                outputs = model(inputs)\n",
    "                loss = criterion(outputs, labels)\n",
    "                val_loss += loss.item()\n",
    "\n",
    "        avg_val_loss = val_loss / len(val_loader)\n",
    "        history.append({'epoch': epoch + 1, 'validation_loss': avg_val_loss, **config_details})\n",
    "\n",
    "        print(f'Epoch {epoch+1}/{num_epochs}, Training Loss: {running_loss / len(train_loader):.4f}, Validation Loss: {avg_val_loss:.4f}')\n",
    "        \n",
    "        scheduler.step(avg_val_loss)  # Learning rate scheduler step based on validation loss\n",
    "\n",
    "        # Check for improvement based on validation loss\n",
    "        if avg_val_loss < best_val_loss:\n",
    "            best_val_loss = avg_val_loss\n",
    "            best_model_wts = copy.deepcopy(model.state_dict())\n",
    "            epochs_no_improve = 0\n",
    "        else:\n",
    "            epochs_no_improve += 1\n",
    "\n",
    "        # Early stopping check\n",
    "        if epochs_no_improve >= patience:\n",
    "            print(f'Early stopping triggered after {epoch + 1} epochs.')\n",
    "            early_stop = True\n",
    "            break\n",
    "    \n",
    "    progress_bar.close()\n",
    "    \n",
    "    if not early_stop:\n",
    "        print('Reached maximum epoch limit.')\n",
    "\n",
    "    # Load best model weights based on lowest validation loss\n",
    "    model.load_state_dict(best_model_wts)\n",
    "    history_df = pd.DataFrame(history)\n",
    "    return best_val_loss, history_df  # Return the best validation loss achieved\n"
   ]
  },
  {
   "cell_type": "markdown",
   "metadata": {},
   "source": [
    "## Grid search 3 over learning rate, data augumentation and weights"
   ]
  },
  {
   "cell_type": "code",
   "execution_count": 13,
   "metadata": {},
   "outputs": [
    {
     "name": "stdout",
     "output_type": "stream",
     "text": [
      "Training with batch size: 32, learning rate: 0.0005, unfreeze option: last_two, weight_decay: 0.0005, augument: False\n"
     ]
    },
    {
     "data": {
      "application/vnd.jupyter.widget-view+json": {
       "model_id": "42395cccc8104040ac6100b48c88b690",
       "version_major": 2,
       "version_minor": 0
      },
      "text/plain": [
       "Epoch 1/15:   0%|          | 0/753 [00:00<?, ?it/s]"
      ]
     },
     "metadata": {},
     "output_type": "display_data"
    },
    {
     "name": "stderr",
     "output_type": "stream",
     "text": [
      "/.local/lib/python3.8/site-packages/torch/nn/functional.py:718: UserWarning: Named tensors and all their associated APIs are an experimental feature and subject to change. Please do not use them for anything important until they are released as stable. (Triggered internally at  /pytorch/c10/core/TensorImpl.h:1156.)\n",
      "  return torch.max_pool2d(input, kernel_size, stride, padding, dilation, ceil_mode)\n"
     ]
    },
    {
     "name": "stdout",
     "output_type": "stream",
     "text": [
      "Epoch 1/15, Training Loss: 1.8986, Validation Loss: 1.9326\n"
     ]
    },
    {
     "data": {
      "application/vnd.jupyter.widget-view+json": {
       "model_id": "fe5f46160106489e8facc34ce340ea37",
       "version_major": 2,
       "version_minor": 0
      },
      "text/plain": [
       "Epoch 2/15:   0%|          | 0/753 [00:00<?, ?it/s]"
      ]
     },
     "metadata": {},
     "output_type": "display_data"
    },
    {
     "name": "stdout",
     "output_type": "stream",
     "text": [
      "Epoch 2/15, Training Loss: 1.8446, Validation Loss: 1.8987\n"
     ]
    },
    {
     "data": {
      "application/vnd.jupyter.widget-view+json": {
       "model_id": "2f3e46171d0b4b20b5e184eb84a5a03a",
       "version_major": 2,
       "version_minor": 0
      },
      "text/plain": [
       "Epoch 3/15:   0%|          | 0/753 [00:00<?, ?it/s]"
      ]
     },
     "metadata": {},
     "output_type": "display_data"
    },
    {
     "name": "stdout",
     "output_type": "stream",
     "text": [
      "Epoch 3/15, Training Loss: 1.8203, Validation Loss: 1.9550\n"
     ]
    },
    {
     "data": {
      "application/vnd.jupyter.widget-view+json": {
       "model_id": "20a3b883b15d450a9ff8c916a9d99ba3",
       "version_major": 2,
       "version_minor": 0
      },
      "text/plain": [
       "Epoch 4/15:   0%|          | 0/753 [00:00<?, ?it/s]"
      ]
     },
     "metadata": {},
     "output_type": "display_data"
    },
    {
     "name": "stdout",
     "output_type": "stream",
     "text": [
      "Epoch 4/15, Training Loss: 1.8027, Validation Loss: 1.9170\n"
     ]
    },
    {
     "data": {
      "application/vnd.jupyter.widget-view+json": {
       "model_id": "a45394838d1b47deb5b200f3b493aa70",
       "version_major": 2,
       "version_minor": 0
      },
      "text/plain": [
       "Epoch 5/15:   0%|          | 0/753 [00:00<?, ?it/s]"
      ]
     },
     "metadata": {},
     "output_type": "display_data"
    },
    {
     "name": "stdout",
     "output_type": "stream",
     "text": [
      "Epoch 5/15, Training Loss: 1.7902, Validation Loss: 1.9375\n",
      "Epoch     5: reducing learning rate of group 0 to 1.2500e-04.\n"
     ]
    },
    {
     "data": {
      "application/vnd.jupyter.widget-view+json": {
       "model_id": "e2878b29ecdf46bda42e485276fc1de3",
       "version_major": 2,
       "version_minor": 0
      },
      "text/plain": [
       "Epoch 6/15:   0%|          | 0/753 [00:00<?, ?it/s]"
      ]
     },
     "metadata": {},
     "output_type": "display_data"
    },
    {
     "name": "stdout",
     "output_type": "stream",
     "text": [
      "Epoch 6/15, Training Loss: 1.7124, Validation Loss: 1.8593\n"
     ]
    },
    {
     "data": {
      "application/vnd.jupyter.widget-view+json": {
       "model_id": "028e82ef137b4a48af827accdb73a105",
       "version_major": 2,
       "version_minor": 0
      },
      "text/plain": [
       "Epoch 7/15:   0%|          | 0/753 [00:00<?, ?it/s]"
      ]
     },
     "metadata": {},
     "output_type": "display_data"
    },
    {
     "name": "stdout",
     "output_type": "stream",
     "text": [
      "Epoch 7/15, Training Loss: 1.6756, Validation Loss: 1.8983\n"
     ]
    },
    {
     "data": {
      "application/vnd.jupyter.widget-view+json": {
       "model_id": "fc574b54edc54888a0e4aa38e002ae47",
       "version_major": 2,
       "version_minor": 0
      },
      "text/plain": [
       "Epoch 8/15:   0%|          | 0/753 [00:00<?, ?it/s]"
      ]
     },
     "metadata": {},
     "output_type": "display_data"
    },
    {
     "name": "stdout",
     "output_type": "stream",
     "text": [
      "Epoch 8/15, Training Loss: 1.6483, Validation Loss: 1.8911\n"
     ]
    },
    {
     "data": {
      "application/vnd.jupyter.widget-view+json": {
       "model_id": "62e4ff7000204f9c94b45ec331de59d4",
       "version_major": 2,
       "version_minor": 0
      },
      "text/plain": [
       "Epoch 9/15:   0%|          | 0/753 [00:00<?, ?it/s]"
      ]
     },
     "metadata": {},
     "output_type": "display_data"
    },
    {
     "name": "stdout",
     "output_type": "stream",
     "text": [
      "Epoch 9/15, Training Loss: 1.6265, Validation Loss: 1.8913\n",
      "Epoch     9: reducing learning rate of group 0 to 3.1250e-05.\n"
     ]
    },
    {
     "data": {
      "application/vnd.jupyter.widget-view+json": {
       "model_id": "3b21a5ce7a934e858b230d4f488b08dc",
       "version_major": 2,
       "version_minor": 0
      },
      "text/plain": [
       "Epoch 10/15:   0%|          | 0/753 [00:00<?, ?it/s]"
      ]
     },
     "metadata": {},
     "output_type": "display_data"
    },
    {
     "name": "stdout",
     "output_type": "stream",
     "text": [
      "Epoch 10/15, Training Loss: 1.5708, Validation Loss: 1.9389\n"
     ]
    },
    {
     "data": {
      "application/vnd.jupyter.widget-view+json": {
       "model_id": "c8bf30a283f3409b9c5053f762d4d2ec",
       "version_major": 2,
       "version_minor": 0
      },
      "text/plain": [
       "Epoch 11/15:   0%|          | 0/753 [00:00<?, ?it/s]"
      ]
     },
     "metadata": {},
     "output_type": "display_data"
    },
    {
     "name": "stdout",
     "output_type": "stream",
     "text": [
      "Epoch 11/15, Training Loss: 1.5535, Validation Loss: 1.9376\n"
     ]
    },
    {
     "data": {
      "application/vnd.jupyter.widget-view+json": {
       "model_id": "86a325bad0c9403dabce7aca17036be3",
       "version_major": 2,
       "version_minor": 0
      },
      "text/plain": [
       "Epoch 12/15:   0%|          | 0/753 [00:00<?, ?it/s]"
      ]
     },
     "metadata": {},
     "output_type": "display_data"
    },
    {
     "name": "stdout",
     "output_type": "stream",
     "text": [
      "Epoch 12/15, Training Loss: 1.5347, Validation Loss: 1.9446\n",
      "Epoch    12: reducing learning rate of group 0 to 7.8125e-06.\n",
      "Early stopping triggered after 12 epochs.\n",
      "Training with batch size: 32, learning rate: 0.0005, unfreeze option: last_two, weight_decay: 0.0005, augument: True\n"
     ]
    },
    {
     "data": {
      "application/vnd.jupyter.widget-view+json": {
       "model_id": "674f3b194af94e3cab5691a5c6a73350",
       "version_major": 2,
       "version_minor": 0
      },
      "text/plain": [
       "Epoch 1/15:   0%|          | 0/753 [00:00<?, ?it/s]"
      ]
     },
     "metadata": {},
     "output_type": "display_data"
    },
    {
     "name": "stdout",
     "output_type": "stream",
     "text": [
      "Epoch 1/15, Training Loss: 1.9297, Validation Loss: 1.9530\n"
     ]
    },
    {
     "data": {
      "application/vnd.jupyter.widget-view+json": {
       "model_id": "06c8c4133e04482aa4ba3786d0ecf6d0",
       "version_major": 2,
       "version_minor": 0
      },
      "text/plain": [
       "Epoch 2/15:   0%|          | 0/753 [00:00<?, ?it/s]"
      ]
     },
     "metadata": {},
     "output_type": "display_data"
    },
    {
     "name": "stdout",
     "output_type": "stream",
     "text": [
      "Epoch 2/15, Training Loss: 1.8814, Validation Loss: 1.9070\n"
     ]
    },
    {
     "data": {
      "application/vnd.jupyter.widget-view+json": {
       "model_id": "c688d9b9272f46ceb1056b691e4aea68",
       "version_major": 2,
       "version_minor": 0
      },
      "text/plain": [
       "Epoch 3/15:   0%|          | 0/753 [00:00<?, ?it/s]"
      ]
     },
     "metadata": {},
     "output_type": "display_data"
    },
    {
     "name": "stdout",
     "output_type": "stream",
     "text": [
      "Epoch 3/15, Training Loss: 1.8690, Validation Loss: 1.9159\n"
     ]
    },
    {
     "data": {
      "application/vnd.jupyter.widget-view+json": {
       "model_id": "5cf1bf1153fa414093637ebcd4f33f3f",
       "version_major": 2,
       "version_minor": 0
      },
      "text/plain": [
       "Epoch 4/15:   0%|          | 0/753 [00:00<?, ?it/s]"
      ]
     },
     "metadata": {},
     "output_type": "display_data"
    },
    {
     "name": "stdout",
     "output_type": "stream",
     "text": [
      "Epoch 4/15, Training Loss: 1.8627, Validation Loss: 1.8935\n"
     ]
    },
    {
     "data": {
      "application/vnd.jupyter.widget-view+json": {
       "model_id": "2b6dbde4418e4c908f80b1dc0bb898b7",
       "version_major": 2,
       "version_minor": 0
      },
      "text/plain": [
       "Epoch 5/15:   0%|          | 0/753 [00:00<?, ?it/s]"
      ]
     },
     "metadata": {},
     "output_type": "display_data"
    },
    {
     "name": "stdout",
     "output_type": "stream",
     "text": [
      "Epoch 5/15, Training Loss: 1.8556, Validation Loss: 1.9236\n"
     ]
    },
    {
     "data": {
      "application/vnd.jupyter.widget-view+json": {
       "model_id": "7e25b36144784363a9df6f6705dfa09c",
       "version_major": 2,
       "version_minor": 0
      },
      "text/plain": [
       "Epoch 6/15:   0%|          | 0/753 [00:00<?, ?it/s]"
      ]
     },
     "metadata": {},
     "output_type": "display_data"
    },
    {
     "name": "stdout",
     "output_type": "stream",
     "text": [
      "Epoch 6/15, Training Loss: 1.8492, Validation Loss: 1.9157\n"
     ]
    },
    {
     "data": {
      "application/vnd.jupyter.widget-view+json": {
       "model_id": "23a859a3d6b04cd3a48b4d3c6a820edb",
       "version_major": 2,
       "version_minor": 0
      },
      "text/plain": [
       "Epoch 7/15:   0%|          | 0/753 [00:00<?, ?it/s]"
      ]
     },
     "metadata": {},
     "output_type": "display_data"
    },
    {
     "name": "stdout",
     "output_type": "stream",
     "text": [
      "Epoch 7/15, Training Loss: 1.8419, Validation Loss: 1.9088\n",
      "Epoch     7: reducing learning rate of group 0 to 1.2500e-04.\n"
     ]
    },
    {
     "data": {
      "application/vnd.jupyter.widget-view+json": {
       "model_id": "02e30cd971e740d781917cf08084c20f",
       "version_major": 2,
       "version_minor": 0
      },
      "text/plain": [
       "Epoch 8/15:   0%|          | 0/753 [00:00<?, ?it/s]"
      ]
     },
     "metadata": {},
     "output_type": "display_data"
    },
    {
     "name": "stdout",
     "output_type": "stream",
     "text": [
      "Epoch 8/15, Training Loss: 1.8078, Validation Loss: 1.9313\n"
     ]
    },
    {
     "data": {
      "application/vnd.jupyter.widget-view+json": {
       "model_id": "6f368dfe94e0463cb7a71a7221e67770",
       "version_major": 2,
       "version_minor": 0
      },
      "text/plain": [
       "Epoch 9/15:   0%|          | 0/753 [00:00<?, ?it/s]"
      ]
     },
     "metadata": {},
     "output_type": "display_data"
    },
    {
     "name": "stdout",
     "output_type": "stream",
     "text": [
      "Epoch 9/15, Training Loss: 1.7862, Validation Loss: 1.9073\n"
     ]
    },
    {
     "data": {
      "application/vnd.jupyter.widget-view+json": {
       "model_id": "f360820912cf48d3a562cabc7d8ad985",
       "version_major": 2,
       "version_minor": 0
      },
      "text/plain": [
       "Epoch 10/15:   0%|          | 0/753 [00:00<?, ?it/s]"
      ]
     },
     "metadata": {},
     "output_type": "display_data"
    },
    {
     "name": "stdout",
     "output_type": "stream",
     "text": [
      "Epoch 10/15, Training Loss: 1.7784, Validation Loss: 1.9090\n",
      "Epoch    10: reducing learning rate of group 0 to 3.1250e-05.\n",
      "Early stopping triggered after 10 epochs.\n",
      "Training with batch size: 32, learning rate: 0.0005, unfreeze option: last_two, weight_decay: 0.001, augument: False\n"
     ]
    },
    {
     "data": {
      "application/vnd.jupyter.widget-view+json": {
       "model_id": "713fe08eab424a1699a95e686e8148f8",
       "version_major": 2,
       "version_minor": 0
      },
      "text/plain": [
       "Epoch 1/15:   0%|          | 0/753 [00:00<?, ?it/s]"
      ]
     },
     "metadata": {},
     "output_type": "display_data"
    },
    {
     "name": "stdout",
     "output_type": "stream",
     "text": [
      "Epoch 1/15, Training Loss: 1.9003, Validation Loss: 1.9739\n"
     ]
    },
    {
     "data": {
      "application/vnd.jupyter.widget-view+json": {
       "model_id": "26dc6cb1768a48f7aadde260c3a2e052",
       "version_major": 2,
       "version_minor": 0
      },
      "text/plain": [
       "Epoch 2/15:   0%|          | 0/753 [00:00<?, ?it/s]"
      ]
     },
     "metadata": {},
     "output_type": "display_data"
    },
    {
     "name": "stdout",
     "output_type": "stream",
     "text": [
      "Epoch 2/15, Training Loss: 1.8529, Validation Loss: 1.9829\n"
     ]
    },
    {
     "data": {
      "application/vnd.jupyter.widget-view+json": {
       "model_id": "9dcde2e4451d4925b2b2e134bda8d3e7",
       "version_major": 2,
       "version_minor": 0
      },
      "text/plain": [
       "Epoch 3/15:   0%|          | 0/753 [00:00<?, ?it/s]"
      ]
     },
     "metadata": {},
     "output_type": "display_data"
    },
    {
     "name": "stdout",
     "output_type": "stream",
     "text": [
      "Epoch 3/15, Training Loss: 1.8455, Validation Loss: 1.8903\n"
     ]
    },
    {
     "data": {
      "application/vnd.jupyter.widget-view+json": {
       "model_id": "c07c711743714bb18c15dc29e69649b1",
       "version_major": 2,
       "version_minor": 0
      },
      "text/plain": [
       "Epoch 4/15:   0%|          | 0/753 [00:00<?, ?it/s]"
      ]
     },
     "metadata": {},
     "output_type": "display_data"
    },
    {
     "name": "stdout",
     "output_type": "stream",
     "text": [
      "Epoch 4/15, Training Loss: 1.8320, Validation Loss: 1.8991\n"
     ]
    },
    {
     "data": {
      "application/vnd.jupyter.widget-view+json": {
       "model_id": "562e6a49ca8841dba3839be356832061",
       "version_major": 2,
       "version_minor": 0
      },
      "text/plain": [
       "Epoch 5/15:   0%|          | 0/753 [00:00<?, ?it/s]"
      ]
     },
     "metadata": {},
     "output_type": "display_data"
    },
    {
     "name": "stdout",
     "output_type": "stream",
     "text": [
      "Epoch 5/15, Training Loss: 1.8238, Validation Loss: 1.9150\n"
     ]
    },
    {
     "data": {
      "application/vnd.jupyter.widget-view+json": {
       "model_id": "e355f4f41a6e4b5aa481a784a9855053",
       "version_major": 2,
       "version_minor": 0
      },
      "text/plain": [
       "Epoch 6/15:   0%|          | 0/753 [00:00<?, ?it/s]"
      ]
     },
     "metadata": {},
     "output_type": "display_data"
    },
    {
     "name": "stdout",
     "output_type": "stream",
     "text": [
      "Epoch 6/15, Training Loss: 1.8137, Validation Loss: 1.9253\n",
      "Epoch     6: reducing learning rate of group 0 to 1.2500e-04.\n"
     ]
    },
    {
     "data": {
      "application/vnd.jupyter.widget-view+json": {
       "model_id": "5bc5c598fbdf45a981fa61f5c7c15599",
       "version_major": 2,
       "version_minor": 0
      },
      "text/plain": [
       "Epoch 7/15:   0%|          | 0/753 [00:00<?, ?it/s]"
      ]
     },
     "metadata": {},
     "output_type": "display_data"
    },
    {
     "name": "stdout",
     "output_type": "stream",
     "text": [
      "Epoch 7/15, Training Loss: 1.7490, Validation Loss: 1.9067\n"
     ]
    },
    {
     "data": {
      "application/vnd.jupyter.widget-view+json": {
       "model_id": "937b9c1504a245bf987071a437bb3b49",
       "version_major": 2,
       "version_minor": 0
      },
      "text/plain": [
       "Epoch 8/15:   0%|          | 0/753 [00:00<?, ?it/s]"
      ]
     },
     "metadata": {},
     "output_type": "display_data"
    },
    {
     "name": "stdout",
     "output_type": "stream",
     "text": [
      "Epoch 8/15, Training Loss: 1.7191, Validation Loss: 1.8718\n"
     ]
    },
    {
     "data": {
      "application/vnd.jupyter.widget-view+json": {
       "model_id": "19d1443f5689455dbb68400dbc79368e",
       "version_major": 2,
       "version_minor": 0
      },
      "text/plain": [
       "Epoch 9/15:   0%|          | 0/753 [00:00<?, ?it/s]"
      ]
     },
     "metadata": {},
     "output_type": "display_data"
    },
    {
     "name": "stdout",
     "output_type": "stream",
     "text": [
      "Epoch 9/15, Training Loss: 1.6985, Validation Loss: 1.8909\n"
     ]
    },
    {
     "data": {
      "application/vnd.jupyter.widget-view+json": {
       "model_id": "ec10e2c9378f4112bdc0cc7991de06b2",
       "version_major": 2,
       "version_minor": 0
      },
      "text/plain": [
       "Epoch 10/15:   0%|          | 0/753 [00:00<?, ?it/s]"
      ]
     },
     "metadata": {},
     "output_type": "display_data"
    },
    {
     "name": "stdout",
     "output_type": "stream",
     "text": [
      "Epoch 10/15, Training Loss: 1.6812, Validation Loss: 1.8798\n"
     ]
    },
    {
     "data": {
      "application/vnd.jupyter.widget-view+json": {
       "model_id": "2535e3b7251e4971ac4b77aefec78d1a",
       "version_major": 2,
       "version_minor": 0
      },
      "text/plain": [
       "Epoch 11/15:   0%|          | 0/753 [00:00<?, ?it/s]"
      ]
     },
     "metadata": {},
     "output_type": "display_data"
    },
    {
     "name": "stdout",
     "output_type": "stream",
     "text": [
      "Epoch 11/15, Training Loss: 1.6659, Validation Loss: 1.8904\n",
      "Epoch    11: reducing learning rate of group 0 to 3.1250e-05.\n"
     ]
    },
    {
     "data": {
      "application/vnd.jupyter.widget-view+json": {
       "model_id": "87797aef90524b2ab676053a227a23cc",
       "version_major": 2,
       "version_minor": 0
      },
      "text/plain": [
       "Epoch 12/15:   0%|          | 0/753 [00:00<?, ?it/s]"
      ]
     },
     "metadata": {},
     "output_type": "display_data"
    },
    {
     "name": "stdout",
     "output_type": "stream",
     "text": [
      "Epoch 12/15, Training Loss: 1.6308, Validation Loss: 1.8911\n"
     ]
    },
    {
     "data": {
      "application/vnd.jupyter.widget-view+json": {
       "model_id": "5f4a6eb8f944404bae3772af135d3892",
       "version_major": 2,
       "version_minor": 0
      },
      "text/plain": [
       "Epoch 13/15:   0%|          | 0/753 [00:00<?, ?it/s]"
      ]
     },
     "metadata": {},
     "output_type": "display_data"
    },
    {
     "name": "stdout",
     "output_type": "stream",
     "text": [
      "Epoch 13/15, Training Loss: 1.6106, Validation Loss: 1.8910\n"
     ]
    },
    {
     "data": {
      "application/vnd.jupyter.widget-view+json": {
       "model_id": "284ad40b09a540a4a400b266ce9f5c9d",
       "version_major": 2,
       "version_minor": 0
      },
      "text/plain": [
       "Epoch 14/15:   0%|          | 0/753 [00:00<?, ?it/s]"
      ]
     },
     "metadata": {},
     "output_type": "display_data"
    },
    {
     "name": "stdout",
     "output_type": "stream",
     "text": [
      "Epoch 14/15, Training Loss: 1.6045, Validation Loss: 1.8947\n",
      "Epoch    14: reducing learning rate of group 0 to 7.8125e-06.\n",
      "Early stopping triggered after 14 epochs.\n",
      "Training with batch size: 32, learning rate: 0.0005, unfreeze option: last_two, weight_decay: 0.001, augument: True\n"
     ]
    },
    {
     "data": {
      "application/vnd.jupyter.widget-view+json": {
       "model_id": "1debda588e9f4466b47d068c8e6809f5",
       "version_major": 2,
       "version_minor": 0
      },
      "text/plain": [
       "Epoch 1/15:   0%|          | 0/753 [00:00<?, ?it/s]"
      ]
     },
     "metadata": {},
     "output_type": "display_data"
    },
    {
     "name": "stdout",
     "output_type": "stream",
     "text": [
      "Epoch 1/15, Training Loss: 1.9232, Validation Loss: 1.9976\n"
     ]
    },
    {
     "data": {
      "application/vnd.jupyter.widget-view+json": {
       "model_id": "81a593a5dce946779d5226f557f93cf1",
       "version_major": 2,
       "version_minor": 0
      },
      "text/plain": [
       "Epoch 2/15:   0%|          | 0/753 [00:00<?, ?it/s]"
      ]
     },
     "metadata": {},
     "output_type": "display_data"
    },
    {
     "name": "stdout",
     "output_type": "stream",
     "text": [
      "Epoch 2/15, Training Loss: 1.8931, Validation Loss: 2.0357\n"
     ]
    },
    {
     "data": {
      "application/vnd.jupyter.widget-view+json": {
       "model_id": "124d0ee2b1704417b7635a8985179d15",
       "version_major": 2,
       "version_minor": 0
      },
      "text/plain": [
       "Epoch 3/15:   0%|          | 0/753 [00:00<?, ?it/s]"
      ]
     },
     "metadata": {},
     "output_type": "display_data"
    },
    {
     "name": "stdout",
     "output_type": "stream",
     "text": [
      "Epoch 3/15, Training Loss: 1.8860, Validation Loss: 1.9923\n"
     ]
    },
    {
     "data": {
      "application/vnd.jupyter.widget-view+json": {
       "model_id": "676492023cab45c29906e3c591843464",
       "version_major": 2,
       "version_minor": 0
      },
      "text/plain": [
       "Epoch 4/15:   0%|          | 0/753 [00:00<?, ?it/s]"
      ]
     },
     "metadata": {},
     "output_type": "display_data"
    },
    {
     "name": "stdout",
     "output_type": "stream",
     "text": [
      "Epoch 4/15, Training Loss: 1.8848, Validation Loss: 1.8999\n"
     ]
    },
    {
     "data": {
      "application/vnd.jupyter.widget-view+json": {
       "model_id": "6f3c9cc95c0f4eac9ab0716ab6979ab4",
       "version_major": 2,
       "version_minor": 0
      },
      "text/plain": [
       "Epoch 5/15:   0%|          | 0/753 [00:00<?, ?it/s]"
      ]
     },
     "metadata": {},
     "output_type": "display_data"
    },
    {
     "name": "stdout",
     "output_type": "stream",
     "text": [
      "Epoch 5/15, Training Loss: 1.8766, Validation Loss: 1.9769\n"
     ]
    },
    {
     "data": {
      "application/vnd.jupyter.widget-view+json": {
       "model_id": "3cb9f5a6f53c41aa950ffd27b3b835ed",
       "version_major": 2,
       "version_minor": 0
      },
      "text/plain": [
       "Epoch 6/15:   0%|          | 0/753 [00:00<?, ?it/s]"
      ]
     },
     "metadata": {},
     "output_type": "display_data"
    },
    {
     "name": "stdout",
     "output_type": "stream",
     "text": [
      "Epoch 6/15, Training Loss: 1.8704, Validation Loss: 1.9047\n"
     ]
    },
    {
     "data": {
      "application/vnd.jupyter.widget-view+json": {
       "model_id": "d698a885c7be4d098766d5edd594f119",
       "version_major": 2,
       "version_minor": 0
      },
      "text/plain": [
       "Epoch 7/15:   0%|          | 0/753 [00:00<?, ?it/s]"
      ]
     },
     "metadata": {},
     "output_type": "display_data"
    },
    {
     "name": "stdout",
     "output_type": "stream",
     "text": [
      "Epoch 7/15, Training Loss: 1.8656, Validation Loss: 1.8998\n",
      "Epoch     7: reducing learning rate of group 0 to 1.2500e-04.\n"
     ]
    },
    {
     "data": {
      "application/vnd.jupyter.widget-view+json": {
       "model_id": "fd3a6e8e389940f29d7d108f5723502d",
       "version_major": 2,
       "version_minor": 0
      },
      "text/plain": [
       "Epoch 8/15:   0%|          | 0/753 [00:00<?, ?it/s]"
      ]
     },
     "metadata": {},
     "output_type": "display_data"
    },
    {
     "name": "stdout",
     "output_type": "stream",
     "text": [
      "Epoch 8/15, Training Loss: 1.8349, Validation Loss: 1.9096\n"
     ]
    },
    {
     "data": {
      "application/vnd.jupyter.widget-view+json": {
       "model_id": "8a7b4b3e2783432baf4394dddc3cbdfa",
       "version_major": 2,
       "version_minor": 0
      },
      "text/plain": [
       "Epoch 9/15:   0%|          | 0/753 [00:00<?, ?it/s]"
      ]
     },
     "metadata": {},
     "output_type": "display_data"
    },
    {
     "name": "stdout",
     "output_type": "stream",
     "text": [
      "Epoch 9/15, Training Loss: 1.8229, Validation Loss: 1.9156\n"
     ]
    },
    {
     "data": {
      "application/vnd.jupyter.widget-view+json": {
       "model_id": "8b52658c0e1840bfac79a25a4b3b5379",
       "version_major": 2,
       "version_minor": 0
      },
      "text/plain": [
       "Epoch 10/15:   0%|          | 0/753 [00:00<?, ?it/s]"
      ]
     },
     "metadata": {},
     "output_type": "display_data"
    },
    {
     "name": "stdout",
     "output_type": "stream",
     "text": [
      "Epoch 10/15, Training Loss: 1.8095, Validation Loss: 1.9144\n",
      "Epoch    10: reducing learning rate of group 0 to 3.1250e-05.\n"
     ]
    },
    {
     "data": {
      "application/vnd.jupyter.widget-view+json": {
       "model_id": "6723c4c37b3d4d04aaa30571c83751ba",
       "version_major": 2,
       "version_minor": 0
      },
      "text/plain": [
       "Epoch 11/15:   0%|          | 0/753 [00:00<?, ?it/s]"
      ]
     },
     "metadata": {},
     "output_type": "display_data"
    },
    {
     "name": "stdout",
     "output_type": "stream",
     "text": [
      "Epoch 11/15, Training Loss: 1.7958, Validation Loss: 1.8972\n"
     ]
    },
    {
     "data": {
      "application/vnd.jupyter.widget-view+json": {
       "model_id": "515087daed1b4b9ab5ac39b6c6fab2cb",
       "version_major": 2,
       "version_minor": 0
      },
      "text/plain": [
       "Epoch 12/15:   0%|          | 0/753 [00:00<?, ?it/s]"
      ]
     },
     "metadata": {},
     "output_type": "display_data"
    },
    {
     "name": "stdout",
     "output_type": "stream",
     "text": [
      "Epoch 12/15, Training Loss: 1.7879, Validation Loss: 1.8995\n"
     ]
    },
    {
     "data": {
      "application/vnd.jupyter.widget-view+json": {
       "model_id": "831630cea3ca436794a351fe888dc850",
       "version_major": 2,
       "version_minor": 0
      },
      "text/plain": [
       "Epoch 13/15:   0%|          | 0/753 [00:00<?, ?it/s]"
      ]
     },
     "metadata": {},
     "output_type": "display_data"
    },
    {
     "name": "stdout",
     "output_type": "stream",
     "text": [
      "Epoch 13/15, Training Loss: 1.7842, Validation Loss: 1.8870\n"
     ]
    },
    {
     "data": {
      "application/vnd.jupyter.widget-view+json": {
       "model_id": "2d606863cafe4c38aa7ba35d3132a394",
       "version_major": 2,
       "version_minor": 0
      },
      "text/plain": [
       "Epoch 14/15:   0%|          | 0/753 [00:00<?, ?it/s]"
      ]
     },
     "metadata": {},
     "output_type": "display_data"
    },
    {
     "name": "stdout",
     "output_type": "stream",
     "text": [
      "Epoch 14/15, Training Loss: 1.7767, Validation Loss: 1.8996\n"
     ]
    },
    {
     "data": {
      "application/vnd.jupyter.widget-view+json": {
       "model_id": "3c0c9036f76143d18faf599c490062c7",
       "version_major": 2,
       "version_minor": 0
      },
      "text/plain": [
       "Epoch 15/15:   0%|          | 0/753 [00:00<?, ?it/s]"
      ]
     },
     "metadata": {},
     "output_type": "display_data"
    },
    {
     "name": "stdout",
     "output_type": "stream",
     "text": [
      "Epoch 15/15, Training Loss: 1.7707, Validation Loss: 1.8762\n",
      "Reached maximum epoch limit.\n",
      "Training with batch size: 32, learning rate: 0.0005, unfreeze option: last_two, weight_decay: 0.0025, augument: False\n"
     ]
    },
    {
     "data": {
      "application/vnd.jupyter.widget-view+json": {
       "model_id": "19f064a7f4f14f40b41b2db55a6a69ad",
       "version_major": 2,
       "version_minor": 0
      },
      "text/plain": [
       "Epoch 1/15:   0%|          | 0/753 [00:00<?, ?it/s]"
      ]
     },
     "metadata": {},
     "output_type": "display_data"
    },
    {
     "name": "stdout",
     "output_type": "stream",
     "text": [
      "Epoch 1/15, Training Loss: 1.9111, Validation Loss: 1.9239\n"
     ]
    },
    {
     "data": {
      "application/vnd.jupyter.widget-view+json": {
       "model_id": "f34d0b65e91e4f138d5166085b86c2c9",
       "version_major": 2,
       "version_minor": 0
      },
      "text/plain": [
       "Epoch 2/15:   0%|          | 0/753 [00:00<?, ?it/s]"
      ]
     },
     "metadata": {},
     "output_type": "display_data"
    },
    {
     "name": "stdout",
     "output_type": "stream",
     "text": [
      "Epoch 2/15, Training Loss: 1.8814, Validation Loss: 1.9091\n"
     ]
    },
    {
     "data": {
      "application/vnd.jupyter.widget-view+json": {
       "model_id": "91265cee46884da4be5fd795abde8805",
       "version_major": 2,
       "version_minor": 0
      },
      "text/plain": [
       "Epoch 3/15:   0%|          | 0/753 [00:00<?, ?it/s]"
      ]
     },
     "metadata": {},
     "output_type": "display_data"
    },
    {
     "name": "stdout",
     "output_type": "stream",
     "text": [
      "Epoch 3/15, Training Loss: 1.8779, Validation Loss: 1.9235\n"
     ]
    },
    {
     "data": {
      "application/vnd.jupyter.widget-view+json": {
       "model_id": "d30a5cf3a76847c5ac6933441fcdcf75",
       "version_major": 2,
       "version_minor": 0
      },
      "text/plain": [
       "Epoch 4/15:   0%|          | 0/753 [00:00<?, ?it/s]"
      ]
     },
     "metadata": {},
     "output_type": "display_data"
    },
    {
     "name": "stdout",
     "output_type": "stream",
     "text": [
      "Epoch 4/15, Training Loss: 1.8731, Validation Loss: 1.9462\n"
     ]
    },
    {
     "data": {
      "application/vnd.jupyter.widget-view+json": {
       "model_id": "9366243090b245ef9ee9ebb570815328",
       "version_major": 2,
       "version_minor": 0
      },
      "text/plain": [
       "Epoch 5/15:   0%|          | 0/753 [00:00<?, ?it/s]"
      ]
     },
     "metadata": {},
     "output_type": "display_data"
    },
    {
     "name": "stdout",
     "output_type": "stream",
     "text": [
      "Epoch 5/15, Training Loss: 1.8590, Validation Loss: 1.9061\n"
     ]
    },
    {
     "data": {
      "application/vnd.jupyter.widget-view+json": {
       "model_id": "439fc1e6b48a4377841798061bcc5b63",
       "version_major": 2,
       "version_minor": 0
      },
      "text/plain": [
       "Epoch 6/15:   0%|          | 0/753 [00:00<?, ?it/s]"
      ]
     },
     "metadata": {},
     "output_type": "display_data"
    },
    {
     "name": "stdout",
     "output_type": "stream",
     "text": [
      "Epoch 6/15, Training Loss: 1.8448, Validation Loss: 1.8968\n"
     ]
    },
    {
     "data": {
      "application/vnd.jupyter.widget-view+json": {
       "model_id": "59302cfbfe9c475485897974b86e278d",
       "version_major": 2,
       "version_minor": 0
      },
      "text/plain": [
       "Epoch 7/15:   0%|          | 0/753 [00:00<?, ?it/s]"
      ]
     },
     "metadata": {},
     "output_type": "display_data"
    },
    {
     "name": "stdout",
     "output_type": "stream",
     "text": [
      "Epoch 7/15, Training Loss: 1.8330, Validation Loss: 1.8888\n"
     ]
    },
    {
     "data": {
      "application/vnd.jupyter.widget-view+json": {
       "model_id": "644d97006f984492b0d10d669ab8d8dc",
       "version_major": 2,
       "version_minor": 0
      },
      "text/plain": [
       "Epoch 8/15:   0%|          | 0/753 [00:00<?, ?it/s]"
      ]
     },
     "metadata": {},
     "output_type": "display_data"
    },
    {
     "name": "stdout",
     "output_type": "stream",
     "text": [
      "Epoch 8/15, Training Loss: 1.8222, Validation Loss: 1.9492\n"
     ]
    },
    {
     "data": {
      "application/vnd.jupyter.widget-view+json": {
       "model_id": "e0ddf3af1c1f44ac90371315a478d32d",
       "version_major": 2,
       "version_minor": 0
      },
      "text/plain": [
       "Epoch 9/15:   0%|          | 0/753 [00:00<?, ?it/s]"
      ]
     },
     "metadata": {},
     "output_type": "display_data"
    },
    {
     "name": "stdout",
     "output_type": "stream",
     "text": [
      "Epoch 9/15, Training Loss: 1.8157, Validation Loss: 1.8926\n"
     ]
    },
    {
     "data": {
      "application/vnd.jupyter.widget-view+json": {
       "model_id": "1e617ae2456947c78d1851fbae4402e8",
       "version_major": 2,
       "version_minor": 0
      },
      "text/plain": [
       "Epoch 10/15:   0%|          | 0/753 [00:00<?, ?it/s]"
      ]
     },
     "metadata": {},
     "output_type": "display_data"
    },
    {
     "name": "stdout",
     "output_type": "stream",
     "text": [
      "Epoch 10/15, Training Loss: 1.8110, Validation Loss: 1.8823\n"
     ]
    },
    {
     "data": {
      "application/vnd.jupyter.widget-view+json": {
       "model_id": "e85d1dd8e7b84091a649f6df586f3211",
       "version_major": 2,
       "version_minor": 0
      },
      "text/plain": [
       "Epoch 11/15:   0%|          | 0/753 [00:00<?, ?it/s]"
      ]
     },
     "metadata": {},
     "output_type": "display_data"
    },
    {
     "name": "stdout",
     "output_type": "stream",
     "text": [
      "Epoch 11/15, Training Loss: 1.8054, Validation Loss: 1.8781\n"
     ]
    },
    {
     "data": {
      "application/vnd.jupyter.widget-view+json": {
       "model_id": "66eaf983ee784d42a5ad80b34ff95875",
       "version_major": 2,
       "version_minor": 0
      },
      "text/plain": [
       "Epoch 12/15:   0%|          | 0/753 [00:00<?, ?it/s]"
      ]
     },
     "metadata": {},
     "output_type": "display_data"
    },
    {
     "name": "stdout",
     "output_type": "stream",
     "text": [
      "Epoch 12/15, Training Loss: 1.7993, Validation Loss: 1.8957\n"
     ]
    },
    {
     "data": {
      "application/vnd.jupyter.widget-view+json": {
       "model_id": "068b229d2e9a487cab9e240f0a7efa83",
       "version_major": 2,
       "version_minor": 0
      },
      "text/plain": [
       "Epoch 13/15:   0%|          | 0/753 [00:00<?, ?it/s]"
      ]
     },
     "metadata": {},
     "output_type": "display_data"
    },
    {
     "name": "stdout",
     "output_type": "stream",
     "text": [
      "Epoch 13/15, Training Loss: 1.7960, Validation Loss: 1.9067\n"
     ]
    },
    {
     "data": {
      "application/vnd.jupyter.widget-view+json": {
       "model_id": "7f30f493240c4c2d911b3ee1f419b232",
       "version_major": 2,
       "version_minor": 0
      },
      "text/plain": [
       "Epoch 14/15:   0%|          | 0/753 [00:00<?, ?it/s]"
      ]
     },
     "metadata": {},
     "output_type": "display_data"
    },
    {
     "name": "stdout",
     "output_type": "stream",
     "text": [
      "Epoch 14/15, Training Loss: 1.7941, Validation Loss: 1.8711\n"
     ]
    },
    {
     "data": {
      "application/vnd.jupyter.widget-view+json": {
       "model_id": "c7eada7d2bf1429abb6e782933b6fd94",
       "version_major": 2,
       "version_minor": 0
      },
      "text/plain": [
       "Epoch 15/15:   0%|          | 0/753 [00:00<?, ?it/s]"
      ]
     },
     "metadata": {},
     "output_type": "display_data"
    },
    {
     "name": "stdout",
     "output_type": "stream",
     "text": [
      "Epoch 15/15, Training Loss: 1.7883, Validation Loss: 1.8868\n",
      "Reached maximum epoch limit.\n",
      "Training with batch size: 32, learning rate: 0.0005, unfreeze option: last_two, weight_decay: 0.0025, augument: True\n"
     ]
    },
    {
     "data": {
      "application/vnd.jupyter.widget-view+json": {
       "model_id": "b6e4f8bc26fe4047b65dfa0652211e26",
       "version_major": 2,
       "version_minor": 0
      },
      "text/plain": [
       "Epoch 1/15:   0%|          | 0/753 [00:00<?, ?it/s]"
      ]
     },
     "metadata": {},
     "output_type": "display_data"
    },
    {
     "name": "stdout",
     "output_type": "stream",
     "text": [
      "Epoch 1/15, Training Loss: 1.9353, Validation Loss: 1.9065\n"
     ]
    },
    {
     "data": {
      "application/vnd.jupyter.widget-view+json": {
       "model_id": "47502d32271647f3943fb35e4649b844",
       "version_major": 2,
       "version_minor": 0
      },
      "text/plain": [
       "Epoch 2/15:   0%|          | 0/753 [00:00<?, ?it/s]"
      ]
     },
     "metadata": {},
     "output_type": "display_data"
    },
    {
     "name": "stdout",
     "output_type": "stream",
     "text": [
      "Epoch 2/15, Training Loss: 1.9005, Validation Loss: 1.9830\n"
     ]
    },
    {
     "data": {
      "application/vnd.jupyter.widget-view+json": {
       "model_id": "3dd2e29106704d3c9c7d6b2064ae9936",
       "version_major": 2,
       "version_minor": 0
      },
      "text/plain": [
       "Epoch 3/15:   0%|          | 0/753 [00:00<?, ?it/s]"
      ]
     },
     "metadata": {},
     "output_type": "display_data"
    },
    {
     "name": "stdout",
     "output_type": "stream",
     "text": [
      "Epoch 3/15, Training Loss: 1.8988, Validation Loss: 1.9233\n"
     ]
    },
    {
     "data": {
      "application/vnd.jupyter.widget-view+json": {
       "model_id": "45b3b96ea3eb4819adfa0157281aad20",
       "version_major": 2,
       "version_minor": 0
      },
      "text/plain": [
       "Epoch 4/15:   0%|          | 0/753 [00:00<?, ?it/s]"
      ]
     },
     "metadata": {},
     "output_type": "display_data"
    },
    {
     "name": "stdout",
     "output_type": "stream",
     "text": [
      "Epoch 4/15, Training Loss: 1.8975, Validation Loss: 1.9207\n",
      "Epoch     4: reducing learning rate of group 0 to 1.2500e-04.\n"
     ]
    },
    {
     "data": {
      "application/vnd.jupyter.widget-view+json": {
       "model_id": "aa3a29f59b064051a429c8d5fdf80eb0",
       "version_major": 2,
       "version_minor": 0
      },
      "text/plain": [
       "Epoch 5/15:   0%|          | 0/753 [00:00<?, ?it/s]"
      ]
     },
     "metadata": {},
     "output_type": "display_data"
    },
    {
     "name": "stdout",
     "output_type": "stream",
     "text": [
      "Epoch 5/15, Training Loss: 1.8711, Validation Loss: 1.9106\n"
     ]
    },
    {
     "data": {
      "application/vnd.jupyter.widget-view+json": {
       "model_id": "acaae6141e3e414fb88de6470586abcb",
       "version_major": 2,
       "version_minor": 0
      },
      "text/plain": [
       "Epoch 6/15:   0%|          | 0/753 [00:00<?, ?it/s]"
      ]
     },
     "metadata": {},
     "output_type": "display_data"
    },
    {
     "name": "stdout",
     "output_type": "stream",
     "text": [
      "Epoch 6/15, Training Loss: 1.8593, Validation Loss: 1.9223\n"
     ]
    },
    {
     "data": {
      "application/vnd.jupyter.widget-view+json": {
       "model_id": "00f54cfbf4124a00aa86b0e23f5d3cc6",
       "version_major": 2,
       "version_minor": 0
      },
      "text/plain": [
       "Epoch 7/15:   0%|          | 0/753 [00:00<?, ?it/s]"
      ]
     },
     "metadata": {},
     "output_type": "display_data"
    },
    {
     "name": "stdout",
     "output_type": "stream",
     "text": [
      "Epoch 7/15, Training Loss: 1.8494, Validation Loss: 1.8955\n"
     ]
    },
    {
     "data": {
      "application/vnd.jupyter.widget-view+json": {
       "model_id": "772f44fc90ba4c28a7f8250cf7cbbb87",
       "version_major": 2,
       "version_minor": 0
      },
      "text/plain": [
       "Epoch 8/15:   0%|          | 0/753 [00:00<?, ?it/s]"
      ]
     },
     "metadata": {},
     "output_type": "display_data"
    },
    {
     "name": "stdout",
     "output_type": "stream",
     "text": [
      "Epoch 8/15, Training Loss: 1.8429, Validation Loss: 1.9229\n"
     ]
    },
    {
     "data": {
      "application/vnd.jupyter.widget-view+json": {
       "model_id": "f94802c8faa745f5b2c2b1cdaebc9ffd",
       "version_major": 2,
       "version_minor": 0
      },
      "text/plain": [
       "Epoch 9/15:   0%|          | 0/753 [00:00<?, ?it/s]"
      ]
     },
     "metadata": {},
     "output_type": "display_data"
    },
    {
     "name": "stdout",
     "output_type": "stream",
     "text": [
      "Epoch 9/15, Training Loss: 1.8414, Validation Loss: 1.9010\n"
     ]
    },
    {
     "data": {
      "application/vnd.jupyter.widget-view+json": {
       "model_id": "2a725c47e8dd4c178d319b97c00ed85e",
       "version_major": 2,
       "version_minor": 0
      },
      "text/plain": [
       "Epoch 10/15:   0%|          | 0/753 [00:00<?, ?it/s]"
      ]
     },
     "metadata": {},
     "output_type": "display_data"
    },
    {
     "name": "stdout",
     "output_type": "stream",
     "text": [
      "Epoch 10/15, Training Loss: 1.8307, Validation Loss: 1.9160\n",
      "Epoch    10: reducing learning rate of group 0 to 3.1250e-05.\n"
     ]
    },
    {
     "data": {
      "application/vnd.jupyter.widget-view+json": {
       "model_id": "6dcfaea8eefe443da154877fd3acbda1",
       "version_major": 2,
       "version_minor": 0
      },
      "text/plain": [
       "Epoch 11/15:   0%|          | 0/753 [00:00<?, ?it/s]"
      ]
     },
     "metadata": {},
     "output_type": "display_data"
    },
    {
     "name": "stdout",
     "output_type": "stream",
     "text": [
      "Epoch 11/15, Training Loss: 1.8157, Validation Loss: 1.8960\n"
     ]
    },
    {
     "data": {
      "application/vnd.jupyter.widget-view+json": {
       "model_id": "125329c5e9b54ff0b6e08388d1ea3648",
       "version_major": 2,
       "version_minor": 0
      },
      "text/plain": [
       "Epoch 12/15:   0%|          | 0/753 [00:00<?, ?it/s]"
      ]
     },
     "metadata": {},
     "output_type": "display_data"
    },
    {
     "name": "stdout",
     "output_type": "stream",
     "text": [
      "Epoch 12/15, Training Loss: 1.8048, Validation Loss: 1.8966\n"
     ]
    },
    {
     "data": {
      "application/vnd.jupyter.widget-view+json": {
       "model_id": "ba5053eb20454d5980f097b776b1cc33",
       "version_major": 2,
       "version_minor": 0
      },
      "text/plain": [
       "Epoch 13/15:   0%|          | 0/753 [00:00<?, ?it/s]"
      ]
     },
     "metadata": {},
     "output_type": "display_data"
    },
    {
     "name": "stdout",
     "output_type": "stream",
     "text": [
      "Epoch 13/15, Training Loss: 1.8001, Validation Loss: 1.8855\n"
     ]
    },
    {
     "data": {
      "application/vnd.jupyter.widget-view+json": {
       "model_id": "a2b688df59a647d49ca113509e4b455b",
       "version_major": 2,
       "version_minor": 0
      },
      "text/plain": [
       "Epoch 14/15:   0%|          | 0/753 [00:00<?, ?it/s]"
      ]
     },
     "metadata": {},
     "output_type": "display_data"
    },
    {
     "name": "stdout",
     "output_type": "stream",
     "text": [
      "Epoch 14/15, Training Loss: 1.7935, Validation Loss: 1.8805\n"
     ]
    },
    {
     "data": {
      "application/vnd.jupyter.widget-view+json": {
       "model_id": "23bcbe0dc95b47f3a39538fc92b9790b",
       "version_major": 2,
       "version_minor": 0
      },
      "text/plain": [
       "Epoch 15/15:   0%|          | 0/753 [00:00<?, ?it/s]"
      ]
     },
     "metadata": {},
     "output_type": "display_data"
    },
    {
     "name": "stdout",
     "output_type": "stream",
     "text": [
      "Epoch 15/15, Training Loss: 1.7864, Validation Loss: 1.8832\n",
      "Reached maximum epoch limit.\n",
      "Training with batch size: 32, learning rate: 0.0005, unfreeze option: last_two, weight_decay: 0.005, augument: False\n"
     ]
    },
    {
     "data": {
      "application/vnd.jupyter.widget-view+json": {
       "model_id": "df3efb02d3824687be858d56cb863675",
       "version_major": 2,
       "version_minor": 0
      },
      "text/plain": [
       "Epoch 1/15:   0%|          | 0/753 [00:00<?, ?it/s]"
      ]
     },
     "metadata": {},
     "output_type": "display_data"
    },
    {
     "name": "stdout",
     "output_type": "stream",
     "text": [
      "Epoch 1/15, Training Loss: 1.9204, Validation Loss: 1.9242\n"
     ]
    },
    {
     "data": {
      "application/vnd.jupyter.widget-view+json": {
       "model_id": "69980adc5c7843128453262003811604",
       "version_major": 2,
       "version_minor": 0
      },
      "text/plain": [
       "Epoch 2/15:   0%|          | 0/753 [00:00<?, ?it/s]"
      ]
     },
     "metadata": {},
     "output_type": "display_data"
    },
    {
     "name": "stdout",
     "output_type": "stream",
     "text": [
      "Epoch 2/15, Training Loss: 1.9010, Validation Loss: 1.9197\n"
     ]
    },
    {
     "data": {
      "application/vnd.jupyter.widget-view+json": {
       "model_id": "eee6adc8543149c5b5192bd7ca4e1c44",
       "version_major": 2,
       "version_minor": 0
      },
      "text/plain": [
       "Epoch 3/15:   0%|          | 0/753 [00:00<?, ?it/s]"
      ]
     },
     "metadata": {},
     "output_type": "display_data"
    },
    {
     "name": "stdout",
     "output_type": "stream",
     "text": [
      "Epoch 3/15, Training Loss: 1.8946, Validation Loss: 1.9432\n"
     ]
    },
    {
     "data": {
      "application/vnd.jupyter.widget-view+json": {
       "model_id": "465969375cee4eeaab6bf92434bfe121",
       "version_major": 2,
       "version_minor": 0
      },
      "text/plain": [
       "Epoch 4/15:   0%|          | 0/753 [00:00<?, ?it/s]"
      ]
     },
     "metadata": {},
     "output_type": "display_data"
    },
    {
     "name": "stdout",
     "output_type": "stream",
     "text": [
      "Epoch 4/15, Training Loss: 1.8813, Validation Loss: 1.9021\n"
     ]
    },
    {
     "data": {
      "application/vnd.jupyter.widget-view+json": {
       "model_id": "f14f5d1ea9214d3ab19c8aef1c7e25d7",
       "version_major": 2,
       "version_minor": 0
      },
      "text/plain": [
       "Epoch 5/15:   0%|          | 0/753 [00:00<?, ?it/s]"
      ]
     },
     "metadata": {},
     "output_type": "display_data"
    },
    {
     "name": "stdout",
     "output_type": "stream",
     "text": [
      "Epoch 5/15, Training Loss: 1.8665, Validation Loss: 1.8944\n"
     ]
    },
    {
     "data": {
      "application/vnd.jupyter.widget-view+json": {
       "model_id": "c7c9894dd4074a6894c9437336674924",
       "version_major": 2,
       "version_minor": 0
      },
      "text/plain": [
       "Epoch 6/15:   0%|          | 0/753 [00:00<?, ?it/s]"
      ]
     },
     "metadata": {},
     "output_type": "display_data"
    },
    {
     "name": "stdout",
     "output_type": "stream",
     "text": [
      "Epoch 6/15, Training Loss: 1.8565, Validation Loss: 1.9044\n"
     ]
    },
    {
     "data": {
      "application/vnd.jupyter.widget-view+json": {
       "model_id": "b44a4407bf71415ca5a1b3fa3323d46b",
       "version_major": 2,
       "version_minor": 0
      },
      "text/plain": [
       "Epoch 7/15:   0%|          | 0/753 [00:00<?, ?it/s]"
      ]
     },
     "metadata": {},
     "output_type": "display_data"
    },
    {
     "name": "stdout",
     "output_type": "stream",
     "text": [
      "Epoch 7/15, Training Loss: 1.8503, Validation Loss: 1.9063\n"
     ]
    },
    {
     "data": {
      "application/vnd.jupyter.widget-view+json": {
       "model_id": "eb46707661da402b9321fbe27f898fa7",
       "version_major": 2,
       "version_minor": 0
      },
      "text/plain": [
       "Epoch 8/15:   0%|          | 0/753 [00:00<?, ?it/s]"
      ]
     },
     "metadata": {},
     "output_type": "display_data"
    },
    {
     "name": "stdout",
     "output_type": "stream",
     "text": [
      "Epoch 8/15, Training Loss: 1.8511, Validation Loss: 1.8880\n"
     ]
    },
    {
     "data": {
      "application/vnd.jupyter.widget-view+json": {
       "model_id": "85b9337a248a4db7ab739d897a378208",
       "version_major": 2,
       "version_minor": 0
      },
      "text/plain": [
       "Epoch 9/15:   0%|          | 0/753 [00:00<?, ?it/s]"
      ]
     },
     "metadata": {},
     "output_type": "display_data"
    },
    {
     "name": "stdout",
     "output_type": "stream",
     "text": [
      "Epoch 9/15, Training Loss: 1.8418, Validation Loss: 1.8733\n"
     ]
    },
    {
     "data": {
      "application/vnd.jupyter.widget-view+json": {
       "model_id": "5a9632afb1ec469da2b63cd3571a159f",
       "version_major": 2,
       "version_minor": 0
      },
      "text/plain": [
       "Epoch 10/15:   0%|          | 0/753 [00:00<?, ?it/s]"
      ]
     },
     "metadata": {},
     "output_type": "display_data"
    },
    {
     "name": "stdout",
     "output_type": "stream",
     "text": [
      "Epoch 10/15, Training Loss: 1.8422, Validation Loss: 1.8973\n"
     ]
    },
    {
     "data": {
      "application/vnd.jupyter.widget-view+json": {
       "model_id": "9b74141f6a114e3683fa10841646d4dd",
       "version_major": 2,
       "version_minor": 0
      },
      "text/plain": [
       "Epoch 11/15:   0%|          | 0/753 [00:00<?, ?it/s]"
      ]
     },
     "metadata": {},
     "output_type": "display_data"
    },
    {
     "name": "stdout",
     "output_type": "stream",
     "text": [
      "Epoch 11/15, Training Loss: 1.8390, Validation Loss: 1.8860\n"
     ]
    },
    {
     "data": {
      "application/vnd.jupyter.widget-view+json": {
       "model_id": "beb1c410ed8940f398b5904317e4686e",
       "version_major": 2,
       "version_minor": 0
      },
      "text/plain": [
       "Epoch 12/15:   0%|          | 0/753 [00:00<?, ?it/s]"
      ]
     },
     "metadata": {},
     "output_type": "display_data"
    },
    {
     "name": "stdout",
     "output_type": "stream",
     "text": [
      "Epoch 12/15, Training Loss: 1.8347, Validation Loss: 1.8980\n",
      "Epoch    12: reducing learning rate of group 0 to 1.2500e-04.\n"
     ]
    },
    {
     "data": {
      "application/vnd.jupyter.widget-view+json": {
       "model_id": "088618e4ed6a4d68b0df178f177c3ee4",
       "version_major": 2,
       "version_minor": 0
      },
      "text/plain": [
       "Epoch 13/15:   0%|          | 0/753 [00:00<?, ?it/s]"
      ]
     },
     "metadata": {},
     "output_type": "display_data"
    },
    {
     "name": "stdout",
     "output_type": "stream",
     "text": [
      "Epoch 13/15, Training Loss: 1.8192, Validation Loss: 1.8856\n"
     ]
    },
    {
     "data": {
      "application/vnd.jupyter.widget-view+json": {
       "model_id": "cfdd64e4b2d6453eb214a8eacbeba8a0",
       "version_major": 2,
       "version_minor": 0
      },
      "text/plain": [
       "Epoch 14/15:   0%|          | 0/753 [00:00<?, ?it/s]"
      ]
     },
     "metadata": {},
     "output_type": "display_data"
    },
    {
     "name": "stdout",
     "output_type": "stream",
     "text": [
      "Epoch 14/15, Training Loss: 1.8062, Validation Loss: 1.8700\n"
     ]
    },
    {
     "data": {
      "application/vnd.jupyter.widget-view+json": {
       "model_id": "7ac8811493c34f9eab3b11a297add979",
       "version_major": 2,
       "version_minor": 0
      },
      "text/plain": [
       "Epoch 15/15:   0%|          | 0/753 [00:00<?, ?it/s]"
      ]
     },
     "metadata": {},
     "output_type": "display_data"
    },
    {
     "name": "stdout",
     "output_type": "stream",
     "text": [
      "Epoch 15/15, Training Loss: 1.8066, Validation Loss: 1.8706\n",
      "Reached maximum epoch limit.\n",
      "Training with batch size: 32, learning rate: 0.0005, unfreeze option: last_two, weight_decay: 0.005, augument: True\n"
     ]
    },
    {
     "data": {
      "application/vnd.jupyter.widget-view+json": {
       "model_id": "ab28db15d02241a99d9cd3a880f5778d",
       "version_major": 2,
       "version_minor": 0
      },
      "text/plain": [
       "Epoch 1/15:   0%|          | 0/753 [00:00<?, ?it/s]"
      ]
     },
     "metadata": {},
     "output_type": "display_data"
    },
    {
     "name": "stdout",
     "output_type": "stream",
     "text": [
      "Epoch 1/15, Training Loss: 1.9395, Validation Loss: 1.9922\n"
     ]
    },
    {
     "data": {
      "application/vnd.jupyter.widget-view+json": {
       "model_id": "69d11e547c234dbaaacc72e1e49b4373",
       "version_major": 2,
       "version_minor": 0
      },
      "text/plain": [
       "Epoch 2/15:   0%|          | 0/753 [00:00<?, ?it/s]"
      ]
     },
     "metadata": {},
     "output_type": "display_data"
    },
    {
     "name": "stdout",
     "output_type": "stream",
     "text": [
      "Epoch 2/15, Training Loss: 1.9172, Validation Loss: 1.9549\n"
     ]
    },
    {
     "data": {
      "application/vnd.jupyter.widget-view+json": {
       "model_id": "297f81cc104e42b9985c8ef1b11f478f",
       "version_major": 2,
       "version_minor": 0
      },
      "text/plain": [
       "Epoch 3/15:   0%|          | 0/753 [00:00<?, ?it/s]"
      ]
     },
     "metadata": {},
     "output_type": "display_data"
    },
    {
     "name": "stdout",
     "output_type": "stream",
     "text": [
      "Epoch 3/15, Training Loss: 1.9091, Validation Loss: 1.9328\n"
     ]
    },
    {
     "data": {
      "application/vnd.jupyter.widget-view+json": {
       "model_id": "ff72e1777a6842f28de8afec9ef9fde9",
       "version_major": 2,
       "version_minor": 0
      },
      "text/plain": [
       "Epoch 4/15:   0%|          | 0/753 [00:00<?, ?it/s]"
      ]
     },
     "metadata": {},
     "output_type": "display_data"
    },
    {
     "name": "stdout",
     "output_type": "stream",
     "text": [
      "Epoch 4/15, Training Loss: 1.8990, Validation Loss: 1.9538\n"
     ]
    },
    {
     "data": {
      "application/vnd.jupyter.widget-view+json": {
       "model_id": "9cecf501281a4d2b866ccfc6edf55b03",
       "version_major": 2,
       "version_minor": 0
      },
      "text/plain": [
       "Epoch 5/15:   0%|          | 0/753 [00:00<?, ?it/s]"
      ]
     },
     "metadata": {},
     "output_type": "display_data"
    },
    {
     "name": "stdout",
     "output_type": "stream",
     "text": [
      "Epoch 5/15, Training Loss: 1.8901, Validation Loss: 1.9125\n"
     ]
    },
    {
     "data": {
      "application/vnd.jupyter.widget-view+json": {
       "model_id": "cbc16b76f54f40c1938656a918f4e3e6",
       "version_major": 2,
       "version_minor": 0
      },
      "text/plain": [
       "Epoch 6/15:   0%|          | 0/753 [00:00<?, ?it/s]"
      ]
     },
     "metadata": {},
     "output_type": "display_data"
    },
    {
     "name": "stdout",
     "output_type": "stream",
     "text": [
      "Epoch 6/15, Training Loss: 1.8837, Validation Loss: 1.9117\n"
     ]
    },
    {
     "data": {
      "application/vnd.jupyter.widget-view+json": {
       "model_id": "43ab1de6e6794dbfbfa8ab4b98c77a58",
       "version_major": 2,
       "version_minor": 0
      },
      "text/plain": [
       "Epoch 7/15:   0%|          | 0/753 [00:00<?, ?it/s]"
      ]
     },
     "metadata": {},
     "output_type": "display_data"
    },
    {
     "name": "stdout",
     "output_type": "stream",
     "text": [
      "Epoch 7/15, Training Loss: 1.8817, Validation Loss: 1.9188\n"
     ]
    },
    {
     "data": {
      "application/vnd.jupyter.widget-view+json": {
       "model_id": "c165d11cb3b748e39a51d32f142a7308",
       "version_major": 2,
       "version_minor": 0
      },
      "text/plain": [
       "Epoch 8/15:   0%|          | 0/753 [00:00<?, ?it/s]"
      ]
     },
     "metadata": {},
     "output_type": "display_data"
    },
    {
     "name": "stdout",
     "output_type": "stream",
     "text": [
      "Epoch 8/15, Training Loss: 1.8757, Validation Loss: 1.8996\n"
     ]
    },
    {
     "data": {
      "application/vnd.jupyter.widget-view+json": {
       "model_id": "5edcc91756534620ad516b1f49f2a8a9",
       "version_major": 2,
       "version_minor": 0
      },
      "text/plain": [
       "Epoch 9/15:   0%|          | 0/753 [00:00<?, ?it/s]"
      ]
     },
     "metadata": {},
     "output_type": "display_data"
    },
    {
     "name": "stdout",
     "output_type": "stream",
     "text": [
      "Epoch 9/15, Training Loss: 1.8750, Validation Loss: 1.9126\n"
     ]
    },
    {
     "data": {
      "application/vnd.jupyter.widget-view+json": {
       "model_id": "b1a43022ac6e4946a1628e4ef55412c5",
       "version_major": 2,
       "version_minor": 0
      },
      "text/plain": [
       "Epoch 10/15:   0%|          | 0/753 [00:00<?, ?it/s]"
      ]
     },
     "metadata": {},
     "output_type": "display_data"
    },
    {
     "name": "stdout",
     "output_type": "stream",
     "text": [
      "Epoch 10/15, Training Loss: 1.8725, Validation Loss: 1.9081\n"
     ]
    },
    {
     "data": {
      "application/vnd.jupyter.widget-view+json": {
       "model_id": "a6e9bb33062a437fbc1cb3cd1c41c028",
       "version_major": 2,
       "version_minor": 0
      },
      "text/plain": [
       "Epoch 11/15:   0%|          | 0/753 [00:00<?, ?it/s]"
      ]
     },
     "metadata": {},
     "output_type": "display_data"
    },
    {
     "name": "stdout",
     "output_type": "stream",
     "text": [
      "Epoch 11/15, Training Loss: 1.8709, Validation Loss: 1.9065\n",
      "Epoch    11: reducing learning rate of group 0 to 1.2500e-04.\n"
     ]
    },
    {
     "data": {
      "application/vnd.jupyter.widget-view+json": {
       "model_id": "9dda8e52226243fb994520e8499e29c5",
       "version_major": 2,
       "version_minor": 0
      },
      "text/plain": [
       "Epoch 12/15:   0%|          | 0/753 [00:00<?, ?it/s]"
      ]
     },
     "metadata": {},
     "output_type": "display_data"
    },
    {
     "name": "stdout",
     "output_type": "stream",
     "text": [
      "Epoch 12/15, Training Loss: 1.8623, Validation Loss: 1.9089\n"
     ]
    },
    {
     "data": {
      "application/vnd.jupyter.widget-view+json": {
       "model_id": "ca0ab999425248faae68c8ac5df51353",
       "version_major": 2,
       "version_minor": 0
      },
      "text/plain": [
       "Epoch 13/15:   0%|          | 0/753 [00:00<?, ?it/s]"
      ]
     },
     "metadata": {},
     "output_type": "display_data"
    },
    {
     "name": "stdout",
     "output_type": "stream",
     "text": [
      "Epoch 13/15, Training Loss: 1.8566, Validation Loss: 1.8955\n"
     ]
    },
    {
     "data": {
      "application/vnd.jupyter.widget-view+json": {
       "model_id": "965a0b9ce8c746ab986d17db2ebcd120",
       "version_major": 2,
       "version_minor": 0
      },
      "text/plain": [
       "Epoch 14/15:   0%|          | 0/753 [00:00<?, ?it/s]"
      ]
     },
     "metadata": {},
     "output_type": "display_data"
    },
    {
     "name": "stdout",
     "output_type": "stream",
     "text": [
      "Epoch 14/15, Training Loss: 1.8539, Validation Loss: 1.8982\n"
     ]
    },
    {
     "data": {
      "application/vnd.jupyter.widget-view+json": {
       "model_id": "c35b68b603994abeb24439a26c4150ab",
       "version_major": 2,
       "version_minor": 0
      },
      "text/plain": [
       "Epoch 15/15:   0%|          | 0/753 [00:00<?, ?it/s]"
      ]
     },
     "metadata": {},
     "output_type": "display_data"
    },
    {
     "name": "stdout",
     "output_type": "stream",
     "text": [
      "Epoch 15/15, Training Loss: 1.8488, Validation Loss: 1.8984\n",
      "Reached maximum epoch limit.\n",
      "Training with batch size: 32, learning rate: 0.00025, unfreeze option: last_two, weight_decay: 0.0005, augument: False\n"
     ]
    },
    {
     "data": {
      "application/vnd.jupyter.widget-view+json": {
       "model_id": "aa31d743ed4c4e9a900a43b0246c0c70",
       "version_major": 2,
       "version_minor": 0
      },
      "text/plain": [
       "Epoch 1/15:   0%|          | 0/753 [00:00<?, ?it/s]"
      ]
     },
     "metadata": {},
     "output_type": "display_data"
    },
    {
     "name": "stdout",
     "output_type": "stream",
     "text": [
      "Epoch 1/15, Training Loss: 1.8857, Validation Loss: 1.9197\n"
     ]
    },
    {
     "data": {
      "application/vnd.jupyter.widget-view+json": {
       "model_id": "bbd84f43b77b4c558a46303eef4af569",
       "version_major": 2,
       "version_minor": 0
      },
      "text/plain": [
       "Epoch 2/15:   0%|          | 0/753 [00:00<?, ?it/s]"
      ]
     },
     "metadata": {},
     "output_type": "display_data"
    },
    {
     "name": "stdout",
     "output_type": "stream",
     "text": [
      "Epoch 2/15, Training Loss: 1.8028, Validation Loss: 1.9311\n"
     ]
    },
    {
     "data": {
      "application/vnd.jupyter.widget-view+json": {
       "model_id": "9e352f13ad974e60a3f7e6083b6295ed",
       "version_major": 2,
       "version_minor": 0
      },
      "text/plain": [
       "Epoch 3/15:   0%|          | 0/753 [00:00<?, ?it/s]"
      ]
     },
     "metadata": {},
     "output_type": "display_data"
    },
    {
     "name": "stdout",
     "output_type": "stream",
     "text": [
      "Epoch 3/15, Training Loss: 1.7596, Validation Loss: 1.9266\n"
     ]
    },
    {
     "data": {
      "application/vnd.jupyter.widget-view+json": {
       "model_id": "95e9e6d0f5c7482ea789b506f1cb74c1",
       "version_major": 2,
       "version_minor": 0
      },
      "text/plain": [
       "Epoch 4/15:   0%|          | 0/753 [00:00<?, ?it/s]"
      ]
     },
     "metadata": {},
     "output_type": "display_data"
    },
    {
     "name": "stdout",
     "output_type": "stream",
     "text": [
      "Epoch 4/15, Training Loss: 1.7290, Validation Loss: 1.9147\n"
     ]
    },
    {
     "data": {
      "application/vnd.jupyter.widget-view+json": {
       "model_id": "4a202e97607346438da3c619b625b57b",
       "version_major": 2,
       "version_minor": 0
      },
      "text/plain": [
       "Epoch 5/15:   0%|          | 0/753 [00:00<?, ?it/s]"
      ]
     },
     "metadata": {},
     "output_type": "display_data"
    },
    {
     "name": "stdout",
     "output_type": "stream",
     "text": [
      "Epoch 5/15, Training Loss: 1.7043, Validation Loss: 1.9386\n"
     ]
    },
    {
     "data": {
      "application/vnd.jupyter.widget-view+json": {
       "model_id": "a37bd1c099c844088ba51488ad4ecc93",
       "version_major": 2,
       "version_minor": 0
      },
      "text/plain": [
       "Epoch 6/15:   0%|          | 0/753 [00:00<?, ?it/s]"
      ]
     },
     "metadata": {},
     "output_type": "display_data"
    },
    {
     "name": "stdout",
     "output_type": "stream",
     "text": [
      "Epoch 6/15, Training Loss: 1.6787, Validation Loss: 1.9349\n"
     ]
    },
    {
     "data": {
      "application/vnd.jupyter.widget-view+json": {
       "model_id": "1f800c67e8864f29bcb4932b69dd2321",
       "version_major": 2,
       "version_minor": 0
      },
      "text/plain": [
       "Epoch 7/15:   0%|          | 0/753 [00:00<?, ?it/s]"
      ]
     },
     "metadata": {},
     "output_type": "display_data"
    },
    {
     "name": "stdout",
     "output_type": "stream",
     "text": [
      "Epoch 7/15, Training Loss: 1.6633, Validation Loss: 1.9307\n",
      "Epoch     7: reducing learning rate of group 0 to 6.2500e-05.\n"
     ]
    },
    {
     "data": {
      "application/vnd.jupyter.widget-view+json": {
       "model_id": "88fb172fec044e67978b69ec215bdfbc",
       "version_major": 2,
       "version_minor": 0
      },
      "text/plain": [
       "Epoch 8/15:   0%|          | 0/753 [00:00<?, ?it/s]"
      ]
     },
     "metadata": {},
     "output_type": "display_data"
    },
    {
     "name": "stdout",
     "output_type": "stream",
     "text": [
      "Epoch 8/15, Training Loss: 1.5576, Validation Loss: 1.9523\n"
     ]
    },
    {
     "data": {
      "application/vnd.jupyter.widget-view+json": {
       "model_id": "a3422790515b4f04b313b3606ea13ac9",
       "version_major": 2,
       "version_minor": 0
      },
      "text/plain": [
       "Epoch 9/15:   0%|          | 0/753 [00:00<?, ?it/s]"
      ]
     },
     "metadata": {},
     "output_type": "display_data"
    },
    {
     "name": "stdout",
     "output_type": "stream",
     "text": [
      "Epoch 9/15, Training Loss: 1.5046, Validation Loss: 1.9606\n"
     ]
    },
    {
     "data": {
      "application/vnd.jupyter.widget-view+json": {
       "model_id": "d97f4af467254f319a1e42bdd0b77021",
       "version_major": 2,
       "version_minor": 0
      },
      "text/plain": [
       "Epoch 10/15:   0%|          | 0/753 [00:00<?, ?it/s]"
      ]
     },
     "metadata": {},
     "output_type": "display_data"
    },
    {
     "name": "stdout",
     "output_type": "stream",
     "text": [
      "Epoch 10/15, Training Loss: 1.4676, Validation Loss: 2.0098\n",
      "Epoch    10: reducing learning rate of group 0 to 1.5625e-05.\n",
      "Early stopping triggered after 10 epochs.\n",
      "Training with batch size: 32, learning rate: 0.00025, unfreeze option: last_two, weight_decay: 0.0005, augument: True\n"
     ]
    },
    {
     "data": {
      "application/vnd.jupyter.widget-view+json": {
       "model_id": "bd4a61ebf0c44d8bb11d209a9632a3a8",
       "version_major": 2,
       "version_minor": 0
      },
      "text/plain": [
       "Epoch 1/15:   0%|          | 0/753 [00:00<?, ?it/s]"
      ]
     },
     "metadata": {},
     "output_type": "display_data"
    },
    {
     "name": "stdout",
     "output_type": "stream",
     "text": [
      "Epoch 1/15, Training Loss: 1.9268, Validation Loss: 1.9699\n"
     ]
    },
    {
     "data": {
      "application/vnd.jupyter.widget-view+json": {
       "model_id": "aadf691d149b43829c45ed3d9d80cab3",
       "version_major": 2,
       "version_minor": 0
      },
      "text/plain": [
       "Epoch 2/15:   0%|          | 0/753 [00:00<?, ?it/s]"
      ]
     },
     "metadata": {},
     "output_type": "display_data"
    },
    {
     "name": "stdout",
     "output_type": "stream",
     "text": [
      "Epoch 2/15, Training Loss: 1.8619, Validation Loss: 1.9295\n"
     ]
    },
    {
     "data": {
      "application/vnd.jupyter.widget-view+json": {
       "model_id": "8d8e282fc68d476495943f02fe5dbcda",
       "version_major": 2,
       "version_minor": 0
      },
      "text/plain": [
       "Epoch 3/15:   0%|          | 0/753 [00:00<?, ?it/s]"
      ]
     },
     "metadata": {},
     "output_type": "display_data"
    },
    {
     "name": "stdout",
     "output_type": "stream",
     "text": [
      "Epoch 3/15, Training Loss: 1.8371, Validation Loss: 1.9272\n"
     ]
    },
    {
     "data": {
      "application/vnd.jupyter.widget-view+json": {
       "model_id": "53d134d6959e4367a6907b7c456d47ba",
       "version_major": 2,
       "version_minor": 0
      },
      "text/plain": [
       "Epoch 4/15:   0%|          | 0/753 [00:00<?, ?it/s]"
      ]
     },
     "metadata": {},
     "output_type": "display_data"
    },
    {
     "name": "stdout",
     "output_type": "stream",
     "text": [
      "Epoch 4/15, Training Loss: 1.8187, Validation Loss: 1.9045\n"
     ]
    },
    {
     "data": {
      "application/vnd.jupyter.widget-view+json": {
       "model_id": "44ea1ab4d7e6489bb1268beb7b06fbca",
       "version_major": 2,
       "version_minor": 0
      },
      "text/plain": [
       "Epoch 5/15:   0%|          | 0/753 [00:00<?, ?it/s]"
      ]
     },
     "metadata": {},
     "output_type": "display_data"
    },
    {
     "name": "stdout",
     "output_type": "stream",
     "text": [
      "Epoch 5/15, Training Loss: 1.7989, Validation Loss: 1.9104\n"
     ]
    },
    {
     "data": {
      "application/vnd.jupyter.widget-view+json": {
       "model_id": "1d899a5d0fc04056887b5f482d3ab92d",
       "version_major": 2,
       "version_minor": 0
      },
      "text/plain": [
       "Epoch 6/15:   0%|          | 0/753 [00:00<?, ?it/s]"
      ]
     },
     "metadata": {},
     "output_type": "display_data"
    },
    {
     "name": "stdout",
     "output_type": "stream",
     "text": [
      "Epoch 6/15, Training Loss: 1.7940, Validation Loss: 1.8914\n"
     ]
    },
    {
     "data": {
      "application/vnd.jupyter.widget-view+json": {
       "model_id": "cd28e41aee9243289a7c767dd90fe414",
       "version_major": 2,
       "version_minor": 0
      },
      "text/plain": [
       "Epoch 7/15:   0%|          | 0/753 [00:00<?, ?it/s]"
      ]
     },
     "metadata": {},
     "output_type": "display_data"
    },
    {
     "name": "stdout",
     "output_type": "stream",
     "text": [
      "Epoch 7/15, Training Loss: 1.7861, Validation Loss: 1.9239\n"
     ]
    },
    {
     "data": {
      "application/vnd.jupyter.widget-view+json": {
       "model_id": "84568bdaffb84967b5e91fa95d8c3433",
       "version_major": 2,
       "version_minor": 0
      },
      "text/plain": [
       "Epoch 8/15:   0%|          | 0/753 [00:00<?, ?it/s]"
      ]
     },
     "metadata": {},
     "output_type": "display_data"
    },
    {
     "name": "stdout",
     "output_type": "stream",
     "text": [
      "Epoch 8/15, Training Loss: 1.7748, Validation Loss: 1.9421\n"
     ]
    },
    {
     "data": {
      "application/vnd.jupyter.widget-view+json": {
       "model_id": "930c84463dfc4b45a63acc45b48e00a1",
       "version_major": 2,
       "version_minor": 0
      },
      "text/plain": [
       "Epoch 9/15:   0%|          | 0/753 [00:00<?, ?it/s]"
      ]
     },
     "metadata": {},
     "output_type": "display_data"
    },
    {
     "name": "stdout",
     "output_type": "stream",
     "text": [
      "Epoch 9/15, Training Loss: 1.7658, Validation Loss: 1.9889\n",
      "Epoch     9: reducing learning rate of group 0 to 6.2500e-05.\n"
     ]
    },
    {
     "data": {
      "application/vnd.jupyter.widget-view+json": {
       "model_id": "2e44d346049f47178054bedb0dad2ba1",
       "version_major": 2,
       "version_minor": 0
      },
      "text/plain": [
       "Epoch 10/15:   0%|          | 0/753 [00:00<?, ?it/s]"
      ]
     },
     "metadata": {},
     "output_type": "display_data"
    },
    {
     "name": "stdout",
     "output_type": "stream",
     "text": [
      "Epoch 10/15, Training Loss: 1.7131, Validation Loss: 1.9941\n"
     ]
    },
    {
     "data": {
      "application/vnd.jupyter.widget-view+json": {
       "model_id": "ed56b114ef90466d93b503f0a9ee96c7",
       "version_major": 2,
       "version_minor": 0
      },
      "text/plain": [
       "Epoch 11/15:   0%|          | 0/753 [00:00<?, ?it/s]"
      ]
     },
     "metadata": {},
     "output_type": "display_data"
    },
    {
     "name": "stdout",
     "output_type": "stream",
     "text": [
      "Epoch 11/15, Training Loss: 1.6874, Validation Loss: 1.9144\n"
     ]
    },
    {
     "data": {
      "application/vnd.jupyter.widget-view+json": {
       "model_id": "2f9231595766476fa0fa2948ae1607b4",
       "version_major": 2,
       "version_minor": 0
      },
      "text/plain": [
       "Epoch 12/15:   0%|          | 0/753 [00:00<?, ?it/s]"
      ]
     },
     "metadata": {},
     "output_type": "display_data"
    },
    {
     "name": "stdout",
     "output_type": "stream",
     "text": [
      "Epoch 12/15, Training Loss: 1.6715, Validation Loss: 1.9622\n",
      "Epoch    12: reducing learning rate of group 0 to 1.5625e-05.\n",
      "Early stopping triggered after 12 epochs.\n",
      "Training with batch size: 32, learning rate: 0.00025, unfreeze option: last_two, weight_decay: 0.001, augument: False\n"
     ]
    },
    {
     "data": {
      "application/vnd.jupyter.widget-view+json": {
       "model_id": "657876bd08b34e5781fc6c156d639908",
       "version_major": 2,
       "version_minor": 0
      },
      "text/plain": [
       "Epoch 1/15:   0%|          | 0/753 [00:00<?, ?it/s]"
      ]
     },
     "metadata": {},
     "output_type": "display_data"
    },
    {
     "name": "stdout",
     "output_type": "stream",
     "text": [
      "Epoch 1/15, Training Loss: 1.8886, Validation Loss: 1.8936\n"
     ]
    },
    {
     "data": {
      "application/vnd.jupyter.widget-view+json": {
       "model_id": "e96d1052a0f24d1585ae2f502605bc84",
       "version_major": 2,
       "version_minor": 0
      },
      "text/plain": [
       "Epoch 2/15:   0%|          | 0/753 [00:00<?, ?it/s]"
      ]
     },
     "metadata": {},
     "output_type": "display_data"
    },
    {
     "name": "stdout",
     "output_type": "stream",
     "text": [
      "Epoch 2/15, Training Loss: 1.8114, Validation Loss: 1.9262\n"
     ]
    },
    {
     "data": {
      "application/vnd.jupyter.widget-view+json": {
       "model_id": "1d5428a7bff04148bf2941af4f521c08",
       "version_major": 2,
       "version_minor": 0
      },
      "text/plain": [
       "Epoch 3/15:   0%|          | 0/753 [00:00<?, ?it/s]"
      ]
     },
     "metadata": {},
     "output_type": "display_data"
    },
    {
     "name": "stdout",
     "output_type": "stream",
     "text": [
      "Epoch 3/15, Training Loss: 1.7800, Validation Loss: 1.9023\n"
     ]
    },
    {
     "data": {
      "application/vnd.jupyter.widget-view+json": {
       "model_id": "7d2a2c05bae5474eb39b86408dcfc3fe",
       "version_major": 2,
       "version_minor": 0
      },
      "text/plain": [
       "Epoch 4/15:   0%|          | 0/753 [00:00<?, ?it/s]"
      ]
     },
     "metadata": {},
     "output_type": "display_data"
    },
    {
     "name": "stdout",
     "output_type": "stream",
     "text": [
      "Epoch 4/15, Training Loss: 1.7576, Validation Loss: 1.8971\n",
      "Epoch     4: reducing learning rate of group 0 to 6.2500e-05.\n"
     ]
    },
    {
     "data": {
      "application/vnd.jupyter.widget-view+json": {
       "model_id": "ce2dbcef1cef4b8b8ad46ddc985fd129",
       "version_major": 2,
       "version_minor": 0
      },
      "text/plain": [
       "Epoch 5/15:   0%|          | 0/753 [00:00<?, ?it/s]"
      ]
     },
     "metadata": {},
     "output_type": "display_data"
    },
    {
     "name": "stdout",
     "output_type": "stream",
     "text": [
      "Epoch 5/15, Training Loss: 1.6726, Validation Loss: 1.9024\n"
     ]
    },
    {
     "data": {
      "application/vnd.jupyter.widget-view+json": {
       "model_id": "fd8967f808c746d9985a67531df54be8",
       "version_major": 2,
       "version_minor": 0
      },
      "text/plain": [
       "Epoch 6/15:   0%|          | 0/753 [00:00<?, ?it/s]"
      ]
     },
     "metadata": {},
     "output_type": "display_data"
    },
    {
     "name": "stdout",
     "output_type": "stream",
     "text": [
      "Epoch 6/15, Training Loss: 1.6300, Validation Loss: 1.9159\n"
     ]
    },
    {
     "data": {
      "application/vnd.jupyter.widget-view+json": {
       "model_id": "ea7d248548864bcb823c42700447b1ce",
       "version_major": 2,
       "version_minor": 0
      },
      "text/plain": [
       "Epoch 7/15:   0%|          | 0/753 [00:00<?, ?it/s]"
      ]
     },
     "metadata": {},
     "output_type": "display_data"
    },
    {
     "name": "stdout",
     "output_type": "stream",
     "text": [
      "Epoch 7/15, Training Loss: 1.5946, Validation Loss: 1.9069\n",
      "Epoch     7: reducing learning rate of group 0 to 1.5625e-05.\n",
      "Early stopping triggered after 7 epochs.\n",
      "Training with batch size: 32, learning rate: 0.00025, unfreeze option: last_two, weight_decay: 0.001, augument: True\n"
     ]
    },
    {
     "data": {
      "application/vnd.jupyter.widget-view+json": {
       "model_id": "63bdc7579fc94498bc197999400a5955",
       "version_major": 2,
       "version_minor": 0
      },
      "text/plain": [
       "Epoch 1/15:   0%|          | 0/753 [00:00<?, ?it/s]"
      ]
     },
     "metadata": {},
     "output_type": "display_data"
    },
    {
     "name": "stdout",
     "output_type": "stream",
     "text": [
      "Epoch 1/15, Training Loss: 1.9282, Validation Loss: 1.9290\n"
     ]
    },
    {
     "data": {
      "application/vnd.jupyter.widget-view+json": {
       "model_id": "f8ae972640a54e4bbbbbf87854c41c63",
       "version_major": 2,
       "version_minor": 0
      },
      "text/plain": [
       "Epoch 2/15:   0%|          | 0/753 [00:00<?, ?it/s]"
      ]
     },
     "metadata": {},
     "output_type": "display_data"
    },
    {
     "name": "stdout",
     "output_type": "stream",
     "text": [
      "Epoch 2/15, Training Loss: 1.8669, Validation Loss: 1.9583\n"
     ]
    },
    {
     "data": {
      "application/vnd.jupyter.widget-view+json": {
       "model_id": "eb40ff8b11974fecbb845dce9f9f82e4",
       "version_major": 2,
       "version_minor": 0
      },
      "text/plain": [
       "Epoch 3/15:   0%|          | 0/753 [00:00<?, ?it/s]"
      ]
     },
     "metadata": {},
     "output_type": "display_data"
    },
    {
     "name": "stdout",
     "output_type": "stream",
     "text": [
      "Epoch 3/15, Training Loss: 1.8501, Validation Loss: 1.9322\n"
     ]
    },
    {
     "data": {
      "application/vnd.jupyter.widget-view+json": {
       "model_id": "a95fbf064e6346a4afe186b636d835b5",
       "version_major": 2,
       "version_minor": 0
      },
      "text/plain": [
       "Epoch 4/15:   0%|          | 0/753 [00:00<?, ?it/s]"
      ]
     },
     "metadata": {},
     "output_type": "display_data"
    },
    {
     "name": "stdout",
     "output_type": "stream",
     "text": [
      "Epoch 4/15, Training Loss: 1.8379, Validation Loss: 1.9362\n",
      "Epoch     4: reducing learning rate of group 0 to 6.2500e-05.\n"
     ]
    },
    {
     "data": {
      "application/vnd.jupyter.widget-view+json": {
       "model_id": "de902d770ca2405fb79ef875f29f4bd3",
       "version_major": 2,
       "version_minor": 0
      },
      "text/plain": [
       "Epoch 5/15:   0%|          | 0/753 [00:00<?, ?it/s]"
      ]
     },
     "metadata": {},
     "output_type": "display_data"
    },
    {
     "name": "stdout",
     "output_type": "stream",
     "text": [
      "Epoch 5/15, Training Loss: 1.7905, Validation Loss: 1.9172\n"
     ]
    },
    {
     "data": {
      "application/vnd.jupyter.widget-view+json": {
       "model_id": "18ffaacad2c6415d96e0ddcf2629760d",
       "version_major": 2,
       "version_minor": 0
      },
      "text/plain": [
       "Epoch 6/15:   0%|          | 0/753 [00:00<?, ?it/s]"
      ]
     },
     "metadata": {},
     "output_type": "display_data"
    },
    {
     "name": "stdout",
     "output_type": "stream",
     "text": [
      "Epoch 6/15, Training Loss: 1.7659, Validation Loss: 1.9391\n"
     ]
    },
    {
     "data": {
      "application/vnd.jupyter.widget-view+json": {
       "model_id": "e18957b60d4b4c5a9941ff415415fe26",
       "version_major": 2,
       "version_minor": 0
      },
      "text/plain": [
       "Epoch 7/15:   0%|          | 0/753 [00:00<?, ?it/s]"
      ]
     },
     "metadata": {},
     "output_type": "display_data"
    },
    {
     "name": "stdout",
     "output_type": "stream",
     "text": [
      "Epoch 7/15, Training Loss: 1.7497, Validation Loss: 1.8942\n"
     ]
    },
    {
     "data": {
      "application/vnd.jupyter.widget-view+json": {
       "model_id": "650fa18d78b44455bf709cbfe718e298",
       "version_major": 2,
       "version_minor": 0
      },
      "text/plain": [
       "Epoch 8/15:   0%|          | 0/753 [00:00<?, ?it/s]"
      ]
     },
     "metadata": {},
     "output_type": "display_data"
    },
    {
     "name": "stdout",
     "output_type": "stream",
     "text": [
      "Epoch 8/15, Training Loss: 1.7317, Validation Loss: 1.9330\n"
     ]
    },
    {
     "data": {
      "application/vnd.jupyter.widget-view+json": {
       "model_id": "1f773e2303514f59b005ca8f674bbf81",
       "version_major": 2,
       "version_minor": 0
      },
      "text/plain": [
       "Epoch 9/15:   0%|          | 0/753 [00:00<?, ?it/s]"
      ]
     },
     "metadata": {},
     "output_type": "display_data"
    },
    {
     "name": "stdout",
     "output_type": "stream",
     "text": [
      "Epoch 9/15, Training Loss: 1.7111, Validation Loss: 1.9211\n"
     ]
    },
    {
     "data": {
      "application/vnd.jupyter.widget-view+json": {
       "model_id": "e6821bf1ba004f1eb116274effb16548",
       "version_major": 2,
       "version_minor": 0
      },
      "text/plain": [
       "Epoch 10/15:   0%|          | 0/753 [00:00<?, ?it/s]"
      ]
     },
     "metadata": {},
     "output_type": "display_data"
    },
    {
     "name": "stdout",
     "output_type": "stream",
     "text": [
      "Epoch 10/15, Training Loss: 1.7034, Validation Loss: 1.9822\n",
      "Epoch    10: reducing learning rate of group 0 to 1.5625e-05.\n"
     ]
    },
    {
     "data": {
      "application/vnd.jupyter.widget-view+json": {
       "model_id": "81a349733db144d899db301c72c583f3",
       "version_major": 2,
       "version_minor": 0
      },
      "text/plain": [
       "Epoch 11/15:   0%|          | 0/753 [00:00<?, ?it/s]"
      ]
     },
     "metadata": {},
     "output_type": "display_data"
    },
    {
     "name": "stdout",
     "output_type": "stream",
     "text": [
      "Epoch 11/15, Training Loss: 1.6663, Validation Loss: 1.9300\n"
     ]
    },
    {
     "data": {
      "application/vnd.jupyter.widget-view+json": {
       "model_id": "179e20eb8b614206ac853f559db48522",
       "version_major": 2,
       "version_minor": 0
      },
      "text/plain": [
       "Epoch 12/15:   0%|          | 0/753 [00:00<?, ?it/s]"
      ]
     },
     "metadata": {},
     "output_type": "display_data"
    },
    {
     "name": "stdout",
     "output_type": "stream",
     "text": [
      "Epoch 12/15, Training Loss: 1.6473, Validation Loss: 1.9713\n"
     ]
    },
    {
     "data": {
      "application/vnd.jupyter.widget-view+json": {
       "model_id": "10d93480e9f648b38a2c8cdafbb57273",
       "version_major": 2,
       "version_minor": 0
      },
      "text/plain": [
       "Epoch 13/15:   0%|          | 0/753 [00:00<?, ?it/s]"
      ]
     },
     "metadata": {},
     "output_type": "display_data"
    },
    {
     "name": "stdout",
     "output_type": "stream",
     "text": [
      "Epoch 13/15, Training Loss: 1.6296, Validation Loss: 2.0070\n",
      "Epoch    13: reducing learning rate of group 0 to 3.9063e-06.\n",
      "Early stopping triggered after 13 epochs.\n",
      "Training with batch size: 32, learning rate: 0.00025, unfreeze option: last_two, weight_decay: 0.0025, augument: False\n"
     ]
    },
    {
     "data": {
      "application/vnd.jupyter.widget-view+json": {
       "model_id": "7fbbce820c75431ca99740c47347116f",
       "version_major": 2,
       "version_minor": 0
      },
      "text/plain": [
       "Epoch 1/15:   0%|          | 0/753 [00:00<?, ?it/s]"
      ]
     },
     "metadata": {},
     "output_type": "display_data"
    },
    {
     "name": "stdout",
     "output_type": "stream",
     "text": [
      "Epoch 1/15, Training Loss: 1.8882, Validation Loss: 1.9359\n"
     ]
    },
    {
     "data": {
      "application/vnd.jupyter.widget-view+json": {
       "model_id": "b6bf5e6204a847ed8e56ba399640c1f4",
       "version_major": 2,
       "version_minor": 0
      },
      "text/plain": [
       "Epoch 2/15:   0%|          | 0/753 [00:00<?, ?it/s]"
      ]
     },
     "metadata": {},
     "output_type": "display_data"
    },
    {
     "name": "stdout",
     "output_type": "stream",
     "text": [
      "Epoch 2/15, Training Loss: 1.8308, Validation Loss: 1.9186\n"
     ]
    },
    {
     "data": {
      "application/vnd.jupyter.widget-view+json": {
       "model_id": "6440091a450c41fe8bb676d923128278",
       "version_major": 2,
       "version_minor": 0
      },
      "text/plain": [
       "Epoch 3/15:   0%|          | 0/753 [00:00<?, ?it/s]"
      ]
     },
     "metadata": {},
     "output_type": "display_data"
    },
    {
     "name": "stdout",
     "output_type": "stream",
     "text": [
      "Epoch 3/15, Training Loss: 1.8161, Validation Loss: 1.9018\n"
     ]
    },
    {
     "data": {
      "application/vnd.jupyter.widget-view+json": {
       "model_id": "0c0842bf025b45d283a093f94a591e30",
       "version_major": 2,
       "version_minor": 0
      },
      "text/plain": [
       "Epoch 4/15:   0%|          | 0/753 [00:00<?, ?it/s]"
      ]
     },
     "metadata": {},
     "output_type": "display_data"
    },
    {
     "name": "stdout",
     "output_type": "stream",
     "text": [
      "Epoch 4/15, Training Loss: 1.8066, Validation Loss: 1.9184\n"
     ]
    },
    {
     "data": {
      "application/vnd.jupyter.widget-view+json": {
       "model_id": "97ff3f40da0d4c1995c69d095143103d",
       "version_major": 2,
       "version_minor": 0
      },
      "text/plain": [
       "Epoch 5/15:   0%|          | 0/753 [00:00<?, ?it/s]"
      ]
     },
     "metadata": {},
     "output_type": "display_data"
    },
    {
     "name": "stdout",
     "output_type": "stream",
     "text": [
      "Epoch 5/15, Training Loss: 1.7940, Validation Loss: 1.8922\n"
     ]
    },
    {
     "data": {
      "application/vnd.jupyter.widget-view+json": {
       "model_id": "8ac9519a9916471da73edf2e8ec344d2",
       "version_major": 2,
       "version_minor": 0
      },
      "text/plain": [
       "Epoch 6/15:   0%|          | 0/753 [00:00<?, ?it/s]"
      ]
     },
     "metadata": {},
     "output_type": "display_data"
    },
    {
     "name": "stdout",
     "output_type": "stream",
     "text": [
      "Epoch 6/15, Training Loss: 1.7863, Validation Loss: 1.9056\n"
     ]
    },
    {
     "data": {
      "application/vnd.jupyter.widget-view+json": {
       "model_id": "d7210a0ab6244f8f87a62c1a6e4c65b7",
       "version_major": 2,
       "version_minor": 0
      },
      "text/plain": [
       "Epoch 7/15:   0%|          | 0/753 [00:00<?, ?it/s]"
      ]
     },
     "metadata": {},
     "output_type": "display_data"
    },
    {
     "name": "stdout",
     "output_type": "stream",
     "text": [
      "Epoch 7/15, Training Loss: 1.7738, Validation Loss: 1.9539\n"
     ]
    },
    {
     "data": {
      "application/vnd.jupyter.widget-view+json": {
       "model_id": "43fad3a0d6f3444c8d9a9190237168a2",
       "version_major": 2,
       "version_minor": 0
      },
      "text/plain": [
       "Epoch 8/15:   0%|          | 0/753 [00:00<?, ?it/s]"
      ]
     },
     "metadata": {},
     "output_type": "display_data"
    },
    {
     "name": "stdout",
     "output_type": "stream",
     "text": [
      "Epoch 8/15, Training Loss: 1.7561, Validation Loss: 1.8836\n"
     ]
    },
    {
     "data": {
      "application/vnd.jupyter.widget-view+json": {
       "model_id": "5ed28aacc2384f64b448698485fbbee4",
       "version_major": 2,
       "version_minor": 0
      },
      "text/plain": [
       "Epoch 9/15:   0%|          | 0/753 [00:00<?, ?it/s]"
      ]
     },
     "metadata": {},
     "output_type": "display_data"
    },
    {
     "name": "stdout",
     "output_type": "stream",
     "text": [
      "Epoch 9/15, Training Loss: 1.7441, Validation Loss: 1.9005\n"
     ]
    },
    {
     "data": {
      "application/vnd.jupyter.widget-view+json": {
       "model_id": "fdb5a0cffb6f45799aa4ba0e182748cd",
       "version_major": 2,
       "version_minor": 0
      },
      "text/plain": [
       "Epoch 10/15:   0%|          | 0/753 [00:00<?, ?it/s]"
      ]
     },
     "metadata": {},
     "output_type": "display_data"
    },
    {
     "name": "stdout",
     "output_type": "stream",
     "text": [
      "Epoch 10/15, Training Loss: 1.7333, Validation Loss: 1.8591\n"
     ]
    },
    {
     "data": {
      "application/vnd.jupyter.widget-view+json": {
       "model_id": "947b2bfe6cfc4ceb99e7aa052fda0967",
       "version_major": 2,
       "version_minor": 0
      },
      "text/plain": [
       "Epoch 11/15:   0%|          | 0/753 [00:00<?, ?it/s]"
      ]
     },
     "metadata": {},
     "output_type": "display_data"
    },
    {
     "name": "stdout",
     "output_type": "stream",
     "text": [
      "Epoch 11/15, Training Loss: 1.7164, Validation Loss: 1.8783\n"
     ]
    },
    {
     "data": {
      "application/vnd.jupyter.widget-view+json": {
       "model_id": "b892c3ed9c544e56b34ce6baa427f309",
       "version_major": 2,
       "version_minor": 0
      },
      "text/plain": [
       "Epoch 12/15:   0%|          | 0/753 [00:00<?, ?it/s]"
      ]
     },
     "metadata": {},
     "output_type": "display_data"
    },
    {
     "name": "stdout",
     "output_type": "stream",
     "text": [
      "Epoch 12/15, Training Loss: 1.7050, Validation Loss: 1.8839\n"
     ]
    },
    {
     "data": {
      "application/vnd.jupyter.widget-view+json": {
       "model_id": "39e9473efa4248c69dd22cb1db3fdfd9",
       "version_major": 2,
       "version_minor": 0
      },
      "text/plain": [
       "Epoch 13/15:   0%|          | 0/753 [00:00<?, ?it/s]"
      ]
     },
     "metadata": {},
     "output_type": "display_data"
    },
    {
     "name": "stdout",
     "output_type": "stream",
     "text": [
      "Epoch 13/15, Training Loss: 1.6980, Validation Loss: 1.8605\n",
      "Epoch    13: reducing learning rate of group 0 to 6.2500e-05.\n"
     ]
    },
    {
     "data": {
      "application/vnd.jupyter.widget-view+json": {
       "model_id": "d009eadc6c364e69b5ffa4b05a055005",
       "version_major": 2,
       "version_minor": 0
      },
      "text/plain": [
       "Epoch 14/15:   0%|          | 0/753 [00:00<?, ?it/s]"
      ]
     },
     "metadata": {},
     "output_type": "display_data"
    },
    {
     "name": "stdout",
     "output_type": "stream",
     "text": [
      "Epoch 14/15, Training Loss: 1.6426, Validation Loss: 1.8589\n"
     ]
    },
    {
     "data": {
      "application/vnd.jupyter.widget-view+json": {
       "model_id": "fcc914f4bde64d29b30d89e713b1c1c0",
       "version_major": 2,
       "version_minor": 0
      },
      "text/plain": [
       "Epoch 15/15:   0%|          | 0/753 [00:00<?, ?it/s]"
      ]
     },
     "metadata": {},
     "output_type": "display_data"
    },
    {
     "name": "stdout",
     "output_type": "stream",
     "text": [
      "Epoch 15/15, Training Loss: 1.6116, Validation Loss: 1.8838\n",
      "Reached maximum epoch limit.\n",
      "Training with batch size: 32, learning rate: 0.00025, unfreeze option: last_two, weight_decay: 0.0025, augument: True\n"
     ]
    },
    {
     "data": {
      "application/vnd.jupyter.widget-view+json": {
       "model_id": "695d952beff94356a1bdcf257aff4f27",
       "version_major": 2,
       "version_minor": 0
      },
      "text/plain": [
       "Epoch 1/15:   0%|          | 0/753 [00:00<?, ?it/s]"
      ]
     },
     "metadata": {},
     "output_type": "display_data"
    },
    {
     "name": "stdout",
     "output_type": "stream",
     "text": [
      "Epoch 1/15, Training Loss: 1.9222, Validation Loss: 1.9497\n"
     ]
    },
    {
     "data": {
      "application/vnd.jupyter.widget-view+json": {
       "model_id": "b002834542324c99a480900477c5355f",
       "version_major": 2,
       "version_minor": 0
      },
      "text/plain": [
       "Epoch 2/15:   0%|          | 0/753 [00:00<?, ?it/s]"
      ]
     },
     "metadata": {},
     "output_type": "display_data"
    },
    {
     "name": "stdout",
     "output_type": "stream",
     "text": [
      "Epoch 2/15, Training Loss: 1.8723, Validation Loss: 1.8954\n"
     ]
    },
    {
     "data": {
      "application/vnd.jupyter.widget-view+json": {
       "model_id": "856b2cd1d4234bca81dd93a73e22da1b",
       "version_major": 2,
       "version_minor": 0
      },
      "text/plain": [
       "Epoch 3/15:   0%|          | 0/753 [00:00<?, ?it/s]"
      ]
     },
     "metadata": {},
     "output_type": "display_data"
    },
    {
     "name": "stdout",
     "output_type": "stream",
     "text": [
      "Epoch 3/15, Training Loss: 1.8678, Validation Loss: 1.9593\n"
     ]
    },
    {
     "data": {
      "application/vnd.jupyter.widget-view+json": {
       "model_id": "1d0fc49d2f5143b182a2e52980862001",
       "version_major": 2,
       "version_minor": 0
      },
      "text/plain": [
       "Epoch 4/15:   0%|          | 0/753 [00:00<?, ?it/s]"
      ]
     },
     "metadata": {},
     "output_type": "display_data"
    },
    {
     "name": "stdout",
     "output_type": "stream",
     "text": [
      "Epoch 4/15, Training Loss: 1.8640, Validation Loss: 1.9167\n"
     ]
    },
    {
     "data": {
      "application/vnd.jupyter.widget-view+json": {
       "model_id": "34bfdf7da3ca49aba3a784c4eeda7b7a",
       "version_major": 2,
       "version_minor": 0
      },
      "text/plain": [
       "Epoch 5/15:   0%|          | 0/753 [00:00<?, ?it/s]"
      ]
     },
     "metadata": {},
     "output_type": "display_data"
    },
    {
     "name": "stdout",
     "output_type": "stream",
     "text": [
      "Epoch 5/15, Training Loss: 1.8572, Validation Loss: 1.9578\n",
      "Epoch     5: reducing learning rate of group 0 to 6.2500e-05.\n"
     ]
    },
    {
     "data": {
      "application/vnd.jupyter.widget-view+json": {
       "model_id": "9711bc2391974f4ebd8c6ebd4d66170c",
       "version_major": 2,
       "version_minor": 0
      },
      "text/plain": [
       "Epoch 6/15:   0%|          | 0/753 [00:00<?, ?it/s]"
      ]
     },
     "metadata": {},
     "output_type": "display_data"
    },
    {
     "name": "stdout",
     "output_type": "stream",
     "text": [
      "Epoch 6/15, Training Loss: 1.8213, Validation Loss: 1.9137\n"
     ]
    },
    {
     "data": {
      "application/vnd.jupyter.widget-view+json": {
       "model_id": "720dc5897d59403eab66ba5f961ef75f",
       "version_major": 2,
       "version_minor": 0
      },
      "text/plain": [
       "Epoch 7/15:   0%|          | 0/753 [00:00<?, ?it/s]"
      ]
     },
     "metadata": {},
     "output_type": "display_data"
    },
    {
     "name": "stdout",
     "output_type": "stream",
     "text": [
      "Epoch 7/15, Training Loss: 1.8018, Validation Loss: 1.8975\n"
     ]
    },
    {
     "data": {
      "application/vnd.jupyter.widget-view+json": {
       "model_id": "11e4264ac354459383f11bf748cc9947",
       "version_major": 2,
       "version_minor": 0
      },
      "text/plain": [
       "Epoch 8/15:   0%|          | 0/753 [00:00<?, ?it/s]"
      ]
     },
     "metadata": {},
     "output_type": "display_data"
    },
    {
     "name": "stdout",
     "output_type": "stream",
     "text": [
      "Epoch 8/15, Training Loss: 1.7884, Validation Loss: 1.9116\n",
      "Epoch     8: reducing learning rate of group 0 to 1.5625e-05.\n",
      "Early stopping triggered after 8 epochs.\n",
      "Training with batch size: 32, learning rate: 0.00025, unfreeze option: last_two, weight_decay: 0.005, augument: False\n"
     ]
    },
    {
     "data": {
      "application/vnd.jupyter.widget-view+json": {
       "model_id": "051466b6981748768ff7a08f0621ca11",
       "version_major": 2,
       "version_minor": 0
      },
      "text/plain": [
       "Epoch 1/15:   0%|          | 0/753 [00:00<?, ?it/s]"
      ]
     },
     "metadata": {},
     "output_type": "display_data"
    },
    {
     "name": "stdout",
     "output_type": "stream",
     "text": [
      "Epoch 1/15, Training Loss: 1.8983, Validation Loss: 1.9136\n"
     ]
    },
    {
     "data": {
      "application/vnd.jupyter.widget-view+json": {
       "model_id": "1c58dd780b3548408569609c206ae291",
       "version_major": 2,
       "version_minor": 0
      },
      "text/plain": [
       "Epoch 2/15:   0%|          | 0/753 [00:00<?, ?it/s]"
      ]
     },
     "metadata": {},
     "output_type": "display_data"
    },
    {
     "name": "stdout",
     "output_type": "stream",
     "text": [
      "Epoch 2/15, Training Loss: 1.8535, Validation Loss: 1.9050\n"
     ]
    },
    {
     "data": {
      "application/vnd.jupyter.widget-view+json": {
       "model_id": "e07a52f25bbb4a878836931996679490",
       "version_major": 2,
       "version_minor": 0
      },
      "text/plain": [
       "Epoch 3/15:   0%|          | 0/753 [00:00<?, ?it/s]"
      ]
     },
     "metadata": {},
     "output_type": "display_data"
    },
    {
     "name": "stdout",
     "output_type": "stream",
     "text": [
      "Epoch 3/15, Training Loss: 1.8514, Validation Loss: 1.9069\n"
     ]
    },
    {
     "data": {
      "application/vnd.jupyter.widget-view+json": {
       "model_id": "1bb3b29e4ff94d528245863890fe9a5a",
       "version_major": 2,
       "version_minor": 0
      },
      "text/plain": [
       "Epoch 4/15:   0%|          | 0/753 [00:00<?, ?it/s]"
      ]
     },
     "metadata": {},
     "output_type": "display_data"
    },
    {
     "name": "stdout",
     "output_type": "stream",
     "text": [
      "Epoch 4/15, Training Loss: 1.8525, Validation Loss: 1.9181\n"
     ]
    },
    {
     "data": {
      "application/vnd.jupyter.widget-view+json": {
       "model_id": "8377f0d2c2a84981aedb2f6aa7d510ee",
       "version_major": 2,
       "version_minor": 0
      },
      "text/plain": [
       "Epoch 5/15:   0%|          | 0/753 [00:00<?, ?it/s]"
      ]
     },
     "metadata": {},
     "output_type": "display_data"
    },
    {
     "name": "stdout",
     "output_type": "stream",
     "text": [
      "Epoch 5/15, Training Loss: 1.8358, Validation Loss: 1.8916\n"
     ]
    },
    {
     "data": {
      "application/vnd.jupyter.widget-view+json": {
       "model_id": "b67391d4a6e14b3681bc58eed5ed63ed",
       "version_major": 2,
       "version_minor": 0
      },
      "text/plain": [
       "Epoch 6/15:   0%|          | 0/753 [00:00<?, ?it/s]"
      ]
     },
     "metadata": {},
     "output_type": "display_data"
    },
    {
     "name": "stdout",
     "output_type": "stream",
     "text": [
      "Epoch 6/15, Training Loss: 1.8262, Validation Loss: 1.8714\n"
     ]
    },
    {
     "data": {
      "application/vnd.jupyter.widget-view+json": {
       "model_id": "e0177c6289e648fc88c78dd16e71a275",
       "version_major": 2,
       "version_minor": 0
      },
      "text/plain": [
       "Epoch 7/15:   0%|          | 0/753 [00:00<?, ?it/s]"
      ]
     },
     "metadata": {},
     "output_type": "display_data"
    },
    {
     "name": "stdout",
     "output_type": "stream",
     "text": [
      "Epoch 7/15, Training Loss: 1.8107, Validation Loss: 1.9297\n"
     ]
    },
    {
     "data": {
      "application/vnd.jupyter.widget-view+json": {
       "model_id": "609fd34be3444cab93d2fbefb17350b7",
       "version_major": 2,
       "version_minor": 0
      },
      "text/plain": [
       "Epoch 8/15:   0%|          | 0/753 [00:00<?, ?it/s]"
      ]
     },
     "metadata": {},
     "output_type": "display_data"
    },
    {
     "name": "stdout",
     "output_type": "stream",
     "text": [
      "Epoch 8/15, Training Loss: 1.7959, Validation Loss: 1.8782\n"
     ]
    },
    {
     "data": {
      "application/vnd.jupyter.widget-view+json": {
       "model_id": "5b8d38f42cbf414a999ba126c361b179",
       "version_major": 2,
       "version_minor": 0
      },
      "text/plain": [
       "Epoch 9/15:   0%|          | 0/753 [00:00<?, ?it/s]"
      ]
     },
     "metadata": {},
     "output_type": "display_data"
    },
    {
     "name": "stdout",
     "output_type": "stream",
     "text": [
      "Epoch 9/15, Training Loss: 1.7775, Validation Loss: 1.9107\n",
      "Epoch     9: reducing learning rate of group 0 to 6.2500e-05.\n"
     ]
    },
    {
     "data": {
      "application/vnd.jupyter.widget-view+json": {
       "model_id": "62590254f53b4f2ab5f4e6abb7a688b2",
       "version_major": 2,
       "version_minor": 0
      },
      "text/plain": [
       "Epoch 10/15:   0%|          | 0/753 [00:00<?, ?it/s]"
      ]
     },
     "metadata": {},
     "output_type": "display_data"
    },
    {
     "name": "stdout",
     "output_type": "stream",
     "text": [
      "Epoch 10/15, Training Loss: 1.7313, Validation Loss: 1.8548\n"
     ]
    },
    {
     "data": {
      "application/vnd.jupyter.widget-view+json": {
       "model_id": "a6ce638efba043c089b4e79905e9e242",
       "version_major": 2,
       "version_minor": 0
      },
      "text/plain": [
       "Epoch 11/15:   0%|          | 0/753 [00:00<?, ?it/s]"
      ]
     },
     "metadata": {},
     "output_type": "display_data"
    },
    {
     "name": "stdout",
     "output_type": "stream",
     "text": [
      "Epoch 11/15, Training Loss: 1.7111, Validation Loss: 1.8588\n"
     ]
    },
    {
     "data": {
      "application/vnd.jupyter.widget-view+json": {
       "model_id": "2ecae07d44ed4c7e967d99b144d38ed0",
       "version_major": 2,
       "version_minor": 0
      },
      "text/plain": [
       "Epoch 12/15:   0%|          | 0/753 [00:00<?, ?it/s]"
      ]
     },
     "metadata": {},
     "output_type": "display_data"
    },
    {
     "name": "stdout",
     "output_type": "stream",
     "text": [
      "Epoch 12/15, Training Loss: 1.6987, Validation Loss: 1.8529\n"
     ]
    },
    {
     "data": {
      "application/vnd.jupyter.widget-view+json": {
       "model_id": "46f1136ab684401c94888abb6d0a9da7",
       "version_major": 2,
       "version_minor": 0
      },
      "text/plain": [
       "Epoch 13/15:   0%|          | 0/753 [00:00<?, ?it/s]"
      ]
     },
     "metadata": {},
     "output_type": "display_data"
    },
    {
     "name": "stdout",
     "output_type": "stream",
     "text": [
      "Epoch 13/15, Training Loss: 1.6910, Validation Loss: 1.8603\n"
     ]
    },
    {
     "data": {
      "application/vnd.jupyter.widget-view+json": {
       "model_id": "c7b0241756a84a109b8ca284b3ed3ffd",
       "version_major": 2,
       "version_minor": 0
      },
      "text/plain": [
       "Epoch 14/15:   0%|          | 0/753 [00:00<?, ?it/s]"
      ]
     },
     "metadata": {},
     "output_type": "display_data"
    },
    {
     "name": "stdout",
     "output_type": "stream",
     "text": [
      "Epoch 14/15, Training Loss: 1.6806, Validation Loss: 1.8730\n"
     ]
    },
    {
     "data": {
      "application/vnd.jupyter.widget-view+json": {
       "model_id": "2d2191d9688d4a53912a492934c2fe04",
       "version_major": 2,
       "version_minor": 0
      },
      "text/plain": [
       "Epoch 15/15:   0%|          | 0/753 [00:00<?, ?it/s]"
      ]
     },
     "metadata": {},
     "output_type": "display_data"
    },
    {
     "name": "stdout",
     "output_type": "stream",
     "text": [
      "Epoch 15/15, Training Loss: 1.6719, Validation Loss: 1.8532\n",
      "Epoch    15: reducing learning rate of group 0 to 1.5625e-05.\n",
      "Reached maximum epoch limit.\n",
      "Training with batch size: 32, learning rate: 0.00025, unfreeze option: last_two, weight_decay: 0.005, augument: True\n"
     ]
    },
    {
     "data": {
      "application/vnd.jupyter.widget-view+json": {
       "model_id": "54921588de184e429d114a9375bb054b",
       "version_major": 2,
       "version_minor": 0
      },
      "text/plain": [
       "Epoch 1/15:   0%|          | 0/753 [00:00<?, ?it/s]"
      ]
     },
     "metadata": {},
     "output_type": "display_data"
    },
    {
     "name": "stdout",
     "output_type": "stream",
     "text": [
      "Epoch 1/15, Training Loss: 1.9269, Validation Loss: 2.0436\n"
     ]
    },
    {
     "data": {
      "application/vnd.jupyter.widget-view+json": {
       "model_id": "b59be9b42d2441d78bbe0093ed9f4aeb",
       "version_major": 2,
       "version_minor": 0
      },
      "text/plain": [
       "Epoch 2/15:   0%|          | 0/753 [00:00<?, ?it/s]"
      ]
     },
     "metadata": {},
     "output_type": "display_data"
    },
    {
     "name": "stdout",
     "output_type": "stream",
     "text": [
      "Epoch 2/15, Training Loss: 1.8943, Validation Loss: 1.9540\n"
     ]
    },
    {
     "data": {
      "application/vnd.jupyter.widget-view+json": {
       "model_id": "59ce8c44d03940c0bf51f157c5edfbf3",
       "version_major": 2,
       "version_minor": 0
      },
      "text/plain": [
       "Epoch 3/15:   0%|          | 0/753 [00:00<?, ?it/s]"
      ]
     },
     "metadata": {},
     "output_type": "display_data"
    },
    {
     "name": "stdout",
     "output_type": "stream",
     "text": [
      "Epoch 3/15, Training Loss: 1.8918, Validation Loss: 1.9305\n"
     ]
    },
    {
     "data": {
      "application/vnd.jupyter.widget-view+json": {
       "model_id": "e3cf51542f3840d2a1f7f2677327ded7",
       "version_major": 2,
       "version_minor": 0
      },
      "text/plain": [
       "Epoch 4/15:   0%|          | 0/753 [00:00<?, ?it/s]"
      ]
     },
     "metadata": {},
     "output_type": "display_data"
    },
    {
     "name": "stdout",
     "output_type": "stream",
     "text": [
      "Epoch 4/15, Training Loss: 1.8909, Validation Loss: 1.9355\n"
     ]
    },
    {
     "data": {
      "application/vnd.jupyter.widget-view+json": {
       "model_id": "b9ff73c79faa46498cc405f2eb3b284c",
       "version_major": 2,
       "version_minor": 0
      },
      "text/plain": [
       "Epoch 5/15:   0%|          | 0/753 [00:00<?, ?it/s]"
      ]
     },
     "metadata": {},
     "output_type": "display_data"
    },
    {
     "name": "stdout",
     "output_type": "stream",
     "text": [
      "Epoch 5/15, Training Loss: 1.8856, Validation Loss: 1.9012\n"
     ]
    },
    {
     "data": {
      "application/vnd.jupyter.widget-view+json": {
       "model_id": "7c63b5effe4446ad96e7d85df487e456",
       "version_major": 2,
       "version_minor": 0
      },
      "text/plain": [
       "Epoch 6/15:   0%|          | 0/753 [00:00<?, ?it/s]"
      ]
     },
     "metadata": {},
     "output_type": "display_data"
    },
    {
     "name": "stdout",
     "output_type": "stream",
     "text": [
      "Epoch 6/15, Training Loss: 1.8809, Validation Loss: 1.9228\n"
     ]
    },
    {
     "data": {
      "application/vnd.jupyter.widget-view+json": {
       "model_id": "bcbfa9b95aeb42f8915e4781b21c8f3d",
       "version_major": 2,
       "version_minor": 0
      },
      "text/plain": [
       "Epoch 7/15:   0%|          | 0/753 [00:00<?, ?it/s]"
      ]
     },
     "metadata": {},
     "output_type": "display_data"
    },
    {
     "name": "stdout",
     "output_type": "stream",
     "text": [
      "Epoch 7/15, Training Loss: 1.8733, Validation Loss: 1.9155\n"
     ]
    },
    {
     "data": {
      "application/vnd.jupyter.widget-view+json": {
       "model_id": "f5cae03063a24c988c86921e8c081e90",
       "version_major": 2,
       "version_minor": 0
      },
      "text/plain": [
       "Epoch 8/15:   0%|          | 0/753 [00:00<?, ?it/s]"
      ]
     },
     "metadata": {},
     "output_type": "display_data"
    },
    {
     "name": "stdout",
     "output_type": "stream",
     "text": [
      "Epoch 8/15, Training Loss: 1.8624, Validation Loss: 1.9080\n",
      "Epoch     8: reducing learning rate of group 0 to 6.2500e-05.\n"
     ]
    },
    {
     "data": {
      "application/vnd.jupyter.widget-view+json": {
       "model_id": "efb3f522f8544717a15b66c11dc7d403",
       "version_major": 2,
       "version_minor": 0
      },
      "text/plain": [
       "Epoch 9/15:   0%|          | 0/753 [00:00<?, ?it/s]"
      ]
     },
     "metadata": {},
     "output_type": "display_data"
    },
    {
     "name": "stdout",
     "output_type": "stream",
     "text": [
      "Epoch 9/15, Training Loss: 1.8410, Validation Loss: 1.9047\n"
     ]
    },
    {
     "data": {
      "application/vnd.jupyter.widget-view+json": {
       "model_id": "272d65298dfe4b598de50a4cd436f866",
       "version_major": 2,
       "version_minor": 0
      },
      "text/plain": [
       "Epoch 10/15:   0%|          | 0/753 [00:00<?, ?it/s]"
      ]
     },
     "metadata": {},
     "output_type": "display_data"
    },
    {
     "name": "stdout",
     "output_type": "stream",
     "text": [
      "Epoch 10/15, Training Loss: 1.8316, Validation Loss: 1.8990\n"
     ]
    },
    {
     "data": {
      "application/vnd.jupyter.widget-view+json": {
       "model_id": "4517683cfd46417e9147b6370c2b8ca2",
       "version_major": 2,
       "version_minor": 0
      },
      "text/plain": [
       "Epoch 11/15:   0%|          | 0/753 [00:00<?, ?it/s]"
      ]
     },
     "metadata": {},
     "output_type": "display_data"
    },
    {
     "name": "stdout",
     "output_type": "stream",
     "text": [
      "Epoch 11/15, Training Loss: 1.8230, Validation Loss: 1.9117\n"
     ]
    },
    {
     "data": {
      "application/vnd.jupyter.widget-view+json": {
       "model_id": "95642aa90a4b4b448aa0caa6be1a36ff",
       "version_major": 2,
       "version_minor": 0
      },
      "text/plain": [
       "Epoch 12/15:   0%|          | 0/753 [00:00<?, ?it/s]"
      ]
     },
     "metadata": {},
     "output_type": "display_data"
    },
    {
     "name": "stdout",
     "output_type": "stream",
     "text": [
      "Epoch 12/15, Training Loss: 1.8127, Validation Loss: 1.9104\n"
     ]
    },
    {
     "data": {
      "application/vnd.jupyter.widget-view+json": {
       "model_id": "f7f9f8bc98c546b8b0ea7b583a4226d1",
       "version_major": 2,
       "version_minor": 0
      },
      "text/plain": [
       "Epoch 13/15:   0%|          | 0/753 [00:00<?, ?it/s]"
      ]
     },
     "metadata": {},
     "output_type": "display_data"
    },
    {
     "name": "stdout",
     "output_type": "stream",
     "text": [
      "Epoch 13/15, Training Loss: 1.8106, Validation Loss: 1.8871\n"
     ]
    },
    {
     "data": {
      "application/vnd.jupyter.widget-view+json": {
       "model_id": "ab5afff558eb41ee83e040ecd9d49260",
       "version_major": 2,
       "version_minor": 0
      },
      "text/plain": [
       "Epoch 14/15:   0%|          | 0/753 [00:00<?, ?it/s]"
      ]
     },
     "metadata": {},
     "output_type": "display_data"
    },
    {
     "name": "stdout",
     "output_type": "stream",
     "text": [
      "Epoch 14/15, Training Loss: 1.8044, Validation Loss: 1.8855\n"
     ]
    },
    {
     "data": {
      "application/vnd.jupyter.widget-view+json": {
       "model_id": "f900419338ae4e15a73fa46e36bde5e0",
       "version_major": 2,
       "version_minor": 0
      },
      "text/plain": [
       "Epoch 15/15:   0%|          | 0/753 [00:00<?, ?it/s]"
      ]
     },
     "metadata": {},
     "output_type": "display_data"
    },
    {
     "name": "stdout",
     "output_type": "stream",
     "text": [
      "Epoch 15/15, Training Loss: 1.8002, Validation Loss: 1.8868\n",
      "Reached maximum epoch limit.\n",
      "Best Parameters: {'batch_size': 32, 'learning_rate': 0.00025, 'unfreeze_option': 'last_two', 'weight_decay': 0.005, 'augument': False}, Best Validation Loss: 1.8528775403896967\n"
     ]
    }
   ],
   "source": [
    "device = torch.device(\"cuda\" if torch.cuda.is_available() else \"cpu\")\n",
    "\n",
    "# Initialize a DataFrame to collect all data\n",
    "all_data = pd.DataFrame()\n",
    "# Example hyperparameters for the grid search\n",
    "batch_sizes = [32]  # Standard across tests to focus on other variables\n",
    "learning_rates = [0.0005, 0.00025]  # Add more as needed\n",
    "unfreeze_options = ['last_two']  # Consistent as 'last_three' was too unstable\n",
    "weight_decays = [0.0005, 0.001, 0.0025, 0.005]\n",
    "augument_data = [False, True] \n",
    "\n",
    "# Placeholder for best model's performance, now focusing on validation loss\n",
    "best_loss = float('inf')  # Use infinity as the initial value for the best loss\n",
    "best_params = {}\n",
    "\n",
    "# Updated train_and_evaluate function that returns the best validation loss\n",
    "\n",
    "for batch_size in batch_sizes:\n",
    "    for lr in learning_rates:\n",
    "        for unfreeze_option in unfreeze_options:\n",
    "            for weight_decay in weight_decays:\n",
    "                for augument in augument_data:\n",
    "\n",
    "                    print(f\"Training with batch size: {batch_size}, learning rate: {lr}, unfreeze option: {unfreeze_option}, weight_decay: {weight_decay}, augument: {augument}\")\n",
    "\n",
    "                    # Load a pretrained ResNet model\n",
    "                    model = models.resnet18(pretrained=True)\n",
    "                    \n",
    "                    # Freeze all parameters first\n",
    "                    for param in model.parameters():\n",
    "                        param.requires_grad = False\n",
    "\n",
    "                    # Replace the last fully connected layer to adapt to the number of classes (7 in this case)\n",
    "                    num_classes = 7\n",
    "                    num_ftrs = model.fc.in_features\n",
    "                    model.fc = nn.Linear(num_ftrs, num_classes)    \n",
    "                    \n",
    "                    # Unfreeze the selected layers based on unfreeze_option\n",
    "                    if unfreeze_option == 'last_two':\n",
    "                        for param in model.layer4.parameters():\n",
    "                            param.requires_grad = True\n",
    "                        for param in model.fc.parameters():\n",
    "                            param.requires_grad = True\n",
    "                    elif unfreeze_option == 'last_three':\n",
    "                        # Unfreeze both the last block and the fully connected layer\n",
    "                        for param in model.layer3.parameters():\n",
    "                            param.requires_grad = True\n",
    "                        for param in model.layer4.parameters():\n",
    "                            param.requires_grad = True\n",
    "                        for param in model.fc.parameters():\n",
    "                            param.requires_grad = True\n",
    "                    \n",
    "                    model = model.to(device)\n",
    "                    #print(model)\n",
    "\n",
    "                    # Assuming you've already defined your datasets\n",
    "                    # Initialize datasets with the appropriate transforms based on the augment flag\n",
    "                    final_transform = augument_transforms if augument else train_transforms\n",
    "                    train_dataset = AgeBracketDataset(train_df, transform=final_transform)\n",
    "                    train_loader = DataLoader(train_dataset, batch_size=batch_size, shuffle=True)\n",
    "\n",
    "                    val_dataset = AgeBracketDataset(val_df, transform=val_test_transforms)\n",
    "                    val_loader = DataLoader(val_dataset, batch_size=batch_size, shuffle=False)\n",
    "\n",
    "                    optimizer = Adam(filter(lambda p: p.requires_grad, model.parameters()), lr=lr, weight_decay=weight_decay)\n",
    "                    criterion = nn.CrossEntropyLoss()\n",
    "                    scheduler = ReduceLROnPlateau(optimizer, 'min', factor=0.25, patience=2, verbose=True)\n",
    "                    \n",
    "                    # Prepare config details for data recording\n",
    "                    config_details = {\n",
    "                        'batch_size': batch_size,\n",
    "                        'learning_rate': lr,\n",
    "                        'unfreeze_option': unfreeze_option,\n",
    "                        'weight_decay': weight_decay,\n",
    "                        'augument': augument\n",
    "                    }\n",
    "\n",
    "                    \n",
    "                    # Run training and evaluation, now expecting validation loss as the return value\n",
    "                    val_loss, data_df = train_and_evaluate_val_loss(model, train_loader, val_loader, optimizer, criterion, scheduler, num_epochs=15, patience=6, config_details=config_details)  # Adjust num_epochs and patience as needed\n",
    "\n",
    "                    # Append results to the master DataFrame\n",
    "                    all_data = pd.concat([all_data, data_df], ignore_index=True)\n",
    "                    # Save the complete data to CSV\n",
    "                    all_data.to_csv('/workspace/workspace/ufo-prediction/demo/gridsearch3b.csv', index=False)\n",
    "\n",
    "                    # Update best model tracking based on validation loss\n",
    "                    if val_loss < best_loss:\n",
    "                        best_loss = val_loss\n",
    "                        best_params = {'batch_size': batch_size, 'learning_rate': lr, 'unfreeze_option': unfreeze_option, 'weight_decay': weight_decay, 'augument': augument}\n",
    "\n",
    "\n",
    "# Print the best parameters and validation loss\n",
    "print(f\"Best Parameters: {best_params}, Best Validation Loss: {best_loss}\")\n"
   ]
  },
  {
   "cell_type": "markdown",
   "metadata": {},
   "source": [
    "Best Parameters: {'batch_size': 32, 'learning_rate': 0.00025, 'unfreeze_option': 'last_two', 'weight_decay': 0.005, 'augument': False}, Best Validation Loss: 1.8528775403896967"
   ]
  },
  {
   "cell_type": "markdown",
   "metadata": {},
   "source": [
    "# Evaluate grid search 3\n",
    "\n",
    "Result documentation Grid search 3, see gridsearch3.csv"
   ]
  },
  {
   "cell_type": "code",
   "execution_count": 26,
   "metadata": {},
   "outputs": [],
   "source": [
    "grid_df = pd.read_csv('/workspace/workspace/ufo-prediction/demo/gridsearch3b.csv', encoding='latin1')"
   ]
  },
  {
   "cell_type": "code",
   "execution_count": 27,
   "metadata": {},
   "outputs": [
    {
     "data": {
      "text/html": [
       "<div>\n",
       "<style scoped>\n",
       "    .dataframe tbody tr th:only-of-type {\n",
       "        vertical-align: middle;\n",
       "    }\n",
       "\n",
       "    .dataframe tbody tr th {\n",
       "        vertical-align: top;\n",
       "    }\n",
       "\n",
       "    .dataframe thead th {\n",
       "        text-align: right;\n",
       "    }\n",
       "</style>\n",
       "<table border=\"1\" class=\"dataframe\">\n",
       "  <thead>\n",
       "    <tr style=\"text-align: right;\">\n",
       "      <th></th>\n",
       "      <th>epoch</th>\n",
       "      <th>validation_loss</th>\n",
       "      <th>batch_size</th>\n",
       "      <th>learning_rate</th>\n",
       "      <th>unfreeze_option</th>\n",
       "      <th>weight_decay</th>\n",
       "      <th>augument</th>\n",
       "    </tr>\n",
       "  </thead>\n",
       "  <tbody>\n",
       "    <tr>\n",
       "      <th>0</th>\n",
       "      <td>1</td>\n",
       "      <td>1.932925</td>\n",
       "      <td>32</td>\n",
       "      <td>0.00100</td>\n",
       "      <td>last_two</td>\n",
       "      <td>0.0005</td>\n",
       "      <td>False</td>\n",
       "    </tr>\n",
       "    <tr>\n",
       "      <th>1</th>\n",
       "      <td>2</td>\n",
       "      <td>1.919240</td>\n",
       "      <td>32</td>\n",
       "      <td>0.00100</td>\n",
       "      <td>last_two</td>\n",
       "      <td>0.0005</td>\n",
       "      <td>False</td>\n",
       "    </tr>\n",
       "    <tr>\n",
       "      <th>2</th>\n",
       "      <td>3</td>\n",
       "      <td>1.895745</td>\n",
       "      <td>32</td>\n",
       "      <td>0.00100</td>\n",
       "      <td>last_two</td>\n",
       "      <td>0.0005</td>\n",
       "      <td>False</td>\n",
       "    </tr>\n",
       "    <tr>\n",
       "      <th>3</th>\n",
       "      <td>4</td>\n",
       "      <td>1.923291</td>\n",
       "      <td>32</td>\n",
       "      <td>0.00100</td>\n",
       "      <td>last_two</td>\n",
       "      <td>0.0005</td>\n",
       "      <td>False</td>\n",
       "    </tr>\n",
       "    <tr>\n",
       "      <th>4</th>\n",
       "      <td>5</td>\n",
       "      <td>1.881175</td>\n",
       "      <td>32</td>\n",
       "      <td>0.00100</td>\n",
       "      <td>last_two</td>\n",
       "      <td>0.0005</td>\n",
       "      <td>False</td>\n",
       "    </tr>\n",
       "    <tr>\n",
       "      <th>...</th>\n",
       "      <td>...</td>\n",
       "      <td>...</td>\n",
       "      <td>...</td>\n",
       "      <td>...</td>\n",
       "      <td>...</td>\n",
       "      <td>...</td>\n",
       "      <td>...</td>\n",
       "    </tr>\n",
       "    <tr>\n",
       "      <th>437</th>\n",
       "      <td>11</td>\n",
       "      <td>1.911685</td>\n",
       "      <td>32</td>\n",
       "      <td>0.00025</td>\n",
       "      <td>last_two</td>\n",
       "      <td>0.0050</td>\n",
       "      <td>True</td>\n",
       "    </tr>\n",
       "    <tr>\n",
       "      <th>438</th>\n",
       "      <td>12</td>\n",
       "      <td>1.910376</td>\n",
       "      <td>32</td>\n",
       "      <td>0.00025</td>\n",
       "      <td>last_two</td>\n",
       "      <td>0.0050</td>\n",
       "      <td>True</td>\n",
       "    </tr>\n",
       "    <tr>\n",
       "      <th>439</th>\n",
       "      <td>13</td>\n",
       "      <td>1.887064</td>\n",
       "      <td>32</td>\n",
       "      <td>0.00025</td>\n",
       "      <td>last_two</td>\n",
       "      <td>0.0050</td>\n",
       "      <td>True</td>\n",
       "    </tr>\n",
       "    <tr>\n",
       "      <th>440</th>\n",
       "      <td>14</td>\n",
       "      <td>1.885463</td>\n",
       "      <td>32</td>\n",
       "      <td>0.00025</td>\n",
       "      <td>last_two</td>\n",
       "      <td>0.0050</td>\n",
       "      <td>True</td>\n",
       "    </tr>\n",
       "    <tr>\n",
       "      <th>441</th>\n",
       "      <td>15</td>\n",
       "      <td>1.886786</td>\n",
       "      <td>32</td>\n",
       "      <td>0.00025</td>\n",
       "      <td>last_two</td>\n",
       "      <td>0.0050</td>\n",
       "      <td>True</td>\n",
       "    </tr>\n",
       "  </tbody>\n",
       "</table>\n",
       "<p>442 rows × 7 columns</p>\n",
       "</div>"
      ],
      "text/plain": [
       "     epoch  validation_loss  batch_size  learning_rate unfreeze_option  \\\n",
       "0        1         1.932925          32        0.00100        last_two   \n",
       "1        2         1.919240          32        0.00100        last_two   \n",
       "2        3         1.895745          32        0.00100        last_two   \n",
       "3        4         1.923291          32        0.00100        last_two   \n",
       "4        5         1.881175          32        0.00100        last_two   \n",
       "..     ...              ...         ...            ...             ...   \n",
       "437     11         1.911685          32        0.00025        last_two   \n",
       "438     12         1.910376          32        0.00025        last_two   \n",
       "439     13         1.887064          32        0.00025        last_two   \n",
       "440     14         1.885463          32        0.00025        last_two   \n",
       "441     15         1.886786          32        0.00025        last_two   \n",
       "\n",
       "     weight_decay augument  \n",
       "0          0.0005    False  \n",
       "1          0.0005    False  \n",
       "2          0.0005    False  \n",
       "3          0.0005    False  \n",
       "4          0.0005    False  \n",
       "..            ...      ...  \n",
       "437        0.0050     True  \n",
       "438        0.0050     True  \n",
       "439        0.0050     True  \n",
       "440        0.0050     True  \n",
       "441        0.0050     True  \n",
       "\n",
       "[442 rows x 7 columns]"
      ]
     },
     "execution_count": 27,
     "metadata": {},
     "output_type": "execute_result"
    }
   ],
   "source": [
    "grid_df['epoch'] = grid_df['epoch'].astype(int)\n",
    "grid_df['batch_size'] = grid_df['batch_size'].astype(int)\n",
    "grid_df['learning_rate'] = grid_df['learning_rate'].astype(float)\n",
    "grid_df['validation_loss'] = grid_df['validation_loss'].astype(float)\n",
    "grid_df['weight_decay'] = grid_df['weight_decay'].astype(float)\n",
    "grid_df['augument'] = grid_df['augument'].astype(str)\n",
    "grid_df"
   ]
  },
  {
   "cell_type": "code",
   "execution_count": 28,
   "metadata": {},
   "outputs": [
    {
     "data": {
      "image/png": "[encoded data removed]",
      "text/plain": [
       "<Figure size 1000x600 with 1 Axes>"
      ]
     },
     "metadata": {},
     "output_type": "display_data"
    }
   ],
   "source": [
    "# Define colors and line styles based on learning rate and weight decay\n",
    "color_map = {'False': 'blue', 'True': 'green'}\n",
    "line_style_map = {0.001: ':', 0.00075: '-', 0.0005: '--', 0.00025: '-.'}\t\n",
    "opacity_map = {0.0005: 1.0, 0.001: 0.8, 0.0025: 0.5, 0.005: 0.3}\n",
    "\n",
    "plt.figure(figsize=(10, 6))\n",
    "for (augument, lr, weight), group_data in grid_df.groupby(['augument', 'learning_rate', 'weight_decay']):\n",
    "    plt.plot(group_data['epoch'], group_data['validation_loss'], \n",
    "             color=color_map[augument],\n",
    "             linestyle=line_style_map[lr],\n",
    "             alpha=opacity_map[weight])\n",
    "# Setting the y-axis limits\n",
    "plt.ylim(1.8, 2.05)\n",
    "# Create custom legends\n",
    "last_line = mlines.Line2D([], [], color='blue', linestyle='-', label='not augumented')\n",
    "last_plus_one_line = mlines.Line2D([], [], color='green', linestyle='-', label='augumented')\n",
    "\n",
    "plt.legend(handles=[last_line, last_plus_one_line], title=\"Augumentation option\")\n",
    "\n",
    "plt.title('Validation Loss over Epochs for Different Hyperparameters')\n",
    "plt.xlabel('Epoch')\n",
    "plt.ylabel('Validation Loss')\n",
    "plt.grid(True)\n",
    "plt.show()"
   ]
  },
  {
   "cell_type": "code",
   "execution_count": null,
   "metadata": {},
   "outputs": [],
   "source": [
    "df_2 = grid_df[grid_df['augument'] == \"False\"]\n",
    "\n",
    "# Define colors and line styles based on learning rate and weight decay\n",
    "color_map = {0.001: 'blue', 0.00075: 'green', 0.0005: 'red', 0.00025: 'purple'}\n",
    "line_style_map = {0.0005: ':', 0.001: '-', 0.0025: '--', 0.005: '-.'}\t\n",
    "opacity_map = {0.0005: 1.0, 0.001: 0.8, 0.0025: 0.5, 0.005: 0.3}\n",
    "\n",
    "\n",
    "# Sample data plotting\n",
    "plt.figure(figsize=(10, 6))\n",
    "for (lr, weight), group_data in df_2.groupby(['learning_rate', 'weight_decay']):\n",
    "    plt.plot(group_data['epoch'], group_data['validation_loss'], \n",
    "             color=color_map[lr],\n",
    "             linestyle=line_style_map[weight],\n",
    "             alpha=opacity_map[weight])\n",
    "\n",
    "# Setting the y-axis limits\n",
    "plt.ylim(1.85, 2.05)\n",
    "\n",
    "# Create custom legends\n",
    "legend_handles = [\n",
    "    mlines.Line2D([], [], color='none', marker='s', markersize=10,\n",
    "                  label='Learning Rates:', linestyle='None'),\n",
    "    mlines.Line2D([], [], color='blue', label='0.002'),\n",
    "    mlines.Line2D([], [], color='green', label='0.001'),\n",
    "    mlines.Line2D([], [], color='red', label='0.0005'),\n",
    "    mlines.Line2D([], [], color='none', marker='s', markersize=10,\n",
    "                  label='Weight Decays:', linestyle='None'),\n",
    "    mlines.Line2D([], [], color='black', linestyle=':', alpha=1.0, label='WD 0.0005'),\n",
    "    mlines.Line2D([], [], color='black', linestyle='--', alpha=0.7, label='WD 0.001'),\n",
    "    mlines.Line2D([], [], color='black', linestyle='-', alpha=0.5, label='WD 0.0025'),\n",
    "    mlines.Line2D([], [], color='black', linestyle='-.', alpha=0.3, label='WD 0.005')\n",
    "]\n",
    "\n",
    "plt.legend(handles=legend_handles, title=\"Legend\", loc=\"upper right\", borderaxespad=0.1)\n",
    "plt.title('Validation Loss over Epochs for \"Last Two\" Unfreeze Option')\n",
    "plt.xlabel('Epoch')\n",
    "plt.ylabel('Validation Loss')\n",
    "plt.grid(True)\n",
    "plt.show()"
   ]
  },
  {
   "cell_type": "code",
   "execution_count": 39,
   "metadata": {},
   "outputs": [
    {
     "data": {
      "image/png": "[encoded data removed]",
      "text/plain": [
       "<Figure size 1500x900 with 1 Axes>"
      ]
     },
     "metadata": {},
     "output_type": "display_data"
    }
   ],
   "source": [
    "# Define colors and line styles based on learning rate and weight decay\n",
    "color_map = {0.001: 'blue', 0.00075: 'green', 0.0005: 'red', 0.00025: 'purple'}\n",
    "line_style_map = {0.0005: ':', 0.001: '-', 0.0025: '--', 0.005: '-.'}\t\n",
    "opacity_map = {0.0005: 1.0, 0.001: 0.8, 0.0025: 0.5, 0.005: 0.3}\n",
    "\n",
    "# Sample data plotting\n",
    "plt.figure(figsize=(15, 9))\n",
    "for (lr, weight), group_data in df_2.groupby(['learning_rate', 'weight_decay']):\n",
    "    plt.plot(group_data['epoch'], group_data['validation_loss'], \n",
    "             color=color_map[lr],\n",
    "             linestyle=line_style_map[weight],\n",
    "             alpha=opacity_map[weight])\n",
    "\n",
    "# Setting the y-axis limits\n",
    "plt.ylim(1.85, 2.05)\n",
    "\n",
    "# Create custom legends\n",
    "legend_handles = [\n",
    "    mlines.Line2D([], [], color='none', marker='s', markersize=10,\n",
    "                  label='Learning Rates:', linestyle='None'),\n",
    "    mlines.Line2D([], [], color='blue', label='0.002'),\n",
    "    mlines.Line2D([], [], color='green', label='0.001'),\n",
    "    mlines.Line2D([], [], color='red', label='0.0005'),\n",
    "    mlines.Line2D([], [], color='none', marker='s', markersize=10,\n",
    "                  label='Weight Decays:', linestyle='None'),\n",
    "    mlines.Line2D([], [], color='black', linestyle=':', alpha=1.0, label='WD 0.0005'),\n",
    "    mlines.Line2D([], [], color='black', linestyle='--', alpha=0.8, label='WD 0.001'),\n",
    "    mlines.Line2D([], [], color='black', linestyle='-', alpha=0.5, label='WD 0.0025'),\n",
    "    mlines.Line2D([], [], color='black', linestyle='-.', alpha=0.3, label='WD 0.005')\n",
    "]\n",
    "\n",
    "plt.legend(handles=legend_handles, title=\"Legend\", loc=\"upper right\", borderaxespad=0.1)\n",
    "plt.title('Validation Loss over Epochs for \"Last Two\" Unfreeze Option')\n",
    "plt.xlabel('Epoch')\n",
    "plt.ylabel('Validation Loss')\n",
    "plt.grid(True)\n",
    "plt.show()\n"
   ]
  },
  {
   "cell_type": "markdown",
   "metadata": {},
   "source": [
    "## Grid search 2 over learning rate, layers and weights"
   ]
  },
  {
   "cell_type": "code",
   "execution_count": null,
   "metadata": {},
   "outputs": [],
   "source": [
    "device = torch.device(\"cuda\" if torch.cuda.is_available() else \"cpu\")\n",
    "\n",
    "# Initialize a DataFrame to collect all data\n",
    "all_data = pd.DataFrame()\n",
    "# Example hyperparameters for the grid search\n",
    "batch_sizes = [32]  # Add more as needed\n",
    "learning_rates = [0.002, 0.001, 0.0005]  # Add more as needed\n",
    "unfreeze_options = ['last_two', 'last_three']  # Options for layers to unfreeze\n",
    "weight_decays = [0.001, 0.005 ,0.01] \n",
    "\n",
    "# Placeholder for best model's performance, now focusing on validation loss\n",
    "best_loss = float('inf')  # Use infinity as the initial value for the best loss\n",
    "best_params = {}\n",
    "\n",
    "# Updated train_and_evaluate function that returns the best validation loss\n",
    "\n",
    "for batch_size in batch_sizes:\n",
    "    for lr in learning_rates:\n",
    "        for unfreeze_option in unfreeze_options:\n",
    "            for weight_decay in weight_decays:\n",
    "                print(f\"Training with batch size: {batch_size}, learning rate: {lr}, unfreeze option: {unfreeze_option}, weight_decay: {weight_decay}\")\n",
    "\n",
    "                # Load a pretrained ResNet model\n",
    "                model = models.resnet18(pretrained=True)\n",
    "                \n",
    "                # Freeze all parameters first\n",
    "                for param in model.parameters():\n",
    "                    param.requires_grad = False\n",
    "\n",
    "                # Replace the last fully connected layer to adapt to the number of classes (7 in this case)\n",
    "                num_classes = 7\n",
    "                num_ftrs = model.fc.in_features\n",
    "                model.fc = nn.Linear(num_ftrs, num_classes)    \n",
    "                \n",
    "                # Unfreeze the selected layers based on unfreeze_option\n",
    "                if unfreeze_option == 'last_two':\n",
    "                    for param in model.layer4.parameters():\n",
    "                        param.requires_grad = True\n",
    "                    for param in model.fc.parameters():\n",
    "                        param.requires_grad = True\n",
    "                elif unfreeze_option == 'last_three':\n",
    "                    # Unfreeze both the last block and the fully connected layer\n",
    "                    for param in model.layer3.parameters():\n",
    "                        param.requires_grad = True\n",
    "                    for param in model.layer4.parameters():\n",
    "                        param.requires_grad = True\n",
    "                    for param in model.fc.parameters():\n",
    "                        param.requires_grad = True\n",
    "                \n",
    "                model = model.to(device)\n",
    "                #print(model)\n",
    "\n",
    "                # Assuming you've already defined your datasets\n",
    "                train_loader = DataLoader(train_dataset, batch_size=batch_size, shuffle=True)\n",
    "                val_loader = DataLoader(val_dataset, batch_size=batch_size, shuffle=False)\n",
    "\n",
    "                optimizer = Adam(filter(lambda p: p.requires_grad, model.parameters()), lr=lr, weight_decay=weight_decay)\n",
    "                criterion = nn.CrossEntropyLoss()\n",
    "                scheduler = ReduceLROnPlateau(optimizer, 'min', factor=0.25, patience=2, verbose=True)\n",
    "                 \n",
    "                 # Prepare config details for data recording\n",
    "                config_details = {\n",
    "                    'batch_size': batch_size,\n",
    "                    'learning_rate': lr,\n",
    "                    'unfreeze_option': unfreeze_option,\n",
    "                    'weight_decay': weight_decay\n",
    "                }\n",
    "\n",
    "                \n",
    "                # Run training and evaluation, now expecting validation loss as the return value\n",
    "                val_loss, data_df = train_and_evaluate_val_loss(model, train_loader, val_loader, optimizer, criterion, scheduler, num_epochs=15, patience=6, config_details=config_details)  # Adjust num_epochs and patience as needed\n",
    "\n",
    "                # Append results to the master DataFrame\n",
    "                all_data = pd.concat([all_data, data_df], ignore_index=True)\n",
    "                # Save the complete data to CSV\n",
    "                all_data.to_csv('/workspace/workspace/ufo-prediction/demo/gridsearch2.csv', index=False)\n",
    "\n",
    "                # Update best model tracking based on validation loss\n",
    "                if val_loss < best_loss:\n",
    "                    best_loss = val_loss\n",
    "                    best_params = {'batch_size': batch_size, 'learning_rate': lr, 'unfreeze_option': unfreeze_option, 'weight_decay': weight_decay}\n",
    "\n",
    "\n",
    "# Print the best parameters and validation loss\n",
    "print(f\"Best Parameters: {best_params}, Best Validation Loss: {best_loss}\")\n"
   ]
  },
  {
   "cell_type": "markdown",
   "metadata": {},
   "source": [
    "Best Parameters: {'batch_size': 32, 'learning_rate': 0.0005, 'unfreeze_option': 'last_two', 'weight_decay': 0.005}, Best Validation Loss: 1.8506267997176766"
   ]
  },
  {
   "cell_type": "markdown",
   "metadata": {},
   "source": [
    "## Evaluate grid search 2\n",
    "\n",
    "Result documentation Grid search 2, see gridsearch2.csv"
   ]
  },
  {
   "cell_type": "code",
   "execution_count": null,
   "metadata": {},
   "outputs": [],
   "source": [
    "grid_df = pd.read_csv('/workspace/workspace/ufo-prediction/demo/gridsearch2.csv', encoding='latin1')"
   ]
  },
  {
   "cell_type": "code",
   "execution_count": null,
   "metadata": {},
   "outputs": [],
   "source": [
    "grid_df['epoch'] = grid_df['epoch'].astype(int)\n",
    "grid_df['batch_size'] = grid_df['batch_size'].astype(int)\n",
    "grid_df['learning_rate'] = grid_df['learning_rate'].astype(float)\n",
    "grid_df['validation_loss'] = grid_df['validation_loss'].astype(float)\n",
    "grid_df['weight_decay'] = grid_df['weight_decay'].astype(float)\n",
    "grid_df\n"
   ]
  },
  {
   "cell_type": "code",
   "execution_count": null,
   "metadata": {},
   "outputs": [],
   "source": [
    "import matplotlib.lines as mlines\n",
    "\n",
    "# Define colors and line styles based on learning rate and weight decay\n",
    "color_map = {'last_two': 'blue', 'last_three': 'green'}\n",
    "line_style_map = {0.002: ':', 0.001: '-', 0.0005: '--'}\n",
    "opacity_map = {0.001: 1.0, 0.005: 0.7, 0.01: 0.4}\n",
    "\n",
    "plt.figure(figsize=(10, 6))\n",
    "for (unfreeze_option, lr, weight), group_data in grid_df.groupby(['unfreeze_option', 'learning_rate', 'weight_decay']):\n",
    "    plt.plot(group_data['epoch'], group_data['validation_loss'], \n",
    "             color=color_map[unfreeze_option],\n",
    "             linestyle=line_style_map[lr],\n",
    "             alpha=opacity_map[weight])\n",
    "# Setting the y-axis limits\n",
    "plt.ylim(1.8, 2.05)\n",
    "# Create custom legends\n",
    "last_line = mlines.Line2D([], [], color='blue', linestyle='-', label='Last two')\n",
    "last_plus_one_line = mlines.Line2D([], [], color='green', linestyle='-', label='Last Three')\n",
    "\n",
    "plt.legend(handles=[last_line, last_plus_one_line], title=\"Unfreeze Option\")\n",
    "\n",
    "plt.title('Validation Loss over Epochs for Batch Size 32')\n",
    "plt.xlabel('Epoch')\n",
    "plt.ylabel('Validation Loss')\n",
    "plt.grid(True)\n",
    "plt.show()"
   ]
  },
  {
   "cell_type": "code",
   "execution_count": null,
   "metadata": {},
   "outputs": [],
   "source": [
    "import matplotlib.pyplot as plt\n",
    "import matplotlib.lines as mlines\n",
    "\n",
    "# Define colors and line styles based on learning rate and weight decay\n",
    "color_map = {0.002: 'blue', 0.001: 'green', 0.0005: 'red'}\n",
    "line_style_map = {0.001: ':', 0.005: '--', 0.01: '-'}\n",
    "opacity_map = {0.001: 1.0, 0.005: 0.7, 0.01: 0.5}\n",
    "\n",
    "# Sample data plotting\n",
    "plt.figure(figsize=(10, 6))\n",
    "for (lr, weight), group_data in df_2.groupby(['learning_rate', 'weight_decay']):\n",
    "    plt.plot(group_data['epoch'], group_data['validation_loss'], \n",
    "             color=color_map[lr],\n",
    "             linestyle=line_style_map[weight],\n",
    "             alpha=opacity_map[weight])\n",
    "\n",
    "# Setting the y-axis limits\n",
    "plt.ylim(1.85, 2.05)\n",
    "\n",
    "# Create custom legends\n",
    "legend_handles = [\n",
    "    mlines.Line2D([], [], color='none', marker='s', markersize=10,\n",
    "                  label='Learning Rates:', linestyle='None'),\n",
    "    mlines.Line2D([], [], color='blue', label='0.002'),\n",
    "    mlines.Line2D([], [], color='green', label='0.001'),\n",
    "    mlines.Line2D([], [], color='red', label='0.0005'),\n",
    "    mlines.Line2D([], [], color='none', marker='s', markersize=10,\n",
    "                  label='Weight Decays:', linestyle='None'),\n",
    "    mlines.Line2D([], [], color='black', linestyle=':', alpha=1.0, label='WD 0.001'),\n",
    "    mlines.Line2D([], [], color='black', linestyle='--', alpha=0.7, label='WD 0.005'),\n",
    "    mlines.Line2D([], [], color='black', linestyle='-', alpha=0.5, label='WD 0.01')\n",
    "]\n",
    "\n",
    "plt.legend(handles=legend_handles, title=\"Legend\", loc=\"upper right\", borderaxespad=0.1)\n",
    "plt.title('Validation Loss over Epochs for \"Last Two\" Unfreeze Option')\n",
    "plt.xlabel('Epoch')\n",
    "plt.ylabel('Validation Loss')\n",
    "plt.grid(True)\n",
    "plt.show()\n"
   ]
  },
  {
   "cell_type": "code",
   "execution_count": null,
   "metadata": {},
   "outputs": [],
   "source": [
    "import matplotlib.pyplot as plt\n",
    "import matplotlib.lines as mlines\n",
    "\n",
    "df_2_small = df_2[df_2['learning_rate'].isin([0.001, 0.0005])]\n",
    "\n",
    "# Define colors and line styles based on learning rate and weight decay\n",
    "color_map = {0.001: 'blue', 0.0005: 'green'}\n",
    "line_style_map = {0.001: ':', 0.005: '--', 0.01: '-'}\n",
    "opacity_map = {0.001: 1.0, 0.005: 0.7, 0.01: 0.5}\n",
    "\n",
    "# Sample data plotting\n",
    "plt.figure(figsize=(15, 9))\n",
    "for (lr, weight), group_data in df_2_small.groupby(['learning_rate', 'weight_decay']):\n",
    "    plt.plot(group_data['epoch'], group_data['validation_loss'], \n",
    "             color=color_map[lr],\n",
    "             linestyle=line_style_map[weight],\n",
    "             alpha=opacity_map[weight])\n",
    "\n",
    "# Setting the y-axis limits\n",
    "plt.ylim(1.85, 2.05)\n",
    "\n",
    "# Create custom legends\n",
    "legend_handles = [\n",
    "    mlines.Line2D([], [], color='none', marker='s', markersize=10,\n",
    "                  label='Learning Rates:', linestyle='None'),\n",
    "    mlines.Line2D([], [], color='blue', label='0.001'),\n",
    "    mlines.Line2D([], [], color='green', label='0.0005'),\n",
    "    mlines.Line2D([], [], color='none', marker='s', markersize=10,\n",
    "                  label='Weight Decays:', linestyle='None'),\n",
    "    mlines.Line2D([], [], color='black', linestyle=':', alpha=1.0, label='WD 0.001'),\n",
    "    mlines.Line2D([], [], color='black', linestyle='--', alpha=0.7, label='WD 0.005'),\n",
    "    mlines.Line2D([], [], color='black', linestyle='-', alpha=0.5, label='WD 0.01')\n",
    "]\n",
    "\n",
    "plt.legend(handles=legend_handles, title=\"Legend\", loc=\"upper right\", borderaxespad=0.1)\n",
    "plt.title('Validation Loss over Epochs for \"Last Two\" Unfreeze Option')\n",
    "plt.xlabel('Epoch')\n",
    "plt.ylabel('Validation Loss')\n",
    "plt.grid(True)\n",
    "plt.show()\n"
   ]
  },
  {
   "cell_type": "markdown",
   "metadata": {},
   "source": [
    "Main takeaways:\n",
    "- unfreezing three layers is far too much!! consistently worse performance and fluctuates a alot\n",
    "- Learning rate 0.001 and 0.0005 do better than higher learning rate 0.002. It seems like learning rate 0.005 performs the best\n",
    "- Weight 0.01 seems to be too strong, but weight 0.005 seems to hit the sweet spot.\n",
    "\n",
    "Considerations for 3rd grid search:\n",
    "- "
   ]
  },
  {
   "cell_type": "markdown",
   "metadata": {},
   "source": [
    "## Grid search 1 over learning rate, batch sizes and layers (using validation loss)"
   ]
  },
  {
   "cell_type": "code",
   "execution_count": null,
   "metadata": {},
   "outputs": [],
   "source": [
    "#################################\n",
    "####### DON'T RUN THIS CELL######\n",
    "####### YOU LOOSE RESULTS #######\n",
    "#################################\n",
    "\n",
    "device = torch.device(\"cuda\" if torch.cuda.is_available() else \"cpu\")\n",
    "\n",
    "# Example hyperparameters for the grid search\n",
    "batch_sizes = [16, 32]  # Add more as needed\n",
    "learning_rates = [0.001, 0.0005]  # Add more as needed\n",
    "unfreeze_options = ['last', 'last_plus_one']  # Options for layers to unfreeze\n",
    "weight_decays = [0, 0.001, 0.01] \n",
    "\n",
    "# Placeholder for best model's performance, now focusing on validation loss\n",
    "best_loss = float('inf')  # Use infinity as the initial value for the best loss\n",
    "best_params = {}\n",
    "\n",
    "# Updated train_and_evaluate function that returns the best validation loss\n",
    "\n",
    "for batch_size in batch_sizes:\n",
    "    for lr in learning_rates:\n",
    "        for unfreeze_option in unfreeze_options:\n",
    "            for weight_decay in weight_decays:\n",
    "                print(f\"Training with batch size: {batch_size}, learning rate: {lr}, unfreeze option: {unfreeze_option}, weight_decay: {weight_decay}\")\n",
    "\n",
    "                # Load a pretrained ResNet model\n",
    "                model = models.resnet18(pretrained=True)\n",
    "                \n",
    "                # Freeze all parameters first\n",
    "                for param in model.parameters():\n",
    "                    param.requires_grad = False\n",
    "\n",
    "                # Replace the last fully connected layer to adapt to the number of classes (7 in this case)\n",
    "                num_classes = 7\n",
    "                num_ftrs = model.fc.in_features\n",
    "                model.fc = nn.Linear(num_ftrs, num_classes)    \n",
    "                \n",
    "                # Unfreeze the selected layers based on unfreeze_option\n",
    "                if unfreeze_option == 'last':\n",
    "                    for param in model.fc.parameters():\n",
    "                        param.requires_grad = True\n",
    "                elif unfreeze_option == 'last_plus_one':\n",
    "                    # Unfreeze both the last block and the fully connected layer\n",
    "                    for param in model.layer4.parameters():\n",
    "                        param.requires_grad = True\n",
    "                    for param in model.fc.parameters():\n",
    "                        param.requires_grad = True\n",
    "                \n",
    "                model = model.to(device)\n",
    "                print(model)\n",
    "\n",
    "                # Assuming you've already defined your datasets\n",
    "                train_loader = DataLoader(train_dataset, batch_size=batch_size, shuffle=True)\n",
    "                val_loader = DataLoader(val_dataset, batch_size=batch_size, shuffle=False)\n",
    "\n",
    "                optimizer = Adam(filter(lambda p: p.requires_grad, model.parameters()), lr=lr, weight_decay=weight_decay)\n",
    "                criterion = nn.CrossEntropyLoss()\n",
    "                scheduler = ReduceLROnPlateau(optimizer, 'min', factor=0.1, patience=3, verbose=True)\n",
    "                \n",
    "                # Run training and evaluation, now expecting validation loss as the return value\n",
    "                val_loss = train_and_evaluate_val_loss(model, train_loader, val_loader, optimizer, criterion, scheduler, num_epochs=10, patience=5)  # Adjust num_epochs and patience as needed\n",
    "\n",
    "                # Update best model tracking based on validation loss\n",
    "                if val_loss < best_loss:\n",
    "                    best_loss = val_loss\n",
    "                    best_params = {'batch_size': batch_size, 'learning_rate': lr, 'unfreeze_option': unfreeze_option, 'weight_decay': weight_decay}\n",
    "\n",
    "print(f\"Best Parameters: {best_params}, Best Validation Loss: {best_loss}\")\n"
   ]
  },
  {
   "cell_type": "markdown",
   "metadata": {},
   "source": [
    "Winner: Training with batch size: 32, learning rate: 0.001, unfreeze option: last_plus_one, weight_decay: 0.001 \n",
    "Second place: Training with batch size: 32, learning rate: 0.0005, unfreeze option: last_plus_one, weight_decay: 0.001"
   ]
  },
  {
   "cell_type": "markdown",
   "metadata": {},
   "source": [
    "## Evaluate Grid search 1"
   ]
  },
  {
   "cell_type": "code",
   "execution_count": null,
   "metadata": {},
   "outputs": [],
   "source": [
    "import matplotlib.pyplot as plt\n",
    "\n",
    "data = {\n",
    "    ('16', '0.001', 'last', '0.0'): {\n",
    "        'epochs': list(range(1, 11)),\n",
    "        'val_loss': [1.9685, 1.9444, 1.9926, 1.9655, 2.0739, 1.9833, 1.9420, 1.9320, 1.9304, 1.9358]\n",
    "    },\n",
    "    ('16', '0.001', 'last', '0.001'): {\n",
    "        'epochs': list(range(1, 11)),\n",
    "        'val_loss': [1.9517, 1.9972, 1.9804, 1.9631, 1.9666, 1.9320, 1.9266, 1.9381, 1.9243, 1.9270]\n",
    "    },\n",
    "    ('16', '0.001', 'last', '0.01'): {\n",
    "        'epochs': list(range(1, 11)),\n",
    "        'val_loss': [1.9899, 1.9899, 2.0162, 2.0441, 1.9563, 1.9701, 1.9721, 2.0170, 2.0370, 1.9229]\n",
    "    },\n",
    "    ('16', '0.001', 'last_plus_one', '0.0'): {\n",
    "        'epochs': list(range(1, 7)),\n",
    "        'val_loss': [1.9197, 1.9766, 1.9536, 1.9577, 1.9242, 1.9299]\n",
    "    },\n",
    "    ('16', '0.001', 'last_plus_one', '0.001'): {\n",
    "        'epochs': list(range(1, 11)),\n",
    "        'val_loss': [1.9153, 1.9053, 1.9385, 1.9027, 1.9083, 1.8985, 1.9088, 1.8998, 1.9107, 1.9215]\n",
    "    },\n",
    "    ('16', '0.001', 'last_plus_one', '0.01'): {\n",
    "        'epochs': list(range(1, 11)),\n",
    "        'val_loss': [1.9469, 1.9239 , 1.9252, 1.9216, 1.9195, 1.9218, 1.9247, 1.9222, 1.9281, 1.9179]\n",
    "    },\n",
    "    ('16', '0.0005', 'last', '0.0'): {\n",
    "        'epochs': list(range(1, 11)),\n",
    "        'val_loss': [1.9649, 1.9794, 2.0047, 1.9469, 1.9876, 1.9480, 1.9691, 1.9445, 1.9390, 1.9382]\n",
    "    },\n",
    "    ('16', '0.0005', 'last', '0.001'): {\n",
    "        'epochs': list(range(1, 10)),\n",
    "        'val_loss': [1.9605, 1.9945, 1.9374, 1.9243, 1.9425, 1.9635, 2.0003, 1.9595, 1.9270]\n",
    "    },\n",
    "    ('16', '0.0005', 'last', '0.01'): {\n",
    "        'epochs': list(range(1, 11)),\n",
    "        'val_loss': [1.9738, 1.9973, 1.9720, 1.9647, 1.9678, 1.9311, 1.9802, 1.9382, 2.0016, 1.9707]\n",
    "    },\n",
    "    ('16', '0.0005', 'last_plus_one', '0.0'): {\n",
    "        'epochs': list(range(1, 9)),\n",
    "        'val_loss': [1.9217, 1.9560, 1.9156, 1.9302, 2.0055, 1.9553, 1.9418, 1.9995]\n",
    "    },\n",
    "    ('16', '0.0005', 'last_plus_one', '0.001'): {\n",
    "        'epochs': list(range(1, 11)),\n",
    "        'val_loss': [1.9307, 1.9440, 1.9675, 1.9231, 1.8938, 1.9025, 1.9048, 1.9011, 1.9055, 1.8989]\n",
    "    },\n",
    "    ('16', '0.0005', 'last_plus_one', '0.01'): {\n",
    "        'epochs': list(range(1, 11)),\n",
    "        'val_loss': [1.9570, 1.9303, 1.9075, 1.9010, 1.9060, 1.9036, 1.9074, 1.8984, 1.9134, 1.8998]\n",
    "    },\n",
    "    ('32', '0.001', 'last', '0.0'): {\n",
    "        'epochs': list(range(1, 11)),\n",
    "        'val_loss': [1.9694, 1.9687, 1.9652, 2.0242, 1.9505, 1.9766, 1.9877, 1.9332, 2.0640, 1.9687]\n",
    "    },\n",
    "    ('32', '0.001', 'last', '0.001'): {\n",
    "        'epochs': list(range(1, 11)),\n",
    "        'val_loss': [1.9621, 1.9582, 1.9517, 1.9498, 1.9521, 1.9865, 2.0043, 1.9914, 1.9216, 1.9287]\n",
    "    },\n",
    "    ('32', '0.001', 'last', '0.01'): {\n",
    "        'epochs': list(range(1, 11)),\n",
    "        'val_loss': [1.9777, 2.0244, 1.9356, 1.9492, 1.9750, 1.9384, 1.9582, 1.9274, 1.9239, 1.9195]\n",
    "    },\n",
    "    ('32', '0.001', 'last_plus_one', '0.0'): {\n",
    "        'epochs': list(range(1, 7)),\n",
    "        'val_loss': [1.9203, 1.9230, 1.9382, 1.9693, 1.9642, 1.9443]\n",
    "    },\n",
    "    ('32', '0.001', 'last_plus_one', '0.001'): {\n",
    "        'epochs': list(range(1, 11)),\n",
    "        'val_loss': [1.9564, 1.9444, 1.9294, 1.9042, 1.8981, 1.8919, 1.8903, 1.9232, 1.9147, 1.9047]\n",
    "    },\n",
    "    ('32', '0.001', 'last_plus_one', '0.01'): {\n",
    "        'epochs': list(range(1, 11)),\n",
    "        'val_loss': [1.9651, 1.9272, 1.9288, 1.9062, 1.9077, 1.9048, 1.9070, 1.9070, 1.9131, 1.9061]\n",
    "    },\n",
    "    ('32', '0.0005', 'last', '0.0'): {\n",
    "        'epochs': list(range(1, 11)),\n",
    "        'val_loss': [1.9510, 1.9450, 1.9307, 1.9272, 1.9340, 1.9228, 1.9563, 1.9333, 1.9299, 1.9298]\n",
    "    },\n",
    "    ('32', '0.0005', 'last', '0.001'): {\n",
    "        'epochs': list(range(1, 11)),\n",
    "        'val_loss': [1.9507, 1.9739, 1.9368, 1.9388, 1.9310, 1.9217, 1.9329, 1.9515, 1.9228, 1.9368]\n",
    "    },\n",
    "    ('32', '0.0005', 'last', '0.01'): {\n",
    "        'epochs': list(range(1, 11)),\n",
    "        'val_loss': [1.9423, 1.9543, 1.9290, 1.9591, 1.9186, 1.9304, 1.9246, 1.9260, 1.9213, 1.9210]\n",
    "    },\n",
    "    ('32', '0.0005', 'last_plus_one', '0.0'): {\n",
    "        'epochs': list(range(1, 7)),\n",
    "        'val_loss': [1.9113, 1.9215, 1.9495, 1.9411, 1.9571, 1.9851]\n",
    "    },\n",
    "    ('32', '0.0005', 'last_plus_one', '0.001'): {\n",
    "        'epochs': list(range(1, 11)),\n",
    "        'val_loss': [1.9109, 1.9330, 1.9209, 1.9342, 1.9109, 1.9056, 1.9072, 1.8923, 1.8976, 1.9530]\n",
    "    },\n",
    "    ('32', '0.0005', 'last_plus_one', '0.01'): {\n",
    "        'epochs': list(range(1, 11)),\n",
    "        'val_loss': [2.0175, 1.9383, 1.9402, 1.8973, 1.9037, 1.8941, 1.9014, 1.8981, 1.9023, 1.9071]\n",
    "    },\n",
    "}\n",
    "\n",
    "\n"
   ]
  },
  {
   "cell_type": "code",
   "execution_count": null,
   "metadata": {},
   "outputs": [],
   "source": [
    "# Create a DataFrame to make plotting easier\n",
    "df_list = []\n",
    "for key, values in data.items():\n",
    "    batch_size, lr, unfreeze_option, weight_decay = key\n",
    "    for epoch, val_loss in zip(values['epochs'], values['val_loss']):\n",
    "        df_list.append({\n",
    "            'Batch Size': batch_size,\n",
    "            'Learning Rate': lr,\n",
    "            'Unfreeze Option': unfreeze_option,\n",
    "            'Weight Decay': weight_decay,\n",
    "            'Epoch': epoch,\n",
    "            'Validation Loss': val_loss\n",
    "        })\n",
    "\n",
    "df = pd.DataFrame(df_list)\n",
    "\n",
    "# Plotting\n",
    "fig, axs = plt.subplots(2, 1, figsize=(10, 14), sharex=True)\n",
    "\n",
    "# Filter data for different unfreeze options and plot\n",
    "for unfreeze_option in df['Unfreeze Option'].unique():\n",
    "    subset = df[df['Unfreeze Option'] == unfreeze_option]\n",
    "    for batch_size in subset['Batch Size'].unique():\n",
    "        filtered_data = subset[subset['Batch Size'] == batch_size]\n",
    "        axs[0].plot(filtered_data['Epoch'], filtered_data['Validation Loss'], marker='o', label=f'{unfreeze_option} bs={batch_size}')\n",
    "    axs[0].set_title('Validation Loss over Epochs by Unfreeze Option and Batch Size')\n",
    "    axs[0].set_xlabel('Epoch')\n",
    "    axs[0].set_ylabel('Validation Loss')\n",
    "    axs[0].legend()\n",
    "\n",
    "# Filter data for different weight decays and plot\n",
    "for weight_decay in df['Weight Decay'].unique():\n",
    "    subset = df[df['Weight Decay'] == weight_decay]\n",
    "    for batch_size in subset['Batch Size'].unique():\n",
    "        filtered_data = subset[subset['Batch Size'] == batch_size]\n",
    "        axs[1].plot(filtered_data['Epoch'], filtered_data['Validation Loss'], marker='o', label=f'wd={weight_decay} bs={batch_size}')\n",
    "    axs[1].set_title('Validation Loss over Epochs by Weight Decay and Batch Size')\n",
    "    axs[1].set_xlabel('Epoch')\n",
    "    axs[1].set_ylabel('Validation Loss')\n",
    "    axs[1].legend()\n",
    "\n",
    "plt.show()"
   ]
  },
  {
   "cell_type": "code",
   "execution_count": null,
   "metadata": {},
   "outputs": [],
   "source": [
    "import matplotlib.pyplot as plt\n",
    "import matplotlib.lines as mlines\n",
    "import pandas as pd\n",
    "\n",
    "# Assuming 'df' is your DataFrame\n",
    "# Convert 'Batch Size' to integer\n",
    "df['Batch Size'] = df['Batch Size'].astype(int)\n",
    "\n",
    "# Filtering for batch size 32\n",
    "df_32 = df[df['Batch Size'] == 32]\n",
    "\n",
    "# Define colors and line styles based on learning rate and weight decay\n",
    "color_map = {'last': 'blue', 'last_plus_one': 'green'}\n",
    "line_style_map = {'0.001': '-', '0.0005': '--'}\n",
    "opacity_map = {'0.0': 1.0, '0.001': 0.7, '0.01': 0.4}\n",
    "\n",
    "plt.figure(figsize=(10, 6))\n",
    "for (unfreeze_option, lr, weight), group_data in df_32.groupby(['Unfreeze Option', 'Learning Rate', 'Weight Decay']):\n",
    "    plt.plot(group_data['Epoch'], group_data['Validation Loss'], \n",
    "             color=color_map[unfreeze_option],\n",
    "             linestyle=line_style_map[lr],\n",
    "             alpha=opacity_map[weight])\n",
    "\n",
    "# Create custom legends\n",
    "last_line = mlines.Line2D([], [], color='blue', linestyle='-', label='Last')\n",
    "last_plus_one_line = mlines.Line2D([], [], color='green', linestyle='-', label='Last + One')\n",
    "\n",
    "plt.legend(handles=[last_line, last_plus_one_line], title=\"Unfreeze Option\")\n",
    "\n",
    "plt.title('Validation Loss over Epochs for Batch Size 32')\n",
    "plt.xlabel('Epoch')\n",
    "plt.ylabel('Validation Loss')\n",
    "plt.grid(True)\n",
    "plt.show()\n"
   ]
  },
  {
   "cell_type": "code",
   "execution_count": null,
   "metadata": {},
   "outputs": [],
   "source": [
    "import matplotlib.pyplot as plt\n",
    "import matplotlib.lines as mlines\n",
    "import pandas as pd\n",
    "\n",
    "# Convert 'Batch Size' to integer if not already done\n",
    "df['Batch Size'] = df['Batch Size'].astype(int)\n",
    "\n",
    "# Filtering data based on your specified criteria\n",
    "filtered_df = df[(df['Weight Decay'].isin(['0.001', '0.01'])) & (df['Unfreeze Option'] == 'last_plus_one')]\n",
    "\n",
    "# Define colors by batch size, line styles by learning rate, and opacity by weight decay\n",
    "color_map = {16: 'red', 32: 'blue'}\n",
    "line_style_map = {'0.001': '-', '0.0005': '--'}\n",
    "opacity_map = {'0.001': 0.7, '0.01': 0.4}\n",
    "\n",
    "plt.figure(figsize=(10, 6))\n",
    "for (batch_size, lr, weight), group_data in filtered_df.groupby(['Batch Size', 'Learning Rate', 'Weight Decay']):\n",
    "    plt.plot(group_data['Epoch'], group_data['Validation Loss'], \n",
    "             color=color_map[batch_size],\n",
    "             linestyle=line_style_map[lr],\n",
    "             alpha=opacity_map[weight],\n",
    "             label=f'Batch {batch_size}, LR {lr}, Weight {weight}')\n",
    "\n",
    "# Create custom legend for batch sizes\n",
    "batch_16_line = mlines.Line2D([], [], color='red', linestyle='-', label='Batch Size 16')\n",
    "batch_32_line = mlines.Line2D([], [], color='blue', linestyle='-', label='Batch Size 32')\n",
    "\n",
    "plt.legend(handles=[batch_16_line, batch_32_line], title=\"Batch Size\")\n",
    "\n",
    "plt.title('Validation Loss over Epochs for two unfrozen layers')\n",
    "plt.xlabel('Epoch')\n",
    "plt.ylabel('Validation Loss')\n",
    "plt.grid(True)\n",
    "plt.show()"
   ]
  },
  {
   "cell_type": "code",
   "execution_count": null,
   "metadata": {},
   "outputs": [],
   "source": [
    "# Plotting\n",
    "plt.figure(figsize=(10, 6))\n",
    "line_styles = {'0.0': '-', '0.001': '--', '0.01': '-.'}\n",
    "colors = {'0.001': 'blue', '0.0005': 'red'}\n",
    "\n",
    "for (lr, weight_decay), group in df[(df['Unfreeze Option'] == 'last_plus_one') & (df['Batch Size'] == '32')].groupby(['Learning Rate', 'Weight Decay']):\n",
    "    plt.plot(group['Epoch'], group['Validation Loss'], linestyle=line_styles[weight_decay], color=colors[lr],\n",
    "             label=f'LR: {lr}, Weight Decay: {weight_decay}')\n",
    "\n",
    "plt.title('Validation Loss over Epochs for Batch Size 32 with Last Plus One Unfrozen')\n",
    "plt.xlabel('Epoch')\n",
    "plt.ylabel('Validation Loss')\n",
    "plt.legend(title=\"Parameters\")\n",
    "plt.grid(True)\n",
    "plt.show()"
   ]
  },
  {
   "cell_type": "markdown",
   "metadata": {},
   "source": [
    "Main takeaways:\n",
    "- two unfrozen layers are better than one.\n",
    "- batch size does not make a big difference, but 32 is a bit better.\n",
    "- A weight decay of 0 is worse than 0.001 or 0.01. Between 0.001 and 0.01, it seems to depend on the learning rate. i.e. lr0.0005 with wd0.01 and lr0.001 with wd0.0001 perform best\n",
    "- Weight decay 0.001 leads to validation loss picking up again after 8-10 epochs, while this is not true for weight loss 0.01"
   ]
  },
  {
   "cell_type": "markdown",
   "metadata": {},
   "source": [
    "## Result documentation Grid search 1 (final) - see WORD Document"
   ]
  }
 ],
 "metadata": {
  "kernelspec": {
   "display_name": "ufo-predict2 (Tensorflow 2.11.0)",
   "language": "python",
   "name": "kai-ufo-predict2"
  },
  "language_info": {
   "codemirror_mode": {
    "name": "ipython",
    "version": 3
   },
   "file_extension": ".py",
   "mimetype": "text/x-python",
   "name": "python",
   "nbconvert_exporter": "python",
   "pygments_lexer": "ipython3",
   "version": "3.8.10"
  }
 },
 "nbformat": 4,
 "nbformat_minor": 2
}
