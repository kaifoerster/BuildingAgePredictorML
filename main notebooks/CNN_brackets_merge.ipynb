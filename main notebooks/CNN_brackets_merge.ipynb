{
 "cells": [
  {
   "cell_type": "markdown",
   "metadata": {},
   "source": [
    "# Set up packages and server"
   ]
  },
  {
   "cell_type": "code",
   "execution_count": 1,
   "metadata": {},
   "outputs": [],
   "source": [
    "# specify the GPU\n",
    "import os\n",
    "os.environ['TORCH_HOME'] = 'your/own/cache/directory'\n",
    "os.environ['CUDA_VISIBLE_DEVICES'] = '1'"
   ]
  },
  {
   "cell_type": "code",
   "execution_count": 2,
   "metadata": {},
   "outputs": [
    {
     "name": "stderr",
     "output_type": "stream",
     "text": [
      "Matplotlib created a temporary config/cache directory at /tmp/matplotlib-9vxtrbo8 because the default path (/.config/matplotlib) is not a writable directory; it is highly recommended to set the MPLCONFIGDIR environment variable to a writable directory, in particular to speed up the import of Matplotlib and to better support multiprocessing.\n"
     ]
    }
   ],
   "source": [
    "# Data visualization\n",
    "import plotly.express as px\n",
    "from ipywidgets import interact\n",
    "\n",
    "# Data processing\n",
    "import pandas as pd\n",
    "import numpy as np\n",
    "import geopandas as gpd\n",
    "\n",
    "# Model training\n",
    "import torch\n",
    "import torch.nn as nn\n",
    "import torch.nn.functional as F\n",
    "from torchvision import models\n",
    "import copy\n",
    "from torch.optim import Adam\n",
    "from torch.nn import CrossEntropyLoss\n",
    "from torch.utils.data import DataLoader\n",
    "from torch.optim.lr_scheduler import ReduceLROnPlateau\n",
    "\n",
    "import timm\n",
    "from sklearn.model_selection import GroupShuffleSplit\n",
    "# import lightning as L\n",
    "# from lightning import Trainer\n",
    "# from lightning.pytorch.callbacks import EarlyStopping, ModelCheckpoint\n",
    "\n",
    "# Others\n",
    "import os\n",
    "import sys\n",
    "import gc\n",
    "from pathlib import Path\n",
    "import os.path\n",
    "\n",
    "\n",
    "from sklearn.metrics import accuracy_score, precision_recall_fscore_support, confusion_matrix, matthews_corrcoef, cohen_kappa_score\n",
    "import matplotlib.pyplot as plt\n",
    "import seaborn as sns\n",
    "import random\n",
    "\n",
    "\n",
    "from torchvision import transforms\n",
    "from torch.utils.data import DataLoader, Dataset\n",
    "from PIL import Image\n",
    "from tqdm.notebook import tqdm\n",
    "\n",
    "# project lib\n",
    "PROJECT_SRC_PATH = os.path.join( '/workspace/workspace/ufo-prediction', 'src-RCA-UFO')\n",
    "sys.path.append(PROJECT_SRC_PATH)\n",
    "import dataset\n",
    "import visualizations"
   ]
  },
  {
   "cell_type": "code",
   "execution_count": 3,
   "metadata": {},
   "outputs": [],
   "source": [
    "torch.cuda.empty_cache()"
   ]
  },
  {
   "cell_type": "code",
   "execution_count": 4,
   "metadata": {},
   "outputs": [
    {
     "name": "stdout",
     "output_type": "stream",
     "text": [
      "Device: cuda:0\n",
      "GPU: NVIDIA A100-PCIE-40GB\n"
     ]
    }
   ],
   "source": [
    "# Check is GPU is enabled\n",
    "device = torch.device(\"cuda:0\" if torch.cuda.is_available() else \"cpu\")\n",
    "print(\"Device: {}\".format(device))\n",
    "\n",
    "# Get specific GPU model\n",
    "if str(device) == \"cuda:0\":\n",
    "  print(\"GPU: {}\".format(torch.cuda.get_device_name(0)))"
   ]
  },
  {
   "cell_type": "markdown",
   "metadata": {},
   "source": [
    "# 2. Load and preprocess the training and validation data"
   ]
  },
  {
   "cell_type": "code",
   "execution_count": 5,
   "metadata": {},
   "outputs": [],
   "source": [
    "def extract_building_id(filepath):\n",
    "    \"\"\"\n",
    "    Extracts the building ID from the given filepath string.\n",
    "    Knowing that the building ID always contains an underscore and considering the filename\n",
    "    format '[age_right]_[building_id]_[subscript].jpg', this function returns the 'building_id'.\n",
    "    \"\"\"\n",
    "    # Isolate the filename from the filepath\n",
    "    filename = filepath.split('/')[-1]\n",
    "    # Split the filename at underscores\n",
    "    parts = filename.split('_')\n",
    "    # Considering the first part is age_right and the last part is the subscript with .jpg,\n",
    "    # the building ID is everything in between.\n",
    "    # Rejoin the middle parts to account for underscores within the building ID itself.\n",
    "    building_id = '_'.join(parts[1:-1])\n",
    "    return building_id\n",
    "\n",
    "def get_age_bracket(age):\n",
    "    if 1900 <= age <= 1924:\n",
    "        return '1900-1924'\n",
    "    elif 1925 <= age <= 1945:\n",
    "        return '1925-1945'\n",
    "    elif 1946 <= age <= 1959:\n",
    "        return '1946-1959'\n",
    "    elif 1960 <= age <= 1969:\n",
    "        return '1960-1969'\n",
    "    elif 1970 <= age <= 1984:\n",
    "        return '1970-1984'\n",
    "    elif 1985 <= age <= 1999:\n",
    "        return '1985-1999'\n",
    "    elif 2000 <= age <= 2050:\n",
    "        return '2000-2050'\n",
    "    else:\n",
    "        return 'Unknown'  # For ages outside the specified brackets or if age couldn't be determined\n",
    "    \n",
    "def extract_age_and_name(filepath):\n",
    "    filename = os.path.basename(filepath)  # Get the filename from the filepath\n",
    "    age_and_name = filename.split('.')[0]  # Split by dot and take the first part\n",
    "    age = ''.join(filter(str.isdigit, age_and_name))[:4]  # Extract first 4 digits for age\n",
    "    if age:  # Ensure age string is not empty\n",
    "        age = int(age)\n",
    "        age_bracket = get_age_bracket(age)  # Get the age bracket\n",
    "    else:  # Default age if no digits found\n",
    "        age_bracket = 'Unknown'\n",
    "    return age_bracket\n",
    "\n",
    "\n",
    "age_bracket_to_int = {\n",
    "    '1900-1924': 0,\n",
    "    '1925-1945': 1,\n",
    "    '1946-1959': 2,\n",
    "    '1960-1969': 3,\n",
    "    '1970-1984': 4,\n",
    "    '1985-1999': 5,\n",
    "    '2000-2050': 6\n",
    "}"
   ]
  },
  {
   "cell_type": "code",
   "execution_count": 6,
   "metadata": {},
   "outputs": [
    {
     "name": "stdout",
     "output_type": "stream",
     "text": [
      "                                            Filepath Age Brackets  \\\n",
      "0  /workspace/workspace/ufo-prediction/image_data...    2000-2050   \n",
      "1  /workspace/workspace/ufo-prediction/image_data...    1946-1959   \n",
      "2  /workspace/workspace/ufo-prediction/image_data...    2000-2050   \n",
      "3  /workspace/workspace/ufo-prediction/image_data...    1946-1959   \n",
      "4  /workspace/workspace/ufo-prediction/image_data...    1970-1984   \n",
      "\n",
      "                 Building ID  Target  \n",
      "0      v0.1-NLD.8.47_1-29490       6  \n",
      "1      v0.1-NLD.12.9_1-18224       2  \n",
      "2  v0.1-ESP.10.1.7.17_1-2114       6  \n",
      "3  v0.1-ESP.8.1.3.10_1-18889       2  \n",
      "4       v0.1-NLD.5.7_1-67046       4  \n"
     ]
    }
   ],
   "source": [
    "directories = [\n",
    "    #Path('/workspace/workspace/ufo-prediction/image_data_NLD'),\n",
    "    #Path('/workspace/workspace/ufo-prediction/image_data_ESP'),  # Add your second directory path here\n",
    "    #Path('/workspace/workspace/ufo-prediction/image_data_FRA'),\n",
    "    Path('/workspace/workspace/ufo-prediction/image_data_NLD_adv'),\n",
    "    Path('/workspace/workspace/ufo-prediction/image_data_ESP_adv'),  # Add your second directory path here\n",
    "    Path('/workspace/workspace/ufo-prediction/image_data_FRA_adv')\n",
    "   # Add your third directory path here\n",
    "]\n",
    "\n",
    "filepaths = pd.Series(\n",
    "    [item for directory in directories for item in directory.glob('**/*.jpg')],\n",
    "    name='Filepath'\n",
    ").astype(str)\n",
    "\n",
    "age_brackets = pd.Series(filepaths.apply(lambda x: extract_age_and_name(x)), name='Age Brackets')\n",
    "building_ids = pd.Series(filepaths.apply(extract_building_id), name='Building ID')\n",
    "\n",
    "# Filter to exclude 'Unknown' age brackets and corresponding filepaths and building IDs\n",
    "filtered_indices = age_brackets != 'Unknown'\n",
    "filtered_age_brackets = age_brackets[filtered_indices]\n",
    "filtered_filepaths = filepaths[filtered_indices]\n",
    "filtered_building_ids = building_ids[filtered_indices]\n",
    "\n",
    "# Create DataFrame\n",
    "trainval_df = pd.concat([filtered_filepaths, filtered_age_brackets, filtered_building_ids], axis=1)\n",
    "trainval_df = trainval_df.sample(frac=1.0, random_state=1).reset_index(drop=True)\n",
    "trainval_df['Target'] = trainval_df['Age Brackets'].map(age_bracket_to_int)\n",
    "\n",
    "print(trainval_df.head())"
   ]
  },
  {
   "cell_type": "code",
   "execution_count": 7,
   "metadata": {},
   "outputs": [
    {
     "name": "stdout",
     "output_type": "stream",
     "text": [
      "18473\n",
      "41861\n"
     ]
    }
   ],
   "source": [
    "from numpy import unique\n",
    "building_ids = [extract_building_id(path) for path in filtered_filepaths]\n",
    "print(len(unique(building_ids)))\n",
    "print(len(trainval_df))"
   ]
  },
  {
   "cell_type": "code",
   "execution_count": 8,
   "metadata": {},
   "outputs": [
    {
     "data": {
      "text/plain": [
       "41861"
      ]
     },
     "execution_count": 8,
     "metadata": {},
     "output_type": "execute_result"
    }
   ],
   "source": [
    "len(trainval_df)"
   ]
  },
  {
   "cell_type": "code",
   "execution_count": 9,
   "metadata": {},
   "outputs": [
    {
     "name": "stdout",
     "output_type": "stream",
     "text": [
      "Training set size: (29302, 4)\n",
      "Validation set size: (12559, 4)\n",
      "\n",
      "Sample training data:                                             Filepath Age Brackets  \\\n",
      "0  /workspace/workspace/ufo-prediction/image_data...    2000-2050   \n",
      "1  /workspace/workspace/ufo-prediction/image_data...    1946-1959   \n",
      "3  /workspace/workspace/ufo-prediction/image_data...    1946-1959   \n",
      "4  /workspace/workspace/ufo-prediction/image_data...    1970-1984   \n",
      "6  /workspace/workspace/ufo-prediction/image_data...    1900-1924   \n",
      "\n",
      "                 Building ID  Target  \n",
      "0      v0.1-NLD.8.47_1-29490       6  \n",
      "1      v0.1-NLD.12.9_1-18224       2  \n",
      "3  v0.1-ESP.8.1.3.10_1-18889       2  \n",
      "4       v0.1-NLD.5.7_1-67046       4  \n",
      "6      v0.1-NLD.10.7_1-23348       0  \n",
      "\n",
      "Sample validation data:                                              Filepath Age Brackets  \\\n",
      "2   /workspace/workspace/ufo-prediction/image_data...    2000-2050   \n",
      "5   /workspace/workspace/ufo-prediction/image_data...    2000-2050   \n",
      "7   /workspace/workspace/ufo-prediction/image_data...    1960-1969   \n",
      "9   /workspace/workspace/ufo-prediction/image_data...    1970-1984   \n",
      "14  /workspace/workspace/ufo-prediction/image_data...    1960-1969   \n",
      "\n",
      "                  Building ID  Target  \n",
      "2   v0.1-ESP.10.1.7.17_1-2114       6  \n",
      "5     v0.1-ESP.6.1.5.34_1-307       6  \n",
      "7        v0.1-NLD.11.6_1-8651       3  \n",
      "9      v0.1-NLD.10.22_1-10408       4  \n",
      "14       v0.1-NLD.12.6_1-6927       3  \n"
     ]
    }
   ],
   "source": [
    "# # Initialize the GroupShuffleSplit\n",
    "# gss = GroupShuffleSplit(n_splits=1, train_size=0.7, random_state=dataset.GLOBAL_REPRODUCIBILITY_SEED)\n",
    "\n",
    "# # Split the DataFrame into training and validation+test sets\n",
    "# # We use 'Building ID' as the groups to keep images of the same building together\n",
    "# train_idx, val_idx = next(gss.split(trainval_df, groups=trainval_df['Building ID']))\n",
    "# train_df = trainval_df.iloc[train_idx]\n",
    "# val_df = trainval_df.iloc[val_idx]\n",
    "\n",
    "\n",
    "# # Check the sizes of each set and sample outputs\n",
    "# print(\"Training set size:\", train_df.shape)\n",
    "# print(\"Validation set size:\", val_df.shape)\n",
    "# print(\"\\nSample training data:\", train_df.head())\n",
    "# print(\"\\nSample validation data:\", val_df.head())\n",
    "\n",
    "# Initialize the GroupShuffleSplit\n",
    "gss = GroupShuffleSplit(n_splits=1, train_size=0.6, random_state=np.random.randint(1, 10000))\n",
    "\n",
    "# Split the DataFrame into training and validation+test sets\n",
    "# We use 'Building ID' as the groups to keep images of the same building together\n",
    "train_idx, valtest_idx = next(gss.split(trainval_df, groups=trainval_df['Building ID']))\n",
    "train_df = trainval_df.iloc[train_idx]\n",
    "valtest_df = trainval_df.iloc[valtest_idx]\n",
    "\n",
    "# Now split the validation+test set into validation and test sets\n",
    "gss_val_test = GroupShuffleSplit(n_splits=1, train_size=0.7, random_state=1)\n",
    "val_idx, test_idx = next(gss_val_test.split(valtest_df, groups=valtest_df['Building ID']))\n",
    "val_df = valtest_df.iloc[val_idx]\n",
    "test_df_unused = valtest_df.iloc[test_idx]\n",
    "\n",
    "# Check the sizes of each set and sample outputs\n",
    "print(\"Training set size:\", train_df.shape)\n",
    "print(\"Validation set size:\", val_df.shape)\n",
    "print(\"Testing set size:\", test_df_unused.shape)\n",
    "print(\"\\nSample training data:\", train_df.head())\n",
    "print(\"\\nSample validation data:\", val_df.head())\n",
    "print(\"\\nSample testing data:\", test_df_unused.head())\n"
   ]
  },
  {
   "cell_type": "code",
   "execution_count": 10,
   "metadata": {},
   "outputs": [
    {
     "name": "stdout",
     "output_type": "stream",
     "text": [
      "Check passed: No building ID appears in more than one dataset.\n"
     ]
    }
   ],
   "source": [
    "# def check_building_id_exclusivity(train_df, val_df):\n",
    "#     # Extract building IDs from each dataset into sets\n",
    "#     train_ids = set(train_df['Building ID'])\n",
    "#     val_ids = set(val_df['Building ID'])\n",
    "\n",
    "#     # Check for intersections between the sets\n",
    "#     train_val_intersection = train_ids.intersection(val_ids)\n",
    "\n",
    "\n",
    "#     # Report the results\n",
    "#     if not train_val_intersection:\n",
    "#         print(\"Check passed: No building ID appears in more than one dataset.\")\n",
    "#     else:\n",
    "#         if train_val_intersection:\n",
    "#             print(\"Overlap found between training and validation datasets:\", train_val_intersection)\n",
    "     \n",
    "\n",
    "# # Example usage:\n",
    "# check_building_id_exclusivity(train_df, val_df)\n",
    "\n",
    "def check_building_id_exclusivity(train_df, val_df, test_df):\n",
    "    # Extract building IDs from each dataset into sets\n",
    "    train_ids = set(train_df['Building ID'])\n",
    "    val_ids = set(val_df['Building ID'])\n",
    "    test_ids = set(test_df['Building ID'])\n",
    "\n",
    "    # Check for intersections between the sets\n",
    "    train_val_intersection = train_ids.intersection(val_ids)\n",
    "    train_test_intersection = train_ids.intersection(test_ids)\n",
    "    val_test_intersection = val_ids.intersection(test_ids)\n",
    "\n",
    "    # Report the results\n",
    "    if not train_val_intersection and not train_test_intersection and not val_test_intersection:\n",
    "        print(\"Check passed: No building ID appears in more than one dataset.\")\n",
    "    else:\n",
    "        if train_val_intersection:\n",
    "            print(\"Overlap found between training and validation datasets:\", train_val_intersection)\n",
    "        if train_test_intersection:\n",
    "            print(\"Overlap found between training and testing datasets:\", train_test_intersection)\n",
    "        if val_test_intersection:\n",
    "            print(\"Overlap found between validation and testing datasets:\", val_test_intersection)\n",
    "\n",
    "# Example usage:\n",
    "check_building_id_exclusivity(train_df, val_df, test_df_unused)"
   ]
  },
  {
   "cell_type": "code",
   "execution_count": 11,
   "metadata": {},
   "outputs": [],
   "source": [
    "class AgeBracketDataset(Dataset):\n",
    "    def __init__(self, dataframe, transform=None):\n",
    "        self.dataframe = dataframe\n",
    "        self.transform = transform\n",
    "\n",
    "    def __len__(self):\n",
    "        return len(self.dataframe)\n",
    "\n",
    "    def __getitem__(self, idx):\n",
    "        img_path = self.dataframe.iloc[idx, 0]\n",
    "        image = Image.open(img_path).convert(\"RGB\")\n",
    "        label = int(self.dataframe.iloc[idx, -1])  # Assuming the label/target is in the third column\n",
    "\n",
    "        if self.transform:\n",
    "            image = self.transform(image)\n",
    "\n",
    "        return image, label\n"
   ]
  },
  {
   "cell_type": "code",
   "execution_count": 12,
   "metadata": {},
   "outputs": [],
   "source": [
    "train_transforms = transforms.Compose([\n",
    "    transforms.RandomResizedCrop(224),  # ResNet-18 expects 224x224 inputs\n",
    "    transforms.RandomHorizontalFlip(),  # A common form of augmentation\n",
    "    #transforms.RandomRotation(15),  # Rotates the image by up to 15 degrees\n",
    "    #transforms.ColorJitter(brightness=0.1, contrast=0.1, saturation=0.1, hue=0.1),  # Randomly jitters color\n",
    "    #transforms.RandomAffine(degrees=0, translate=(0.1, 0.1), scale=(0.9, 1.1)),\n",
    "    transforms.ToTensor(),\n",
    "    transforms.Normalize([0.485, 0.456, 0.406], [0.229, 0.224, 0.225])  # Normalization\n",
    "])\n",
    "\n",
    "val_test_transforms = transforms.Compose([\n",
    "    transforms.Resize(256),\n",
    "    transforms.CenterCrop(224),\n",
    "    transforms.ToTensor(),\n",
    "    transforms.Normalize([0.485, 0.456, 0.406], [0.229, 0.224, 0.225])\n",
    "])\n",
    "\n",
    "train_dataset = AgeBracketDataset(train_df, transform=train_transforms)\n",
    "train_loader = DataLoader(train_dataset, batch_size=32, shuffle=True)\n",
    "\n",
    "val_dataset = AgeBracketDataset(val_df, transform=val_test_transforms)\n",
    "val_loader = DataLoader(val_dataset, batch_size=32, shuffle=True)"
   ]
  },
  {
   "cell_type": "markdown",
   "metadata": {},
   "source": [
    "# 3. Train model"
   ]
  },
  {
   "cell_type": "code",
   "execution_count": 13,
   "metadata": {},
   "outputs": [],
   "source": [
    "def train_and_evaluate_val_loss(model, train_loader, val_loader, optimizer, criterion, scheduler, num_epochs=50, patience=7, config_details=None):\n",
    "    device = torch.device(\"cuda\" if torch.cuda.is_available() else \"cpu\")\n",
    "    best_val_loss = float('inf')  # Initialize the best validation loss as infinity\n",
    "    best_model_wts = copy.deepcopy(model.state_dict())\n",
    "    epochs_no_improve = 0\n",
    "    early_stop = False\n",
    "    history = []\n",
    "\n",
    "    for epoch in range(num_epochs):\n",
    "        model.train()  # Set model to training mode\n",
    "        running_loss = 0.0\n",
    "        # Use tqdm for the training loop\n",
    "        progress_bar = tqdm(train_loader, desc=f'Epoch {epoch+1}/{num_epochs}', leave=False)\n",
    "        # Training phase\n",
    "        for inputs, labels in train_loader:\n",
    "            inputs, labels = inputs.to(device), labels.to(device)\n",
    "\n",
    "            optimizer.zero_grad()\n",
    "            outputs = model(inputs)\n",
    "            loss = criterion(outputs, labels)\n",
    "            loss.backward()\n",
    "            optimizer.step()\n",
    "\n",
    "            running_loss += loss.item()\n",
    "            progress_bar.set_description(f'Training Loss: {running_loss / (progress_bar.n + 1):.4f}')\n",
    "            progress_bar.update()  # Ensure this call is here to update the progress for each iteration\n",
    "            \n",
    "        # Validation phase\n",
    "        model.eval()\n",
    "        val_loss = 0.0\n",
    "        with torch.no_grad():\n",
    "            for inputs, labels in val_loader:\n",
    "                inputs, labels = inputs.to(device), labels.to(device)\n",
    "                outputs = model(inputs)\n",
    "                loss = criterion(outputs, labels)\n",
    "                val_loss += loss.item()\n",
    "\n",
    "        avg_val_loss = val_loss / len(val_loader)\n",
    "        history.append({'epoch': epoch + 1, 'validation_loss': avg_val_loss, **config_details})\n",
    "\n",
    "        print(f'Epoch {epoch+1}/{num_epochs}, Training Loss: {running_loss / len(train_loader):.4f}, Validation Loss: {avg_val_loss:.4f}')\n",
    "        \n",
    "        scheduler.step(avg_val_loss)  # Learning rate scheduler step based on validation loss\n",
    "\n",
    "        # Check for improvement based on validation loss\n",
    "        if avg_val_loss < best_val_loss:\n",
    "            best_val_loss = avg_val_loss\n",
    "            best_model_wts = copy.deepcopy(model.state_dict())\n",
    "            epochs_no_improve = 0\n",
    "        else:\n",
    "            epochs_no_improve += 1\n",
    "\n",
    "        # Early stopping check\n",
    "        if epochs_no_improve >= patience:\n",
    "            print(f'Early stopping triggered after {epoch + 1} epochs.')\n",
    "            early_stop = True\n",
    "            break\n",
    "    \n",
    "    progress_bar.close()\n",
    "    \n",
    "    if not early_stop:\n",
    "        print('Reached maximum epoch limit.')\n",
    "\n",
    "    # Load best model weights based on lowest validation loss\n",
    "    model.load_state_dict(best_model_wts)\n",
    "    history_df = pd.DataFrame(history)\n",
    "    return best_val_loss, history_df  # Return the best validation loss achieved\n"
   ]
  },
  {
   "cell_type": "code",
   "execution_count": 14,
   "metadata": {},
   "outputs": [
    {
     "name": "stdout",
     "output_type": "stream",
     "text": [
      "ResNet(\n",
      "  (conv1): Conv2d(3, 64, kernel_size=(7, 7), stride=(2, 2), padding=(3, 3), bias=False)\n",
      "  (bn1): BatchNorm2d(64, eps=1e-05, momentum=0.1, affine=True, track_running_stats=True)\n",
      "  (relu): ReLU(inplace=True)\n",
      "  (maxpool): MaxPool2d(kernel_size=3, stride=2, padding=1, dilation=1, ceil_mode=False)\n",
      "  (layer1): Sequential(\n",
      "    (0): BasicBlock(\n",
      "      (conv1): Conv2d(64, 64, kernel_size=(3, 3), stride=(1, 1), padding=(1, 1), bias=False)\n",
      "      (bn1): BatchNorm2d(64, eps=1e-05, momentum=0.1, affine=True, track_running_stats=True)\n",
      "      (relu): ReLU(inplace=True)\n",
      "      (conv2): Conv2d(64, 64, kernel_size=(3, 3), stride=(1, 1), padding=(1, 1), bias=False)\n",
      "      (bn2): BatchNorm2d(64, eps=1e-05, momentum=0.1, affine=True, track_running_stats=True)\n",
      "    )\n",
      "    (1): BasicBlock(\n",
      "      (conv1): Conv2d(64, 64, kernel_size=(3, 3), stride=(1, 1), padding=(1, 1), bias=False)\n",
      "      (bn1): BatchNorm2d(64, eps=1e-05, momentum=0.1, affine=True, track_running_stats=True)\n",
      "      (relu): ReLU(inplace=True)\n",
      "      (conv2): Conv2d(64, 64, kernel_size=(3, 3), stride=(1, 1), padding=(1, 1), bias=False)\n",
      "      (bn2): BatchNorm2d(64, eps=1e-05, momentum=0.1, affine=True, track_running_stats=True)\n",
      "    )\n",
      "  )\n",
      "  (layer2): Sequential(\n",
      "    (0): BasicBlock(\n",
      "      (conv1): Conv2d(64, 128, kernel_size=(3, 3), stride=(2, 2), padding=(1, 1), bias=False)\n",
      "      (bn1): BatchNorm2d(128, eps=1e-05, momentum=0.1, affine=True, track_running_stats=True)\n",
      "      (relu): ReLU(inplace=True)\n",
      "      (conv2): Conv2d(128, 128, kernel_size=(3, 3), stride=(1, 1), padding=(1, 1), bias=False)\n",
      "      (bn2): BatchNorm2d(128, eps=1e-05, momentum=0.1, affine=True, track_running_stats=True)\n",
      "      (downsample): Sequential(\n",
      "        (0): Conv2d(64, 128, kernel_size=(1, 1), stride=(2, 2), bias=False)\n",
      "        (1): BatchNorm2d(128, eps=1e-05, momentum=0.1, affine=True, track_running_stats=True)\n",
      "      )\n",
      "    )\n",
      "    (1): BasicBlock(\n",
      "      (conv1): Conv2d(128, 128, kernel_size=(3, 3), stride=(1, 1), padding=(1, 1), bias=False)\n",
      "      (bn1): BatchNorm2d(128, eps=1e-05, momentum=0.1, affine=True, track_running_stats=True)\n",
      "      (relu): ReLU(inplace=True)\n",
      "      (conv2): Conv2d(128, 128, kernel_size=(3, 3), stride=(1, 1), padding=(1, 1), bias=False)\n",
      "      (bn2): BatchNorm2d(128, eps=1e-05, momentum=0.1, affine=True, track_running_stats=True)\n",
      "    )\n",
      "  )\n",
      "  (layer3): Sequential(\n",
      "    (0): BasicBlock(\n",
      "      (conv1): Conv2d(128, 256, kernel_size=(3, 3), stride=(2, 2), padding=(1, 1), bias=False)\n",
      "      (bn1): BatchNorm2d(256, eps=1e-05, momentum=0.1, affine=True, track_running_stats=True)\n",
      "      (relu): ReLU(inplace=True)\n",
      "      (conv2): Conv2d(256, 256, kernel_size=(3, 3), stride=(1, 1), padding=(1, 1), bias=False)\n",
      "      (bn2): BatchNorm2d(256, eps=1e-05, momentum=0.1, affine=True, track_running_stats=True)\n",
      "      (downsample): Sequential(\n",
      "        (0): Conv2d(128, 256, kernel_size=(1, 1), stride=(2, 2), bias=False)\n",
      "        (1): BatchNorm2d(256, eps=1e-05, momentum=0.1, affine=True, track_running_stats=True)\n",
      "      )\n",
      "    )\n",
      "    (1): BasicBlock(\n",
      "      (conv1): Conv2d(256, 256, kernel_size=(3, 3), stride=(1, 1), padding=(1, 1), bias=False)\n",
      "      (bn1): BatchNorm2d(256, eps=1e-05, momentum=0.1, affine=True, track_running_stats=True)\n",
      "      (relu): ReLU(inplace=True)\n",
      "      (conv2): Conv2d(256, 256, kernel_size=(3, 3), stride=(1, 1), padding=(1, 1), bias=False)\n",
      "      (bn2): BatchNorm2d(256, eps=1e-05, momentum=0.1, affine=True, track_running_stats=True)\n",
      "    )\n",
      "  )\n",
      "  (layer4): Sequential(\n",
      "    (0): BasicBlock(\n",
      "      (conv1): Conv2d(256, 512, kernel_size=(3, 3), stride=(2, 2), padding=(1, 1), bias=False)\n",
      "      (bn1): BatchNorm2d(512, eps=1e-05, momentum=0.1, affine=True, track_running_stats=True)\n",
      "      (relu): ReLU(inplace=True)\n",
      "      (conv2): Conv2d(512, 512, kernel_size=(3, 3), stride=(1, 1), padding=(1, 1), bias=False)\n",
      "      (bn2): BatchNorm2d(512, eps=1e-05, momentum=0.1, affine=True, track_running_stats=True)\n",
      "      (downsample): Sequential(\n",
      "        (0): Conv2d(256, 512, kernel_size=(1, 1), stride=(2, 2), bias=False)\n",
      "        (1): BatchNorm2d(512, eps=1e-05, momentum=0.1, affine=True, track_running_stats=True)\n",
      "      )\n",
      "    )\n",
      "    (1): BasicBlock(\n",
      "      (conv1): Conv2d(512, 512, kernel_size=(3, 3), stride=(1, 1), padding=(1, 1), bias=False)\n",
      "      (bn1): BatchNorm2d(512, eps=1e-05, momentum=0.1, affine=True, track_running_stats=True)\n",
      "      (relu): ReLU(inplace=True)\n",
      "      (conv2): Conv2d(512, 512, kernel_size=(3, 3), stride=(1, 1), padding=(1, 1), bias=False)\n",
      "      (bn2): BatchNorm2d(512, eps=1e-05, momentum=0.1, affine=True, track_running_stats=True)\n",
      "    )\n",
      "  )\n",
      "  (avgpool): AdaptiveAvgPool2d(output_size=(1, 1))\n",
      "  (fc): Linear(in_features=512, out_features=7, bias=True)\n",
      ")\n"
     ]
    },
    {
     "data": {
      "application/vnd.jupyter.widget-view+json": {
       "model_id": "30205c90d7064c61a3b534342838b4f4",
       "version_major": 2,
       "version_minor": 0
      },
      "text/plain": [
       "Epoch 1/25:   0%|          | 0/916 [00:00<?, ?it/s]"
      ]
     },
     "metadata": {},
     "output_type": "display_data"
    },
    {
     "name": "stderr",
     "output_type": "stream",
     "text": [
      "/.local/lib/python3.8/site-packages/torch/nn/functional.py:718: UserWarning: Named tensors and all their associated APIs are an experimental feature and subject to change. Please do not use them for anything important until they are released as stable. (Triggered internally at  /pytorch/c10/core/TensorImpl.h:1156.)\n",
      "  return torch.max_pool2d(input, kernel_size, stride, padding, dilation, ceil_mode)\n"
     ]
    },
    {
     "name": "stdout",
     "output_type": "stream",
     "text": [
      "Epoch 1/25, Training Loss: 1.9001, Validation Loss: 1.9352\n"
     ]
    },
    {
     "data": {
      "application/vnd.jupyter.widget-view+json": {
       "model_id": "09367fad5f1e4577b85d3542085fdbab",
       "version_major": 2,
       "version_minor": 0
      },
      "text/plain": [
       "Epoch 2/25:   0%|          | 0/916 [00:00<?, ?it/s]"
      ]
     },
     "metadata": {},
     "output_type": "display_data"
    },
    {
     "name": "stdout",
     "output_type": "stream",
     "text": [
      "Epoch 2/25, Training Loss: 1.8604, Validation Loss: 1.9006\n"
     ]
    },
    {
     "data": {
      "application/vnd.jupyter.widget-view+json": {
       "model_id": "2896b7c828b144be9c74b3220b30c74b",
       "version_major": 2,
       "version_minor": 0
      },
      "text/plain": [
       "Epoch 3/25:   0%|          | 0/916 [00:00<?, ?it/s]"
      ]
     },
     "metadata": {},
     "output_type": "display_data"
    },
    {
     "name": "stdout",
     "output_type": "stream",
     "text": [
      "Epoch 3/25, Training Loss: 1.8586, Validation Loss: 1.9109\n"
     ]
    },
    {
     "data": {
      "application/vnd.jupyter.widget-view+json": {
       "model_id": "c39a265e21494738887207b7b841a5e2",
       "version_major": 2,
       "version_minor": 0
      },
      "text/plain": [
       "Epoch 4/25:   0%|          | 0/916 [00:00<?, ?it/s]"
      ]
     },
     "metadata": {},
     "output_type": "display_data"
    },
    {
     "name": "stdout",
     "output_type": "stream",
     "text": [
      "Epoch 4/25, Training Loss: 1.8545, Validation Loss: 1.8829\n"
     ]
    },
    {
     "data": {
      "application/vnd.jupyter.widget-view+json": {
       "model_id": "5f7b3b89b4ec4e0d9de70f39b885edb1",
       "version_major": 2,
       "version_minor": 0
      },
      "text/plain": [
       "Epoch 5/25:   0%|          | 0/916 [00:00<?, ?it/s]"
      ]
     },
     "metadata": {},
     "output_type": "display_data"
    },
    {
     "name": "stdout",
     "output_type": "stream",
     "text": [
      "Epoch 5/25, Training Loss: 1.8410, Validation Loss: 1.9170\n"
     ]
    },
    {
     "data": {
      "application/vnd.jupyter.widget-view+json": {
       "model_id": "f03a721729694b5eb5a40f9432716c6b",
       "version_major": 2,
       "version_minor": 0
      },
      "text/plain": [
       "Epoch 6/25:   0%|          | 0/916 [00:00<?, ?it/s]"
      ]
     },
     "metadata": {},
     "output_type": "display_data"
    },
    {
     "name": "stdout",
     "output_type": "stream",
     "text": [
      "Epoch 6/25, Training Loss: 1.8287, Validation Loss: 1.8823\n"
     ]
    },
    {
     "data": {
      "application/vnd.jupyter.widget-view+json": {
       "model_id": "6f1480d839574305b9d1a90e6b8d40d4",
       "version_major": 2,
       "version_minor": 0
      },
      "text/plain": [
       "Epoch 7/25:   0%|          | 0/916 [00:00<?, ?it/s]"
      ]
     },
     "metadata": {},
     "output_type": "display_data"
    },
    {
     "name": "stdout",
     "output_type": "stream",
     "text": [
      "Epoch 7/25, Training Loss: 1.8120, Validation Loss: 1.8882\n"
     ]
    },
    {
     "data": {
      "application/vnd.jupyter.widget-view+json": {
       "model_id": "7517a24b871642f8a618e464606621c1",
       "version_major": 2,
       "version_minor": 0
      },
      "text/plain": [
       "Epoch 8/25:   0%|          | 0/916 [00:00<?, ?it/s]"
      ]
     },
     "metadata": {},
     "output_type": "display_data"
    },
    {
     "name": "stdout",
     "output_type": "stream",
     "text": [
      "Epoch 8/25, Training Loss: 1.8033, Validation Loss: 1.8991\n"
     ]
    },
    {
     "data": {
      "application/vnd.jupyter.widget-view+json": {
       "model_id": "8e588e853db3453c9f0dc9167c706761",
       "version_major": 2,
       "version_minor": 0
      },
      "text/plain": [
       "Epoch 9/25:   0%|          | 0/916 [00:00<?, ?it/s]"
      ]
     },
     "metadata": {},
     "output_type": "display_data"
    },
    {
     "name": "stdout",
     "output_type": "stream",
     "text": [
      "Epoch 9/25, Training Loss: 1.7938, Validation Loss: 1.8757\n"
     ]
    },
    {
     "data": {
      "application/vnd.jupyter.widget-view+json": {
       "model_id": "db097239ed4f4f258e71245bc7bd6217",
       "version_major": 2,
       "version_minor": 0
      },
      "text/plain": [
       "Epoch 10/25:   0%|          | 0/916 [00:00<?, ?it/s]"
      ]
     },
     "metadata": {},
     "output_type": "display_data"
    },
    {
     "name": "stdout",
     "output_type": "stream",
     "text": [
      "Epoch 10/25, Training Loss: 1.7883, Validation Loss: 1.8824\n"
     ]
    },
    {
     "data": {
      "application/vnd.jupyter.widget-view+json": {
       "model_id": "2946d062a91b4c648365569563c33d44",
       "version_major": 2,
       "version_minor": 0
      },
      "text/plain": [
       "Epoch 11/25:   0%|          | 0/916 [00:00<?, ?it/s]"
      ]
     },
     "metadata": {},
     "output_type": "display_data"
    },
    {
     "name": "stdout",
     "output_type": "stream",
     "text": [
      "Epoch 11/25, Training Loss: 1.7794, Validation Loss: 1.8645\n"
     ]
    },
    {
     "data": {
      "application/vnd.jupyter.widget-view+json": {
       "model_id": "1259339ec7474ef9868ef00bb0d3eb97",
       "version_major": 2,
       "version_minor": 0
      },
      "text/plain": [
       "Epoch 12/25:   0%|          | 0/916 [00:00<?, ?it/s]"
      ]
     },
     "metadata": {},
     "output_type": "display_data"
    },
    {
     "name": "stdout",
     "output_type": "stream",
     "text": [
      "Epoch 12/25, Training Loss: 1.7757, Validation Loss: 1.8775\n"
     ]
    },
    {
     "data": {
      "application/vnd.jupyter.widget-view+json": {
       "model_id": "3e74dea283464810b0475117d9875aaf",
       "version_major": 2,
       "version_minor": 0
      },
      "text/plain": [
       "Epoch 13/25:   0%|          | 0/916 [00:00<?, ?it/s]"
      ]
     },
     "metadata": {},
     "output_type": "display_data"
    },
    {
     "name": "stdout",
     "output_type": "stream",
     "text": [
      "Epoch 13/25, Training Loss: 1.7718, Validation Loss: 1.8652\n"
     ]
    },
    {
     "data": {
      "application/vnd.jupyter.widget-view+json": {
       "model_id": "da22212b3407403c840e00c708e3d597",
       "version_major": 2,
       "version_minor": 0
      },
      "text/plain": [
       "Epoch 14/25:   0%|          | 0/916 [00:00<?, ?it/s]"
      ]
     },
     "metadata": {},
     "output_type": "display_data"
    },
    {
     "name": "stdout",
     "output_type": "stream",
     "text": [
      "Epoch 14/25, Training Loss: 1.7679, Validation Loss: 1.8961\n",
      "Epoch    14: reducing learning rate of group 0 to 6.2500e-05.\n"
     ]
    },
    {
     "data": {
      "application/vnd.jupyter.widget-view+json": {
       "model_id": "5611aa8ab66d419187f45a9562f0f6bc",
       "version_major": 2,
       "version_minor": 0
      },
      "text/plain": [
       "Epoch 15/25:   0%|          | 0/916 [00:00<?, ?it/s]"
      ]
     },
     "metadata": {},
     "output_type": "display_data"
    },
    {
     "name": "stdout",
     "output_type": "stream",
     "text": [
      "Epoch 15/25, Training Loss: 1.7321, Validation Loss: 1.8617\n"
     ]
    },
    {
     "data": {
      "application/vnd.jupyter.widget-view+json": {
       "model_id": "fc79fec07c04482bafa2d04fcf5efa3f",
       "version_major": 2,
       "version_minor": 0
      },
      "text/plain": [
       "Epoch 16/25:   0%|          | 0/916 [00:00<?, ?it/s]"
      ]
     },
     "metadata": {},
     "output_type": "display_data"
    },
    {
     "name": "stdout",
     "output_type": "stream",
     "text": [
      "Epoch 16/25, Training Loss: 1.7136, Validation Loss: 1.8690\n"
     ]
    },
    {
     "data": {
      "application/vnd.jupyter.widget-view+json": {
       "model_id": "36ce17713a4b4089b8ab51ce777b5ca4",
       "version_major": 2,
       "version_minor": 0
      },
      "text/plain": [
       "Epoch 17/25:   0%|          | 0/916 [00:00<?, ?it/s]"
      ]
     },
     "metadata": {},
     "output_type": "display_data"
    },
    {
     "name": "stdout",
     "output_type": "stream",
     "text": [
      "Epoch 17/25, Training Loss: 1.7118, Validation Loss: 1.8657\n"
     ]
    },
    {
     "data": {
      "application/vnd.jupyter.widget-view+json": {
       "model_id": "dcafaf83fab24da2a4d836604a2ad6bb",
       "version_major": 2,
       "version_minor": 0
      },
      "text/plain": [
       "Epoch 18/25:   0%|          | 0/916 [00:00<?, ?it/s]"
      ]
     },
     "metadata": {},
     "output_type": "display_data"
    },
    {
     "name": "stdout",
     "output_type": "stream",
     "text": [
      "Epoch 18/25, Training Loss: 1.7029, Validation Loss: 1.8706\n",
      "Epoch    18: reducing learning rate of group 0 to 1.5625e-05.\n"
     ]
    },
    {
     "data": {
      "application/vnd.jupyter.widget-view+json": {
       "model_id": "fa762385ed7f46eba4810495b69ab58a",
       "version_major": 2,
       "version_minor": 0
      },
      "text/plain": [
       "Epoch 19/25:   0%|          | 0/916 [00:00<?, ?it/s]"
      ]
     },
     "metadata": {},
     "output_type": "display_data"
    },
    {
     "name": "stdout",
     "output_type": "stream",
     "text": [
      "Epoch 19/25, Training Loss: 1.6886, Validation Loss: 1.8592\n"
     ]
    },
    {
     "data": {
      "application/vnd.jupyter.widget-view+json": {
       "model_id": "3718738e011949fca0d8c5f6625cffca",
       "version_major": 2,
       "version_minor": 0
      },
      "text/plain": [
       "Epoch 20/25:   0%|          | 0/916 [00:00<?, ?it/s]"
      ]
     },
     "metadata": {},
     "output_type": "display_data"
    },
    {
     "name": "stdout",
     "output_type": "stream",
     "text": [
      "Epoch 20/25, Training Loss: 1.6787, Validation Loss: 1.8734\n"
     ]
    },
    {
     "data": {
      "application/vnd.jupyter.widget-view+json": {
       "model_id": "a9a9437036bd48ad9e883b791e66dc1f",
       "version_major": 2,
       "version_minor": 0
      },
      "text/plain": [
       "Epoch 21/25:   0%|          | 0/916 [00:00<?, ?it/s]"
      ]
     },
     "metadata": {},
     "output_type": "display_data"
    },
    {
     "name": "stdout",
     "output_type": "stream",
     "text": [
      "Epoch 21/25, Training Loss: 1.6725, Validation Loss: 1.8690\n"
     ]
    },
    {
     "data": {
      "application/vnd.jupyter.widget-view+json": {
       "model_id": "f8823ab4bc004cb6a418d43a94393aeb",
       "version_major": 2,
       "version_minor": 0
      },
      "text/plain": [
       "Epoch 22/25:   0%|          | 0/916 [00:00<?, ?it/s]"
      ]
     },
     "metadata": {},
     "output_type": "display_data"
    },
    {
     "name": "stdout",
     "output_type": "stream",
     "text": [
      "Epoch 22/25, Training Loss: 1.6730, Validation Loss: 1.8681\n",
      "Epoch    22: reducing learning rate of group 0 to 3.9063e-06.\n"
     ]
    },
    {
     "data": {
      "application/vnd.jupyter.widget-view+json": {
       "model_id": "f02979df6e9b4eeeb6a2ce3c34a88f4d",
       "version_major": 2,
       "version_minor": 0
      },
      "text/plain": [
       "Epoch 23/25:   0%|          | 0/916 [00:00<?, ?it/s]"
      ]
     },
     "metadata": {},
     "output_type": "display_data"
    },
    {
     "name": "stdout",
     "output_type": "stream",
     "text": [
      "Epoch 23/25, Training Loss: 1.6670, Validation Loss: 1.8801\n"
     ]
    },
    {
     "data": {
      "application/vnd.jupyter.widget-view+json": {
       "model_id": "de96c5639ebe474b923ebdeb3be30b1b",
       "version_major": 2,
       "version_minor": 0
      },
      "text/plain": [
       "Epoch 24/25:   0%|          | 0/916 [00:00<?, ?it/s]"
      ]
     },
     "metadata": {},
     "output_type": "display_data"
    },
    {
     "name": "stdout",
     "output_type": "stream",
     "text": [
      "Epoch 24/25, Training Loss: 1.6648, Validation Loss: 1.8668\n"
     ]
    },
    {
     "data": {
      "application/vnd.jupyter.widget-view+json": {
       "model_id": "3689d5f9251940a9b60229975246fed7",
       "version_major": 2,
       "version_minor": 0
      },
      "text/plain": [
       "Epoch 25/25:   0%|          | 0/916 [00:00<?, ?it/s]"
      ]
     },
     "metadata": {},
     "output_type": "display_data"
    },
    {
     "name": "stdout",
     "output_type": "stream",
     "text": [
      "Epoch 25/25, Training Loss: 1.6602, Validation Loss: 1.8756\n",
      "Epoch    25: reducing learning rate of group 0 to 9.7656e-07.\n",
      "Early stopping triggered after 25 epochs.\n"
     ]
    },
    {
     "ename": "OSError",
     "evalue": "Cannot save file into a non-existent directory: '/workspace/workspace/ufo-prediction/demo'",
     "output_type": "error",
     "traceback": [
      "\u001b[0;31m---------------------------------------------------------------------------\u001b[0m",
      "\u001b[0;31mOSError\u001b[0m                                   Traceback (most recent call last)",
      "Cell \u001b[0;32mIn [14], line 53\u001b[0m\n\u001b[1;32m     51\u001b[0m all_data \u001b[38;5;241m=\u001b[39m pd\u001b[38;5;241m.\u001b[39mconcat([all_data, data_df], ignore_index\u001b[38;5;241m=\u001b[39m\u001b[38;5;28;01mTrue\u001b[39;00m)\n\u001b[1;32m     52\u001b[0m \u001b[38;5;66;03m# Save the complete data to CSV\u001b[39;00m\n\u001b[0;32m---> 53\u001b[0m \u001b[43mall_data\u001b[49m\u001b[38;5;241;43m.\u001b[39;49m\u001b[43mto_csv\u001b[49m\u001b[43m(\u001b[49m\u001b[38;5;124;43m'\u001b[39;49m\u001b[38;5;124;43m/workspace/workspace/ufo-prediction/demo/training_main.csv\u001b[39;49m\u001b[38;5;124;43m'\u001b[39;49m\u001b[43m,\u001b[49m\u001b[43m \u001b[49m\u001b[43mindex\u001b[49m\u001b[38;5;241;43m=\u001b[39;49m\u001b[38;5;28;43;01mFalse\u001b[39;49;00m\u001b[43m)\u001b[49m\n\u001b[1;32m     54\u001b[0m \u001b[38;5;28mprint\u001b[39m(\u001b[38;5;124m\"\u001b[39m\u001b[38;5;124mBest Validation Loss:\u001b[39m\u001b[38;5;124m\"\u001b[39m, best_val_loss)\n",
      "File \u001b[0;32m~.local/lib/python3.8/site-packages/pandas/core/generic.py:3772\u001b[0m, in \u001b[0;36mNDFrame.to_csv\u001b[0;34m(self, path_or_buf, sep, na_rep, float_format, columns, header, index, index_label, mode, encoding, compression, quoting, quotechar, lineterminator, chunksize, date_format, doublequote, escapechar, decimal, errors, storage_options)\u001b[0m\n\u001b[1;32m   3761\u001b[0m df \u001b[38;5;241m=\u001b[39m \u001b[38;5;28mself\u001b[39m \u001b[38;5;28;01mif\u001b[39;00m \u001b[38;5;28misinstance\u001b[39m(\u001b[38;5;28mself\u001b[39m, ABCDataFrame) \u001b[38;5;28;01melse\u001b[39;00m \u001b[38;5;28mself\u001b[39m\u001b[38;5;241m.\u001b[39mto_frame()\n\u001b[1;32m   3763\u001b[0m formatter \u001b[38;5;241m=\u001b[39m DataFrameFormatter(\n\u001b[1;32m   3764\u001b[0m     frame\u001b[38;5;241m=\u001b[39mdf,\n\u001b[1;32m   3765\u001b[0m     header\u001b[38;5;241m=\u001b[39mheader,\n\u001b[0;32m   (...)\u001b[0m\n\u001b[1;32m   3769\u001b[0m     decimal\u001b[38;5;241m=\u001b[39mdecimal,\n\u001b[1;32m   3770\u001b[0m )\n\u001b[0;32m-> 3772\u001b[0m \u001b[38;5;28;01mreturn\u001b[39;00m \u001b[43mDataFrameRenderer\u001b[49m\u001b[43m(\u001b[49m\u001b[43mformatter\u001b[49m\u001b[43m)\u001b[49m\u001b[38;5;241;43m.\u001b[39;49m\u001b[43mto_csv\u001b[49m\u001b[43m(\u001b[49m\n\u001b[1;32m   3773\u001b[0m \u001b[43m    \u001b[49m\u001b[43mpath_or_buf\u001b[49m\u001b[43m,\u001b[49m\n\u001b[1;32m   3774\u001b[0m \u001b[43m    \u001b[49m\u001b[43mlineterminator\u001b[49m\u001b[38;5;241;43m=\u001b[39;49m\u001b[43mlineterminator\u001b[49m\u001b[43m,\u001b[49m\n\u001b[1;32m   3775\u001b[0m \u001b[43m    \u001b[49m\u001b[43msep\u001b[49m\u001b[38;5;241;43m=\u001b[39;49m\u001b[43msep\u001b[49m\u001b[43m,\u001b[49m\n\u001b[1;32m   3776\u001b[0m \u001b[43m    \u001b[49m\u001b[43mencoding\u001b[49m\u001b[38;5;241;43m=\u001b[39;49m\u001b[43mencoding\u001b[49m\u001b[43m,\u001b[49m\n\u001b[1;32m   3777\u001b[0m \u001b[43m    \u001b[49m\u001b[43merrors\u001b[49m\u001b[38;5;241;43m=\u001b[39;49m\u001b[43merrors\u001b[49m\u001b[43m,\u001b[49m\n\u001b[1;32m   3778\u001b[0m \u001b[43m    \u001b[49m\u001b[43mcompression\u001b[49m\u001b[38;5;241;43m=\u001b[39;49m\u001b[43mcompression\u001b[49m\u001b[43m,\u001b[49m\n\u001b[1;32m   3779\u001b[0m \u001b[43m    \u001b[49m\u001b[43mquoting\u001b[49m\u001b[38;5;241;43m=\u001b[39;49m\u001b[43mquoting\u001b[49m\u001b[43m,\u001b[49m\n\u001b[1;32m   3780\u001b[0m \u001b[43m    \u001b[49m\u001b[43mcolumns\u001b[49m\u001b[38;5;241;43m=\u001b[39;49m\u001b[43mcolumns\u001b[49m\u001b[43m,\u001b[49m\n\u001b[1;32m   3781\u001b[0m \u001b[43m    \u001b[49m\u001b[43mindex_label\u001b[49m\u001b[38;5;241;43m=\u001b[39;49m\u001b[43mindex_label\u001b[49m\u001b[43m,\u001b[49m\n\u001b[1;32m   3782\u001b[0m \u001b[43m    \u001b[49m\u001b[43mmode\u001b[49m\u001b[38;5;241;43m=\u001b[39;49m\u001b[43mmode\u001b[49m\u001b[43m,\u001b[49m\n\u001b[1;32m   3783\u001b[0m \u001b[43m    \u001b[49m\u001b[43mchunksize\u001b[49m\u001b[38;5;241;43m=\u001b[39;49m\u001b[43mchunksize\u001b[49m\u001b[43m,\u001b[49m\n\u001b[1;32m   3784\u001b[0m \u001b[43m    \u001b[49m\u001b[43mquotechar\u001b[49m\u001b[38;5;241;43m=\u001b[39;49m\u001b[43mquotechar\u001b[49m\u001b[43m,\u001b[49m\n\u001b[1;32m   3785\u001b[0m \u001b[43m    \u001b[49m\u001b[43mdate_format\u001b[49m\u001b[38;5;241;43m=\u001b[39;49m\u001b[43mdate_format\u001b[49m\u001b[43m,\u001b[49m\n\u001b[1;32m   3786\u001b[0m \u001b[43m    \u001b[49m\u001b[43mdoublequote\u001b[49m\u001b[38;5;241;43m=\u001b[39;49m\u001b[43mdoublequote\u001b[49m\u001b[43m,\u001b[49m\n\u001b[1;32m   3787\u001b[0m \u001b[43m    \u001b[49m\u001b[43mescapechar\u001b[49m\u001b[38;5;241;43m=\u001b[39;49m\u001b[43mescapechar\u001b[49m\u001b[43m,\u001b[49m\n\u001b[1;32m   3788\u001b[0m \u001b[43m    \u001b[49m\u001b[43mstorage_options\u001b[49m\u001b[38;5;241;43m=\u001b[39;49m\u001b[43mstorage_options\u001b[49m\u001b[43m,\u001b[49m\n\u001b[1;32m   3789\u001b[0m \u001b[43m\u001b[49m\u001b[43m)\u001b[49m\n",
      "File \u001b[0;32m~.local/lib/python3.8/site-packages/pandas/io/formats/format.py:1186\u001b[0m, in \u001b[0;36mDataFrameRenderer.to_csv\u001b[0;34m(self, path_or_buf, encoding, sep, columns, index_label, mode, compression, quoting, quotechar, lineterminator, chunksize, date_format, doublequote, escapechar, errors, storage_options)\u001b[0m\n\u001b[1;32m   1165\u001b[0m     created_buffer \u001b[38;5;241m=\u001b[39m \u001b[38;5;28;01mFalse\u001b[39;00m\n\u001b[1;32m   1167\u001b[0m csv_formatter \u001b[38;5;241m=\u001b[39m CSVFormatter(\n\u001b[1;32m   1168\u001b[0m     path_or_buf\u001b[38;5;241m=\u001b[39mpath_or_buf,\n\u001b[1;32m   1169\u001b[0m     lineterminator\u001b[38;5;241m=\u001b[39mlineterminator,\n\u001b[0;32m   (...)\u001b[0m\n\u001b[1;32m   1184\u001b[0m     formatter\u001b[38;5;241m=\u001b[39m\u001b[38;5;28mself\u001b[39m\u001b[38;5;241m.\u001b[39mfmt,\n\u001b[1;32m   1185\u001b[0m )\n\u001b[0;32m-> 1186\u001b[0m \u001b[43mcsv_formatter\u001b[49m\u001b[38;5;241;43m.\u001b[39;49m\u001b[43msave\u001b[49m\u001b[43m(\u001b[49m\u001b[43m)\u001b[49m\n\u001b[1;32m   1188\u001b[0m \u001b[38;5;28;01mif\u001b[39;00m created_buffer:\n\u001b[1;32m   1189\u001b[0m     \u001b[38;5;28;01massert\u001b[39;00m \u001b[38;5;28misinstance\u001b[39m(path_or_buf, StringIO)\n",
      "File \u001b[0;32m~.local/lib/python3.8/site-packages/pandas/io/formats/csvs.py:240\u001b[0m, in \u001b[0;36mCSVFormatter.save\u001b[0;34m(self)\u001b[0m\n\u001b[1;32m    236\u001b[0m \u001b[38;5;124;03m\"\"\"\u001b[39;00m\n\u001b[1;32m    237\u001b[0m \u001b[38;5;124;03mCreate the writer & save.\u001b[39;00m\n\u001b[1;32m    238\u001b[0m \u001b[38;5;124;03m\"\"\"\u001b[39;00m\n\u001b[1;32m    239\u001b[0m \u001b[38;5;66;03m# apply compression and byte/text conversion\u001b[39;00m\n\u001b[0;32m--> 240\u001b[0m \u001b[38;5;28;01mwith\u001b[39;00m \u001b[43mget_handle\u001b[49m\u001b[43m(\u001b[49m\n\u001b[1;32m    241\u001b[0m \u001b[43m    \u001b[49m\u001b[38;5;28;43mself\u001b[39;49m\u001b[38;5;241;43m.\u001b[39;49m\u001b[43mfilepath_or_buffer\u001b[49m\u001b[43m,\u001b[49m\n\u001b[1;32m    242\u001b[0m \u001b[43m    \u001b[49m\u001b[38;5;28;43mself\u001b[39;49m\u001b[38;5;241;43m.\u001b[39;49m\u001b[43mmode\u001b[49m\u001b[43m,\u001b[49m\n\u001b[1;32m    243\u001b[0m \u001b[43m    \u001b[49m\u001b[43mencoding\u001b[49m\u001b[38;5;241;43m=\u001b[39;49m\u001b[38;5;28;43mself\u001b[39;49m\u001b[38;5;241;43m.\u001b[39;49m\u001b[43mencoding\u001b[49m\u001b[43m,\u001b[49m\n\u001b[1;32m    244\u001b[0m \u001b[43m    \u001b[49m\u001b[43merrors\u001b[49m\u001b[38;5;241;43m=\u001b[39;49m\u001b[38;5;28;43mself\u001b[39;49m\u001b[38;5;241;43m.\u001b[39;49m\u001b[43merrors\u001b[49m\u001b[43m,\u001b[49m\n\u001b[1;32m    245\u001b[0m \u001b[43m    \u001b[49m\u001b[43mcompression\u001b[49m\u001b[38;5;241;43m=\u001b[39;49m\u001b[38;5;28;43mself\u001b[39;49m\u001b[38;5;241;43m.\u001b[39;49m\u001b[43mcompression\u001b[49m\u001b[43m,\u001b[49m\n\u001b[1;32m    246\u001b[0m \u001b[43m    \u001b[49m\u001b[43mstorage_options\u001b[49m\u001b[38;5;241;43m=\u001b[39;49m\u001b[38;5;28;43mself\u001b[39;49m\u001b[38;5;241;43m.\u001b[39;49m\u001b[43mstorage_options\u001b[49m\u001b[43m,\u001b[49m\n\u001b[1;32m    247\u001b[0m \u001b[43m\u001b[49m\u001b[43m)\u001b[49m \u001b[38;5;28;01mas\u001b[39;00m handles:\n\u001b[1;32m    248\u001b[0m     \u001b[38;5;66;03m# Note: self.encoding is irrelevant here\u001b[39;00m\n\u001b[1;32m    249\u001b[0m     \u001b[38;5;28mself\u001b[39m\u001b[38;5;241m.\u001b[39mwriter \u001b[38;5;241m=\u001b[39m csvlib\u001b[38;5;241m.\u001b[39mwriter(\n\u001b[1;32m    250\u001b[0m         handles\u001b[38;5;241m.\u001b[39mhandle,\n\u001b[1;32m    251\u001b[0m         lineterminator\u001b[38;5;241m=\u001b[39m\u001b[38;5;28mself\u001b[39m\u001b[38;5;241m.\u001b[39mlineterminator,\n\u001b[0;32m   (...)\u001b[0m\n\u001b[1;32m    256\u001b[0m         quotechar\u001b[38;5;241m=\u001b[39m\u001b[38;5;28mself\u001b[39m\u001b[38;5;241m.\u001b[39mquotechar,\n\u001b[1;32m    257\u001b[0m     )\n\u001b[1;32m    259\u001b[0m     \u001b[38;5;28mself\u001b[39m\u001b[38;5;241m.\u001b[39m_save()\n",
      "File \u001b[0;32m~.local/lib/python3.8/site-packages/pandas/io/common.py:737\u001b[0m, in \u001b[0;36mget_handle\u001b[0;34m(path_or_buf, mode, encoding, compression, memory_map, is_text, errors, storage_options)\u001b[0m\n\u001b[1;32m    735\u001b[0m \u001b[38;5;66;03m# Only for write methods\u001b[39;00m\n\u001b[1;32m    736\u001b[0m \u001b[38;5;28;01mif\u001b[39;00m \u001b[38;5;124m\"\u001b[39m\u001b[38;5;124mr\u001b[39m\u001b[38;5;124m\"\u001b[39m \u001b[38;5;129;01mnot\u001b[39;00m \u001b[38;5;129;01min\u001b[39;00m mode \u001b[38;5;129;01mand\u001b[39;00m is_path:\n\u001b[0;32m--> 737\u001b[0m     \u001b[43mcheck_parent_directory\u001b[49m\u001b[43m(\u001b[49m\u001b[38;5;28;43mstr\u001b[39;49m\u001b[43m(\u001b[49m\u001b[43mhandle\u001b[49m\u001b[43m)\u001b[49m\u001b[43m)\u001b[49m\n\u001b[1;32m    739\u001b[0m \u001b[38;5;28;01mif\u001b[39;00m compression:\n\u001b[1;32m    740\u001b[0m     \u001b[38;5;28;01mif\u001b[39;00m compression \u001b[38;5;241m!=\u001b[39m \u001b[38;5;124m\"\u001b[39m\u001b[38;5;124mzstd\u001b[39m\u001b[38;5;124m\"\u001b[39m:\n\u001b[1;32m    741\u001b[0m         \u001b[38;5;66;03m# compression libraries do not like an explicit text-mode\u001b[39;00m\n",
      "File \u001b[0;32m~.local/lib/python3.8/site-packages/pandas/io/common.py:600\u001b[0m, in \u001b[0;36mcheck_parent_directory\u001b[0;34m(path)\u001b[0m\n\u001b[1;32m    598\u001b[0m parent \u001b[38;5;241m=\u001b[39m Path(path)\u001b[38;5;241m.\u001b[39mparent\n\u001b[1;32m    599\u001b[0m \u001b[38;5;28;01mif\u001b[39;00m \u001b[38;5;129;01mnot\u001b[39;00m parent\u001b[38;5;241m.\u001b[39mis_dir():\n\u001b[0;32m--> 600\u001b[0m     \u001b[38;5;28;01mraise\u001b[39;00m \u001b[38;5;167;01mOSError\u001b[39;00m(\u001b[38;5;124mrf\u001b[39m\u001b[38;5;124m\"\u001b[39m\u001b[38;5;124mCannot save file into a non-existent directory: \u001b[39m\u001b[38;5;124m'\u001b[39m\u001b[38;5;132;01m{\u001b[39;00mparent\u001b[38;5;132;01m}\u001b[39;00m\u001b[38;5;124m'\u001b[39m\u001b[38;5;124m\"\u001b[39m)\n",
      "\u001b[0;31mOSError\u001b[0m: Cannot save file into a non-existent directory: '/workspace/workspace/ufo-prediction/demo'"
     ]
    }
   ],
   "source": [
    "device = torch.device(\"cuda\" if torch.cuda.is_available() else \"cpu\")\n",
    "\n",
    "all_data = pd.DataFrame()\n",
    "\n",
    "# Best Parameters\n",
    "batch_size = 32\n",
    "learning_rate = 0.00025\n",
    "weight_decay = 0.005\n",
    "\n",
    "# Initialize the model\n",
    "model = models.resnet18(pretrained=True)\n",
    "\n",
    "# Freeze all layers first\n",
    "for param in model.parameters():\n",
    "    param.requires_grad = False\n",
    "\n",
    "# Replace the last fully connected layer to adapt to the number of classes (7 in this case)\n",
    "num_classes = 7\n",
    "num_ftrs = model.fc.in_features\n",
    "model.fc = nn.Linear(num_ftrs, num_classes)\n",
    "\n",
    "# Unfreeze the final two layer so it can learn during training\n",
    "for param in model.layer4.parameters():\n",
    "    param.requires_grad = True\n",
    "for param in model.fc.parameters():\n",
    "    param.requires_grad = True\n",
    "\n",
    "\n",
    "model = model.to(device)\n",
    "print(model)\n",
    "\n",
    "# Setup DataLoaders\n",
    "train_loader = DataLoader(train_dataset, batch_size=batch_size, shuffle=True)\n",
    "val_loader = DataLoader(val_dataset, batch_size=batch_size, shuffle=False)\n",
    "\n",
    "# Setup optimizer, criterion, and scheduler\n",
    "optimizer = Adam(filter(lambda p: p.requires_grad, model.parameters()), lr=learning_rate, weight_decay=weight_decay)\n",
    "criterion = nn.CrossEntropyLoss()\n",
    "scheduler = ReduceLROnPlateau(optimizer, 'min', factor=0.25, patience=2, verbose=True)\n",
    "\n",
    "  # Prepare config details for data recording\n",
    "config_details = {\n",
    "    'batch_size': batch_size,\n",
    "    'learning_rate': learning_rate,\n",
    "    'weight_decay': weight_decay\n",
    "    }\n",
    "\n",
    "# Train the model\n",
    "best_val_loss, data_df = train_and_evaluate_val_loss(model, train_loader, val_loader, optimizer, criterion, scheduler, num_epochs=25, patience=6, config_details=config_details)\n",
    "# Append results to the master DataFrame\n",
    "all_data = pd.concat([all_data, data_df], ignore_index=True)\n",
    "# Save the complete data to CSV\n",
    "all_data.to_csv('/workspace/workspace/ufo-prediction/main notebooks/training_main.csv', index=False)\n",
    "print(\"Best Validation Loss:\", best_val_loss)"
   ]
  },
  {
   "cell_type": "markdown",
   "metadata": {},
   "source": [
    "## 4. Prepare the Test DataLoader"
   ]
  },
  {
   "cell_type": "code",
   "execution_count": 15,
   "metadata": {},
   "outputs": [],
   "source": [
    "directory = Path('/workspace/workspace/ufo-prediction/image_data')\n",
    "\n",
    "filepaths = pd.Series(list(directory.glob(r'**/*.jpg')), name='Filepath').astype(str)\n",
    "age_brackets = pd.Series(filepaths.apply(lambda x: extract_age_and_name(x)), name='Age Brackets')\n",
    "building_ids = pd.Series(filepaths.apply(extract_building_id), name='Building ID')\n",
    "\n",
    "filtered_indices = age_brackets != 'Unknown'\n",
    "filtered_age_brackets = age_brackets[filtered_indices]\n",
    "filtered_filepaths = filepaths[filtered_indices]\n",
    "filtered_building_ids = building_ids[filtered_indices]\n",
    "\n",
    "\n",
    "test_df = pd.concat([filtered_filepaths, filtered_age_brackets, filtered_building_ids], axis=1)\n",
    "test_df = test_df.sample(frac=1.0, random_state=1).reset_index(drop=True)\n",
    "test_df['Target'] = test_df['Age Brackets'].map(age_bracket_to_int)"
   ]
  },
  {
   "cell_type": "code",
   "execution_count": 16,
   "metadata": {},
   "outputs": [
    {
     "name": "stdout",
     "output_type": "stream",
     "text": [
      "477\n",
      "1181\n"
     ]
    }
   ],
   "source": [
    "from numpy import unique\n",
    "building_ids = [extract_building_id(path) for path in filtered_filepaths]\n",
    "print(len(unique(building_ids)))\n",
    "print(len(test_df))"
   ]
  },
  {
   "cell_type": "code",
   "execution_count": 17,
   "metadata": {},
   "outputs": [],
   "source": [
    "test_dataset = AgeBracketDataset(test_df, transform=val_test_transforms)\n",
    "test_loader = DataLoader(test_dataset, batch_size=32, shuffle=True)"
   ]
  },
  {
   "cell_type": "code",
   "execution_count": 18,
   "metadata": {},
   "outputs": [
    {
     "name": "stdout",
     "output_type": "stream",
     "text": [
      "          Metric  Actual Model  Random Model\n",
      "0       Accuracy        0.2151        0.2295\n",
      "1      Precision        0.3726        0.2270\n",
      "2         Recall        0.2151        0.2295\n",
      "3       F1-Score        0.2222        0.2279\n",
      "4            MCC        0.1019        0.0025\n",
      "5  Cohen's Kappa        0.0936        0.0025\n"
     ]
    },
    {
     "data": {
      "image/png": "[encoded data removed]",
      "text/plain": [
       "<Figure size 1455x550 with 4 Axes>"
      ]
     },
     "metadata": {},
     "output_type": "display_data"
    }
   ],
   "source": [
    "# Evaluate the actual model\n",
    "model.eval()\n",
    "true_classes = []\n",
    "predicted_classes = []\n",
    "\n",
    "with torch.no_grad():\n",
    "    for inputs, labels in test_loader:\n",
    "        inputs, labels = inputs.to(device), labels.to(device)\n",
    "        outputs = model(inputs)\n",
    "        _, predicted = torch.max(outputs, 1)\n",
    "        true_classes.extend(labels.cpu().numpy())\n",
    "        predicted_classes.extend(predicted.cpu().numpy())\n",
    "\n",
    "true_classes = np.array(true_classes)\n",
    "predicted_classes = np.array(predicted_classes)\n",
    "\n",
    "# Generate random predictions\n",
    "random_predictions = np.random.choice(np.unique(true_classes), size=len(true_classes), p=np.bincount(true_classes)/len(true_classes))\n",
    "\n",
    "# Compute metrics for the actual model\n",
    "accuracy = accuracy_score(true_classes, predicted_classes)\n",
    "precision, recall, f1, _ = precision_recall_fscore_support(true_classes, predicted_classes, average='weighted')\n",
    "mcc = matthews_corrcoef(true_classes, predicted_classes)\n",
    "cohen_kappa = cohen_kappa_score(true_classes, predicted_classes)\n",
    "\n",
    "# Compute metrics for the random model\n",
    "rand_accuracy = accuracy_score(true_classes, random_predictions)\n",
    "rand_precision, rand_recall, rand_f1, _ = precision_recall_fscore_support(true_classes, random_predictions, average='weighted')\n",
    "rand_mcc = matthews_corrcoef(true_classes, random_predictions)\n",
    "rand_cohen_kappa = cohen_kappa_score(true_classes, random_predictions)\n",
    "\n",
    "# Compute the confusion matrices\n",
    "# cm = confusion_matrix(true_classes, predicted_classes)\n",
    "# rand_cm = confusion_matrix(true_classes, random_predictions)\n",
    "\n",
    "# Create a DataFrame to hold the metrics for easier comparison\n",
    "metrics_df = pd.DataFrame({\n",
    "    'Metric': ['Accuracy', 'Precision', 'Recall', 'F1-Score', 'MCC', 'Cohen\\'s Kappa'],\n",
    "    'Actual Model': [np.round(accuracy, 4), np.round(precision, 4), np.round(recall, 4), np.round(f1, 4), np.round(mcc, 4), np.round(cohen_kappa, 4)],\n",
    "    'Random Model': [np.round(rand_accuracy, 4), np.round(rand_precision, 4), np.round(rand_recall, 4), np.round(rand_f1, 4), np.round(rand_mcc, 4), np.round(rand_cohen_kappa, 4)]\n",
    "})\n",
    "\n",
    "# Display the DataFrame\n",
    "print(metrics_df)\n",
    "\n",
    "\n",
    "labels=['1900-1944', '1945-1969', '1970-1979', '1980-1989', '1990-1999', '2000-2009', '2010-2050']\n",
    "_, axis = plt.subplots(nrows=1, ncols=2, figsize=(14.55, 5.5), constrained_layout=True)\n",
    "visualizations.plot_confusion_matrix_manual(true_classes,predicted_classes, class_labels=labels, vmax=0.75, title=\"Model predictions\", ax=axis[0])\n",
    "visualizations.plot_confusion_matrix_manual(true_classes,random_predictions, class_labels=labels, vmax=0.75, title=\"Random predictions\", ax=axis[1])\n",
    "plt.show()\n",
    "\n",
    "\n",
    "# # Determine the maximum value for normalization of the heatmap colors\n",
    "# vmax = max(np.max(cm), np.max(rand_cm))\n",
    "\n",
    "# # Plot the confusion matrices side by side\n",
    "# fig, axes = plt.subplots(nrows=1, ncols=2, figsize=(16, 8))\n",
    "\n",
    "# # Confusion Matrix for Actual Model\n",
    "# sns.heatmap(cm, annot=True, fmt='d', cmap='Blues', ax=axes[0], vmin=0, vmax=vmax,\n",
    "#             xticklabels=['1900-1944', '1945-1969', '1970-1979', '1980-1989', '1990-1999', '2000-2009', '2010-2050'],\n",
    "#             yticklabels=['1900-1944', '1945-1969', '1970-1979', '1980-1989', '1990-1999', '2000-2009', '2010-2050'])\n",
    "# axes[0].set_title('Confusion Matrix for Actual Model')\n",
    "# axes[0].set_xlabel('Predicted Age Brackets')\n",
    "# axes[0].set_ylabel('True Age Brackets')\n",
    "# axes[0].set_xticklabels(axes[0].get_xticklabels(), rotation=45)\n",
    "# axes[0].set_yticklabels(axes[0].get_yticklabels(), rotation=0)\n",
    "\n",
    "# # Confusion Matrix for Random Model\n",
    "# sns.heatmap(rand_cm, annot=True, fmt='d', cmap='Greens', ax=axes[1], vmin=0, vmax=vmax,\n",
    "#             xticklabels=['1900-1944', '1945-1969', '1970-1979', '1980-1989', '1990-1999', '2000-2009', '2010-2050'],\n",
    "#             yticklabels=['1900-1944', '1945-1969', '1970-1979', '1980-1989', '1990-1999', '2000-2009', '2010-2050'])\n",
    "# axes[1].set_title('Confusion Matrix for Random Model')\n",
    "# axes[1].set_xlabel('Randomly predicted Age Brackets')\n",
    "# axes[1].set_ylabel('True Age Brackets')\n",
    "# axes[1].set_xticklabels(axes[1].get_xticklabels(), rotation=45)\n",
    "# axes[1].set_yticklabels(axes[1].get_yticklabels(), rotation=0)\n",
    "\n",
    "# plt.tight_layout()  # Adjust layout to not overlap\n",
    "# plt.show()\n"
   ]
  },
  {
   "cell_type": "code",
   "execution_count": 22,
   "metadata": {},
   "outputs": [],
   "source": [
    "class CustomDataset(Dataset):\n",
    "    def __init__(self, dataframe, transform=None):\n",
    "        self.dataframe = dataframe\n",
    "        self.transform = transform\n",
    "\n",
    "    def __len__(self):\n",
    "        return len(self.dataframe)\n",
    "\n",
    "    def __getitem__(self, idx):\n",
    "        img_path = self.dataframe.iloc[idx, 0]\n",
    "        image = Image.open(img_path).convert('RGB')\n",
    "        if self.transform:\n",
    "            image = self.transform(image)\n",
    "        return image, img_path\n",
    "\n",
    "\n",
    "# Assuming test_df is your DataFrame\n",
    "test_dataset = CustomDataset(dataframe=test_df, transform=val_test_transforms )\n",
    "test_loader = DataLoader(test_dataset, batch_size=32, shuffle=False)\n"
   ]
  },
  {
   "cell_type": "markdown",
   "metadata": {},
   "source": [
    "# 5. Infer age brackets"
   ]
  },
  {
   "cell_type": "code",
   "execution_count": 23,
   "metadata": {},
   "outputs": [
    {
     "name": "stdout",
     "output_type": "stream",
     "text": [
      "    Class_0   Class_1   Class_2   Class_3   Class_4   Class_5   Class_6  \\\n",
      "0  0.060402  0.075681  0.070175  0.080897  0.344001  0.193068  0.175776   \n",
      "1  0.110962  0.220614  0.188039  0.217045  0.098922  0.081947  0.082470   \n",
      "2  0.407933  0.131536  0.052830  0.058332  0.132693  0.128398  0.088278   \n",
      "3  0.111821  0.096362  0.102588  0.170845  0.213496  0.139479  0.165409   \n",
      "4  0.301134  0.170613  0.098976  0.090666  0.110161  0.121091  0.107359   \n",
      "\n",
      "   Predicted Class                                           FilePath  \\\n",
      "0                4  /workspace/workspace/ufo-prediction/image_data...   \n",
      "1                1  /workspace/workspace/ufo-prediction/image_data...   \n",
      "2                0  /workspace/workspace/ufo-prediction/image_data...   \n",
      "3                4  /workspace/workspace/ufo-prediction/image_data...   \n",
      "4                0  /workspace/workspace/ufo-prediction/image_data...   \n",
      "\n",
      "                           id  \n",
      "0   v0.1-ESP.8.1.3.10_1-36845  \n",
      "1   v0.1-ESP.8.1.3.10_1-31985  \n",
      "2        v0.1-NLD.14.2_1-7026  \n",
      "3   v0.1-ESP.6.1.11.2_1-15980  \n",
      "4  v0.1-FRA.13.2.2.12_1-15253  \n"
     ]
    }
   ],
   "source": [
    "model.eval()  # Set the model to evaluation mode\n",
    "probabilities_list = []\n",
    "file_paths = []\n",
    "predictions = []\n",
    "\n",
    "with torch.no_grad():\n",
    "    for inputs, paths in test_loader:\n",
    "        inputs = inputs.to(device)\n",
    "        outputs = model(inputs)\n",
    "        probabilities = F.softmax(outputs, dim=1)  # Apply softmax to convert logits to probabilities\n",
    "        _, predicted = torch.max(outputs, 1)\n",
    "        predictions.extend(predicted.cpu().numpy())\n",
    "        probabilities_list.extend(probabilities.cpu().numpy())  # Store probabilities\n",
    "        file_paths.extend(paths)\n",
    "\n",
    "# Assuming there are 6 classes, adjust the labels if different\n",
    "class_labels = [f'Class_{i}' for i in range(probabilities.shape[1])]  # Adjust based on the softmax output size\n",
    "predictions_df = pd.DataFrame(probabilities_list, columns=class_labels)\n",
    "predictions_df['Predicted Class'] = predictions\n",
    "predictions_df['FilePath'] = file_paths  # Add the file paths as a column in the DataFrame\n",
    "# Extract building IDs and add them as a new column\n",
    "predictions_df['id'] = predictions_df['FilePath'].apply(extract_building_id)\n",
    "\n",
    "print(predictions_df.head())  # Display the first few rows of the DataFrame to check the output\n"
   ]
  },
  {
   "cell_type": "markdown",
   "metadata": {},
   "source": [
    "# 6. Concatenate Building ID and use to merge to rca-ufo dataset"
   ]
  },
  {
   "cell_type": "code",
   "execution_count": 24,
   "metadata": {},
   "outputs": [
    {
     "name": "stdout",
     "output_type": "stream",
     "text": [
      "477\n",
      "1181\n"
     ]
    }
   ],
   "source": [
    "unique_ids = predictions_df['id'].unique()\n",
    "print(len(unique_ids))\n",
    "print(len(predictions_df))\n"
   ]
  },
  {
   "cell_type": "code",
   "execution_count": 25,
   "metadata": {},
   "outputs": [
    {
     "name": "stdout",
     "output_type": "stream",
     "text": [
      "                            id   Class_0   Class_1   Class_2   Class_3  \\\n",
      "0     v0.1-ESP.1.3.4.5_1-26243  0.260184  0.107336  0.091700  0.145673   \n",
      "1    v0.1-ESP.1.4.5.19_1-14679  0.193511  0.168075  0.117172  0.119507   \n",
      "2    v0.1-ESP.1.4.5.19_1-14713  0.431766  0.169956  0.095085  0.073235   \n",
      "3    v0.1-ESP.1.4.5.19_1-14739  0.094560  0.084240  0.083154  0.114571   \n",
      "4    v0.1-ESP.1.4.5.19_1-15495  0.318218  0.132071  0.064602  0.078518   \n",
      "..                         ...       ...       ...       ...       ...   \n",
      "472       v0.1-NLD.9.4_1-91712  0.035624  0.037285  0.055877  0.076212   \n",
      "473       v0.1-NLD.9.4_1-95511  0.210688  0.293849  0.147470  0.090893   \n",
      "474       v0.1-NLD.9.4_1-95860  0.102545  0.136772  0.192716  0.157591   \n",
      "475       v0.1-NLD.9.4_1-96708  0.222673  0.384891  0.096119  0.048537   \n",
      "476      v0.1-NLD.9.62_1-12465  0.081955  0.119686  0.109409  0.099602   \n",
      "\n",
      "      Class_4   Class_5   Class_6  Predicted Class  \n",
      "0    0.181814  0.110987  0.102306                0  \n",
      "1    0.141423  0.125961  0.134351                0  \n",
      "2    0.076242  0.078468  0.075247                0  \n",
      "3    0.260695  0.161594  0.201185                4  \n",
      "4    0.152954  0.136499  0.117138                0  \n",
      "..        ...       ...       ...              ...  \n",
      "472  0.183355  0.170503  0.441144                6  \n",
      "473  0.085828  0.103686  0.067586                1  \n",
      "474  0.161138  0.119327  0.129912                2  \n",
      "475  0.088714  0.077266  0.081800                1  \n",
      "476  0.184545  0.174975  0.229827                6  \n",
      "\n",
      "[477 rows x 9 columns]\n"
     ]
    }
   ],
   "source": [
    "# Calculate the sum of the probabilities for each class across all images for each building\n",
    "sum_probs = predictions_df.groupby('id')[['Class_0', 'Class_1', 'Class_2', 'Class_3', 'Class_4', 'Class_5', 'Class_6']].sum()\n",
    "\n",
    "# Normalize these sums so that the sum across all classes for each building equals 1\n",
    "sum_probs_normalized = sum_probs.div(sum_probs.sum(axis=1), axis=0)\n",
    "\n",
    "# Determine the predicted class for each building based on maximum confidence\n",
    "# First, find the maximum probability for each class per building\n",
    "max_conf_probs = predictions_df.groupby('id')[['Class_0', 'Class_1', 'Class_2', 'Class_3', 'Class_4', 'Class_5', 'Class_6']].max()\n",
    "\n",
    "# Predicted class is the one with the highest maximum probability\n",
    "max_conf_probs['Predicted Class'] = max_conf_probs.idxmax(axis=1).str.extract('(\\d+)').astype(int)\n",
    "\n",
    "# Now, get the first file path for each building as a representative path\n",
    "# This assumes that the 'FilePath' was a column in predictions_df; if not, this line will fail\n",
    "representative_file_paths = predictions_df.groupby('id')['FilePath'].first()\n",
    "\n",
    "sum_probs_normalized.reset_index(inplace=True)\n",
    "max_conf_probs.reset_index(inplace=True)\n",
    "\n",
    "\n",
    "# Create the final DataFrame to have the normalized sums and the maximum confidence predicted class\n",
    "final_results = pd.merge(sum_probs_normalized, max_conf_probs[['id', 'Predicted Class']], on='id', how='left')\n",
    "\n",
    "print(final_results)\n"
   ]
  },
  {
   "cell_type": "code",
   "execution_count": 26,
   "metadata": {},
   "outputs": [],
   "source": [
    "path_data_RCA = os.path.join(dataset.DATA_DIR, 'rca-ufo-merge_ALL.csv')\n",
    "df = pd.read_csv(path_data_RCA, encoding='latin1')"
   ]
  },
  {
   "cell_type": "code",
   "execution_count": 27,
   "metadata": {},
   "outputs": [
    {
     "name": "stdout",
     "output_type": "stream",
     "text": [
      "6141\n"
     ]
    }
   ],
   "source": [
    "print(len(df))"
   ]
  },
  {
   "cell_type": "code",
   "execution_count": 28,
   "metadata": {},
   "outputs": [
    {
     "data": {
      "text/html": [
       "<div>\n",
       "<style scoped>\n",
       "    .dataframe tbody tr th:only-of-type {\n",
       "        vertical-align: middle;\n",
       "    }\n",
       "\n",
       "    .dataframe tbody tr th {\n",
       "        vertical-align: top;\n",
       "    }\n",
       "\n",
       "    .dataframe thead th {\n",
       "        text-align: right;\n",
       "    }\n",
       "</style>\n",
       "<table border=\"1\" class=\"dataframe\">\n",
       "  <thead>\n",
       "    <tr style=\"text-align: right;\">\n",
       "      <th></th>\n",
       "      <th>id</th>\n",
       "      <th>Class_0</th>\n",
       "      <th>Class_1</th>\n",
       "      <th>Class_2</th>\n",
       "      <th>Class_3</th>\n",
       "      <th>Class_4</th>\n",
       "      <th>Class_5</th>\n",
       "      <th>Class_6</th>\n",
       "      <th>Predicted Class</th>\n",
       "    </tr>\n",
       "  </thead>\n",
       "  <tbody>\n",
       "    <tr>\n",
       "      <th>0</th>\n",
       "      <td>v0.1-ESP.1.3.4.5_1-26243</td>\n",
       "      <td>0.260184</td>\n",
       "      <td>0.107336</td>\n",
       "      <td>0.091700</td>\n",
       "      <td>0.145673</td>\n",
       "      <td>0.181814</td>\n",
       "      <td>0.110987</td>\n",
       "      <td>0.102306</td>\n",
       "      <td>0</td>\n",
       "    </tr>\n",
       "    <tr>\n",
       "      <th>1</th>\n",
       "      <td>v0.1-ESP.1.4.5.19_1-14679</td>\n",
       "      <td>0.193511</td>\n",
       "      <td>0.168075</td>\n",
       "      <td>0.117172</td>\n",
       "      <td>0.119507</td>\n",
       "      <td>0.141423</td>\n",
       "      <td>0.125961</td>\n",
       "      <td>0.134351</td>\n",
       "      <td>0</td>\n",
       "    </tr>\n",
       "    <tr>\n",
       "      <th>2</th>\n",
       "      <td>v0.1-ESP.1.4.5.19_1-14713</td>\n",
       "      <td>0.431766</td>\n",
       "      <td>0.169956</td>\n",
       "      <td>0.095085</td>\n",
       "      <td>0.073235</td>\n",
       "      <td>0.076242</td>\n",
       "      <td>0.078468</td>\n",
       "      <td>0.075247</td>\n",
       "      <td>0</td>\n",
       "    </tr>\n",
       "    <tr>\n",
       "      <th>3</th>\n",
       "      <td>v0.1-ESP.1.4.5.19_1-14739</td>\n",
       "      <td>0.094560</td>\n",
       "      <td>0.084240</td>\n",
       "      <td>0.083154</td>\n",
       "      <td>0.114571</td>\n",
       "      <td>0.260695</td>\n",
       "      <td>0.161594</td>\n",
       "      <td>0.201185</td>\n",
       "      <td>4</td>\n",
       "    </tr>\n",
       "    <tr>\n",
       "      <th>4</th>\n",
       "      <td>v0.1-ESP.1.4.5.19_1-15495</td>\n",
       "      <td>0.318218</td>\n",
       "      <td>0.132071</td>\n",
       "      <td>0.064602</td>\n",
       "      <td>0.078518</td>\n",
       "      <td>0.152954</td>\n",
       "      <td>0.136499</td>\n",
       "      <td>0.117138</td>\n",
       "      <td>0</td>\n",
       "    </tr>\n",
       "    <tr>\n",
       "      <th>...</th>\n",
       "      <td>...</td>\n",
       "      <td>...</td>\n",
       "      <td>...</td>\n",
       "      <td>...</td>\n",
       "      <td>...</td>\n",
       "      <td>...</td>\n",
       "      <td>...</td>\n",
       "      <td>...</td>\n",
       "      <td>...</td>\n",
       "    </tr>\n",
       "    <tr>\n",
       "      <th>472</th>\n",
       "      <td>v0.1-NLD.9.4_1-91712</td>\n",
       "      <td>0.035624</td>\n",
       "      <td>0.037285</td>\n",
       "      <td>0.055877</td>\n",
       "      <td>0.076212</td>\n",
       "      <td>0.183355</td>\n",
       "      <td>0.170503</td>\n",
       "      <td>0.441144</td>\n",
       "      <td>6</td>\n",
       "    </tr>\n",
       "    <tr>\n",
       "      <th>473</th>\n",
       "      <td>v0.1-NLD.9.4_1-95511</td>\n",
       "      <td>0.210688</td>\n",
       "      <td>0.293849</td>\n",
       "      <td>0.147470</td>\n",
       "      <td>0.090893</td>\n",
       "      <td>0.085828</td>\n",
       "      <td>0.103686</td>\n",
       "      <td>0.067586</td>\n",
       "      <td>1</td>\n",
       "    </tr>\n",
       "    <tr>\n",
       "      <th>474</th>\n",
       "      <td>v0.1-NLD.9.4_1-95860</td>\n",
       "      <td>0.102545</td>\n",
       "      <td>0.136772</td>\n",
       "      <td>0.192716</td>\n",
       "      <td>0.157591</td>\n",
       "      <td>0.161138</td>\n",
       "      <td>0.119327</td>\n",
       "      <td>0.129912</td>\n",
       "      <td>2</td>\n",
       "    </tr>\n",
       "    <tr>\n",
       "      <th>475</th>\n",
       "      <td>v0.1-NLD.9.4_1-96708</td>\n",
       "      <td>0.222673</td>\n",
       "      <td>0.384891</td>\n",
       "      <td>0.096119</td>\n",
       "      <td>0.048537</td>\n",
       "      <td>0.088714</td>\n",
       "      <td>0.077266</td>\n",
       "      <td>0.081800</td>\n",
       "      <td>1</td>\n",
       "    </tr>\n",
       "    <tr>\n",
       "      <th>476</th>\n",
       "      <td>v0.1-NLD.9.62_1-12465</td>\n",
       "      <td>0.081955</td>\n",
       "      <td>0.119686</td>\n",
       "      <td>0.109409</td>\n",
       "      <td>0.099602</td>\n",
       "      <td>0.184545</td>\n",
       "      <td>0.174975</td>\n",
       "      <td>0.229827</td>\n",
       "      <td>6</td>\n",
       "    </tr>\n",
       "  </tbody>\n",
       "</table>\n",
       "<p>477 rows × 9 columns</p>\n",
       "</div>"
      ],
      "text/plain": [
       "                            id   Class_0   Class_1   Class_2   Class_3  \\\n",
       "0     v0.1-ESP.1.3.4.5_1-26243  0.260184  0.107336  0.091700  0.145673   \n",
       "1    v0.1-ESP.1.4.5.19_1-14679  0.193511  0.168075  0.117172  0.119507   \n",
       "2    v0.1-ESP.1.4.5.19_1-14713  0.431766  0.169956  0.095085  0.073235   \n",
       "3    v0.1-ESP.1.4.5.19_1-14739  0.094560  0.084240  0.083154  0.114571   \n",
       "4    v0.1-ESP.1.4.5.19_1-15495  0.318218  0.132071  0.064602  0.078518   \n",
       "..                         ...       ...       ...       ...       ...   \n",
       "472       v0.1-NLD.9.4_1-91712  0.035624  0.037285  0.055877  0.076212   \n",
       "473       v0.1-NLD.9.4_1-95511  0.210688  0.293849  0.147470  0.090893   \n",
       "474       v0.1-NLD.9.4_1-95860  0.102545  0.136772  0.192716  0.157591   \n",
       "475       v0.1-NLD.9.4_1-96708  0.222673  0.384891  0.096119  0.048537   \n",
       "476      v0.1-NLD.9.62_1-12465  0.081955  0.119686  0.109409  0.099602   \n",
       "\n",
       "      Class_4   Class_5   Class_6  Predicted Class  \n",
       "0    0.181814  0.110987  0.102306                0  \n",
       "1    0.141423  0.125961  0.134351                0  \n",
       "2    0.076242  0.078468  0.075247                0  \n",
       "3    0.260695  0.161594  0.201185                4  \n",
       "4    0.152954  0.136499  0.117138                0  \n",
       "..        ...       ...       ...              ...  \n",
       "472  0.183355  0.170503  0.441144                6  \n",
       "473  0.085828  0.103686  0.067586                1  \n",
       "474  0.161138  0.119327  0.129912                2  \n",
       "475  0.088714  0.077266  0.081800                1  \n",
       "476  0.184545  0.174975  0.229827                6  \n",
       "\n",
       "[477 rows x 9 columns]"
      ]
     },
     "execution_count": 28,
     "metadata": {},
     "output_type": "execute_result"
    }
   ],
   "source": [
    "final_results"
   ]
  },
  {
   "cell_type": "code",
   "execution_count": 29,
   "metadata": {},
   "outputs": [],
   "source": [
    "main_df = pd.merge(df, final_results, on='id', how='left', indicator=True)"
   ]
  },
  {
   "cell_type": "code",
   "execution_count": 30,
   "metadata": {},
   "outputs": [
    {
     "name": "stdout",
     "output_type": "stream",
     "text": [
      "_merge\n",
      "left_only     5644\n",
      "both           497\n",
      "right_only       0\n",
      "Name: count, dtype: int64\n"
     ]
    }
   ],
   "source": [
    "# Counting how many rows fall into each merge category\n",
    "merge_counts = main_df['_merge'].value_counts()\n",
    "\n",
    "print(merge_counts)"
   ]
  },
  {
   "cell_type": "code",
   "execution_count": 31,
   "metadata": {},
   "outputs": [
    {
     "data": {
      "text/html": [
       "<div>\n",
       "<style scoped>\n",
       "    .dataframe tbody tr th:only-of-type {\n",
       "        vertical-align: middle;\n",
       "    }\n",
       "\n",
       "    .dataframe tbody tr th {\n",
       "        vertical-align: top;\n",
       "    }\n",
       "\n",
       "    .dataframe thead th {\n",
       "        text-align: right;\n",
       "    }\n",
       "</style>\n",
       "<table border=\"1\" class=\"dataframe\">\n",
       "  <thead>\n",
       "    <tr style=\"text-align: right;\">\n",
       "      <th></th>\n",
       "      <th>Unnamed: 0</th>\n",
       "      <th>PropertyKey_ID</th>\n",
       "      <th>Deal_id</th>\n",
       "      <th>Property_id</th>\n",
       "      <th>Status_tx</th>\n",
       "      <th>Status_dt</th>\n",
       "      <th>TransType_tx</th>\n",
       "      <th>country</th>\n",
       "      <th>Main Type</th>\n",
       "      <th>SubType</th>\n",
       "      <th>...</th>\n",
       "      <th>BldLenProxy</th>\n",
       "      <th>Class_0</th>\n",
       "      <th>Class_1</th>\n",
       "      <th>Class_2</th>\n",
       "      <th>Class_3</th>\n",
       "      <th>Class_4</th>\n",
       "      <th>Class_5</th>\n",
       "      <th>Class_6</th>\n",
       "      <th>Predicted Class</th>\n",
       "      <th>_merge</th>\n",
       "    </tr>\n",
       "  </thead>\n",
       "  <tbody>\n",
       "    <tr>\n",
       "      <th>0</th>\n",
       "      <td>503</td>\n",
       "      <td>258966</td>\n",
       "      <td>499814</td>\n",
       "      <td>464167</td>\n",
       "      <td>closed</td>\n",
       "      <td>15/03/2008</td>\n",
       "      <td>Entity Level</td>\n",
       "      <td>Netherlands</td>\n",
       "      <td>Apartment</td>\n",
       "      <td>Garden</td>\n",
       "      <td>...</td>\n",
       "      <td>8.480678</td>\n",
       "      <td>NaN</td>\n",
       "      <td>NaN</td>\n",
       "      <td>NaN</td>\n",
       "      <td>NaN</td>\n",
       "      <td>NaN</td>\n",
       "      <td>NaN</td>\n",
       "      <td>NaN</td>\n",
       "      <td>NaN</td>\n",
       "      <td>left_only</td>\n",
       "    </tr>\n",
       "    <tr>\n",
       "      <th>1</th>\n",
       "      <td>511</td>\n",
       "      <td>259004</td>\n",
       "      <td>488808</td>\n",
       "      <td>451626</td>\n",
       "      <td>closed</td>\n",
       "      <td>22/01/2008</td>\n",
       "      <td>Sale</td>\n",
       "      <td>Netherlands</td>\n",
       "      <td>Dev Site</td>\n",
       "      <td>Dev Site</td>\n",
       "      <td>...</td>\n",
       "      <td>33.402783</td>\n",
       "      <td>NaN</td>\n",
       "      <td>NaN</td>\n",
       "      <td>NaN</td>\n",
       "      <td>NaN</td>\n",
       "      <td>NaN</td>\n",
       "      <td>NaN</td>\n",
       "      <td>NaN</td>\n",
       "      <td>NaN</td>\n",
       "      <td>left_only</td>\n",
       "    </tr>\n",
       "    <tr>\n",
       "      <th>2</th>\n",
       "      <td>512</td>\n",
       "      <td>259005</td>\n",
       "      <td>500721</td>\n",
       "      <td>465261</td>\n",
       "      <td>closed</td>\n",
       "      <td>15/03/2008</td>\n",
       "      <td>Sale</td>\n",
       "      <td>Netherlands</td>\n",
       "      <td>Dev Site</td>\n",
       "      <td>Dev Site</td>\n",
       "      <td>...</td>\n",
       "      <td>33.402783</td>\n",
       "      <td>NaN</td>\n",
       "      <td>NaN</td>\n",
       "      <td>NaN</td>\n",
       "      <td>NaN</td>\n",
       "      <td>NaN</td>\n",
       "      <td>NaN</td>\n",
       "      <td>NaN</td>\n",
       "      <td>NaN</td>\n",
       "      <td>left_only</td>\n",
       "    </tr>\n",
       "    <tr>\n",
       "      <th>3</th>\n",
       "      <td>513</td>\n",
       "      <td>259006</td>\n",
       "      <td>502381</td>\n",
       "      <td>467404</td>\n",
       "      <td>closed</td>\n",
       "      <td>09/02/2007</td>\n",
       "      <td>Sale</td>\n",
       "      <td>Netherlands</td>\n",
       "      <td>Office</td>\n",
       "      <td>Office - Sub</td>\n",
       "      <td>...</td>\n",
       "      <td>33.402783</td>\n",
       "      <td>NaN</td>\n",
       "      <td>NaN</td>\n",
       "      <td>NaN</td>\n",
       "      <td>NaN</td>\n",
       "      <td>NaN</td>\n",
       "      <td>NaN</td>\n",
       "      <td>NaN</td>\n",
       "      <td>NaN</td>\n",
       "      <td>left_only</td>\n",
       "    </tr>\n",
       "    <tr>\n",
       "      <th>4</th>\n",
       "      <td>514</td>\n",
       "      <td>259007</td>\n",
       "      <td>2309350</td>\n",
       "      <td>1997038</td>\n",
       "      <td>closed</td>\n",
       "      <td>28/03/2019</td>\n",
       "      <td>Sale</td>\n",
       "      <td>Netherlands</td>\n",
       "      <td>Office</td>\n",
       "      <td>Office - Sub</td>\n",
       "      <td>...</td>\n",
       "      <td>46.501498</td>\n",
       "      <td>0.055077</td>\n",
       "      <td>0.074929</td>\n",
       "      <td>0.223517</td>\n",
       "      <td>0.270844</td>\n",
       "      <td>0.138655</td>\n",
       "      <td>0.091719</td>\n",
       "      <td>0.145258</td>\n",
       "      <td>3.0</td>\n",
       "      <td>both</td>\n",
       "    </tr>\n",
       "    <tr>\n",
       "      <th>...</th>\n",
       "      <td>...</td>\n",
       "      <td>...</td>\n",
       "      <td>...</td>\n",
       "      <td>...</td>\n",
       "      <td>...</td>\n",
       "      <td>...</td>\n",
       "      <td>...</td>\n",
       "      <td>...</td>\n",
       "      <td>...</td>\n",
       "      <td>...</td>\n",
       "      <td>...</td>\n",
       "      <td>...</td>\n",
       "      <td>...</td>\n",
       "      <td>...</td>\n",
       "      <td>...</td>\n",
       "      <td>...</td>\n",
       "      <td>...</td>\n",
       "      <td>...</td>\n",
       "      <td>...</td>\n",
       "      <td>...</td>\n",
       "      <td>...</td>\n",
       "    </tr>\n",
       "    <tr>\n",
       "      <th>6136</th>\n",
       "      <td>83889</td>\n",
       "      <td>2385505</td>\n",
       "      <td>3729803</td>\n",
       "      <td>3717637</td>\n",
       "      <td>closed</td>\n",
       "      <td>29/03/2023</td>\n",
       "      <td>Sale</td>\n",
       "      <td>Spain</td>\n",
       "      <td>Industrial</td>\n",
       "      <td>Warehouse</td>\n",
       "      <td>...</td>\n",
       "      <td>56.329767</td>\n",
       "      <td>NaN</td>\n",
       "      <td>NaN</td>\n",
       "      <td>NaN</td>\n",
       "      <td>NaN</td>\n",
       "      <td>NaN</td>\n",
       "      <td>NaN</td>\n",
       "      <td>NaN</td>\n",
       "      <td>NaN</td>\n",
       "      <td>left_only</td>\n",
       "    </tr>\n",
       "    <tr>\n",
       "      <th>6137</th>\n",
       "      <td>83905</td>\n",
       "      <td>2386951</td>\n",
       "      <td>3732279</td>\n",
       "      <td>3720303</td>\n",
       "      <td>closed</td>\n",
       "      <td>30/03/2023</td>\n",
       "      <td>Sale</td>\n",
       "      <td>Spain</td>\n",
       "      <td>Office</td>\n",
       "      <td>Office - Sub</td>\n",
       "      <td>...</td>\n",
       "      <td>50.229888</td>\n",
       "      <td>NaN</td>\n",
       "      <td>NaN</td>\n",
       "      <td>NaN</td>\n",
       "      <td>NaN</td>\n",
       "      <td>NaN</td>\n",
       "      <td>NaN</td>\n",
       "      <td>NaN</td>\n",
       "      <td>NaN</td>\n",
       "      <td>left_only</td>\n",
       "    </tr>\n",
       "    <tr>\n",
       "      <th>6138</th>\n",
       "      <td>83908</td>\n",
       "      <td>2387013</td>\n",
       "      <td>3732377</td>\n",
       "      <td>3720401</td>\n",
       "      <td>closed</td>\n",
       "      <td>31/03/2023</td>\n",
       "      <td>Sale</td>\n",
       "      <td>Spain</td>\n",
       "      <td>Seniors Housing &amp; Care</td>\n",
       "      <td>Seniors Housing</td>\n",
       "      <td>...</td>\n",
       "      <td>34.945676</td>\n",
       "      <td>0.142200</td>\n",
       "      <td>0.152084</td>\n",
       "      <td>0.122710</td>\n",
       "      <td>0.195768</td>\n",
       "      <td>0.161963</td>\n",
       "      <td>0.123117</td>\n",
       "      <td>0.102158</td>\n",
       "      <td>3.0</td>\n",
       "      <td>both</td>\n",
       "    </tr>\n",
       "    <tr>\n",
       "      <th>6139</th>\n",
       "      <td>84167</td>\n",
       "      <td>2403285</td>\n",
       "      <td>3758153</td>\n",
       "      <td>3747999</td>\n",
       "      <td>closed</td>\n",
       "      <td>20/04/2023</td>\n",
       "      <td>Sale</td>\n",
       "      <td>Spain</td>\n",
       "      <td>Hotel</td>\n",
       "      <td>Limited Service</td>\n",
       "      <td>...</td>\n",
       "      <td>24.292422</td>\n",
       "      <td>0.157876</td>\n",
       "      <td>0.130737</td>\n",
       "      <td>0.097879</td>\n",
       "      <td>0.149904</td>\n",
       "      <td>0.227711</td>\n",
       "      <td>0.130232</td>\n",
       "      <td>0.105661</td>\n",
       "      <td>4.0</td>\n",
       "      <td>both</td>\n",
       "    </tr>\n",
       "    <tr>\n",
       "      <th>6140</th>\n",
       "      <td>84168</td>\n",
       "      <td>2403291</td>\n",
       "      <td>3758153</td>\n",
       "      <td>3748005</td>\n",
       "      <td>closed</td>\n",
       "      <td>20/04/2023</td>\n",
       "      <td>Sale</td>\n",
       "      <td>Spain</td>\n",
       "      <td>Hotel</td>\n",
       "      <td>Full-Service</td>\n",
       "      <td>...</td>\n",
       "      <td>17.366615</td>\n",
       "      <td>0.153813</td>\n",
       "      <td>0.127678</td>\n",
       "      <td>0.151993</td>\n",
       "      <td>0.145032</td>\n",
       "      <td>0.157069</td>\n",
       "      <td>0.132911</td>\n",
       "      <td>0.131505</td>\n",
       "      <td>4.0</td>\n",
       "      <td>both</td>\n",
       "    </tr>\n",
       "  </tbody>\n",
       "</table>\n",
       "<p>6141 rows × 211 columns</p>\n",
       "</div>"
      ],
      "text/plain": [
       "      Unnamed: 0  PropertyKey_ID  Deal_id  Property_id Status_tx   Status_dt  \\\n",
       "0            503          258966   499814       464167    closed  15/03/2008   \n",
       "1            511          259004   488808       451626    closed  22/01/2008   \n",
       "2            512          259005   500721       465261    closed  15/03/2008   \n",
       "3            513          259006   502381       467404    closed  09/02/2007   \n",
       "4            514          259007  2309350      1997038    closed  28/03/2019   \n",
       "...          ...             ...      ...          ...       ...         ...   \n",
       "6136       83889         2385505  3729803      3717637    closed  29/03/2023   \n",
       "6137       83905         2386951  3732279      3720303    closed  30/03/2023   \n",
       "6138       83908         2387013  3732377      3720401    closed  31/03/2023   \n",
       "6139       84167         2403285  3758153      3747999    closed  20/04/2023   \n",
       "6140       84168         2403291  3758153      3748005    closed  20/04/2023   \n",
       "\n",
       "      TransType_tx      country               Main Type          SubType  ...  \\\n",
       "0     Entity Level  Netherlands               Apartment           Garden  ...   \n",
       "1             Sale  Netherlands                Dev Site         Dev Site  ...   \n",
       "2             Sale  Netherlands                Dev Site         Dev Site  ...   \n",
       "3             Sale  Netherlands                  Office     Office - Sub  ...   \n",
       "4             Sale  Netherlands                  Office     Office - Sub  ...   \n",
       "...            ...          ...                     ...              ...  ...   \n",
       "6136          Sale        Spain              Industrial        Warehouse  ...   \n",
       "6137          Sale        Spain                  Office     Office - Sub  ...   \n",
       "6138          Sale        Spain  Seniors Housing & Care  Seniors Housing  ...   \n",
       "6139          Sale        Spain                   Hotel  Limited Service  ...   \n",
       "6140          Sale        Spain                   Hotel     Full-Service  ...   \n",
       "\n",
       "     BldLenProxy   Class_0   Class_1   Class_2   Class_3   Class_4   Class_5  \\\n",
       "0       8.480678       NaN       NaN       NaN       NaN       NaN       NaN   \n",
       "1      33.402783       NaN       NaN       NaN       NaN       NaN       NaN   \n",
       "2      33.402783       NaN       NaN       NaN       NaN       NaN       NaN   \n",
       "3      33.402783       NaN       NaN       NaN       NaN       NaN       NaN   \n",
       "4      46.501498  0.055077  0.074929  0.223517  0.270844  0.138655  0.091719   \n",
       "...          ...       ...       ...       ...       ...       ...       ...   \n",
       "6136   56.329767       NaN       NaN       NaN       NaN       NaN       NaN   \n",
       "6137   50.229888       NaN       NaN       NaN       NaN       NaN       NaN   \n",
       "6138   34.945676  0.142200  0.152084  0.122710  0.195768  0.161963  0.123117   \n",
       "6139   24.292422  0.157876  0.130737  0.097879  0.149904  0.227711  0.130232   \n",
       "6140   17.366615  0.153813  0.127678  0.151993  0.145032  0.157069  0.132911   \n",
       "\n",
       "       Class_6  Predicted Class     _merge  \n",
       "0          NaN              NaN  left_only  \n",
       "1          NaN              NaN  left_only  \n",
       "2          NaN              NaN  left_only  \n",
       "3          NaN              NaN  left_only  \n",
       "4     0.145258              3.0       both  \n",
       "...        ...              ...        ...  \n",
       "6136       NaN              NaN  left_only  \n",
       "6137       NaN              NaN  left_only  \n",
       "6138  0.102158              3.0       both  \n",
       "6139  0.105661              4.0       both  \n",
       "6140  0.131505              4.0       both  \n",
       "\n",
       "[6141 rows x 211 columns]"
      ]
     },
     "execution_count": 31,
     "metadata": {},
     "output_type": "execute_result"
    }
   ],
   "source": [
    "main_df = main_df.drop(columns=['Unnamed: 0.1', 'index_right0', 'index_right1'])\n",
    "main_df"
   ]
  },
  {
   "cell_type": "code",
   "execution_count": 32,
   "metadata": {},
   "outputs": [],
   "source": [
    "main_df.to_csv('/workspace/workspace/ufo-prediction/main notebooks/rca-ufo-CNN.csv', index=False)"
   ]
  },
  {
   "cell_type": "code",
   "execution_count": 33,
   "metadata": {},
   "outputs": [
    {
     "data": {
      "text/plain": [
       "454"
      ]
     },
     "execution_count": 33,
     "metadata": {},
     "output_type": "execute_result"
    }
   ],
   "source": [
    "gc.collect()"
   ]
  }
 ],
 "metadata": {
  "kernelspec": {
   "display_name": "ufo-predict2 (Tensorflow 2.11.0)",
   "language": "python",
   "name": "kai-ufo-predict2"
  }
 },
 "nbformat": 4,
 "nbformat_minor": 2
}
